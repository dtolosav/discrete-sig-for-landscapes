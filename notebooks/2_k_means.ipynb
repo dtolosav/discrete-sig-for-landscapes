{
 "cells": [
  {
   "cell_type": "markdown",
   "id": "14c869be-6db8-470c-b9f2-5181fc16c39f",
   "metadata": {},
   "source": [
    "# k-means clustering using discrete signatures"
   ]
  },
  {
   "cell_type": "markdown",
   "id": "8788c77e-2c47-44ec-90ef-18476b084ea1",
   "metadata": {},
   "source": [
    "## 1. Prep Data"
   ]
  },
  {
   "cell_type": "markdown",
   "id": "f9c14de5-3351-45af-85da-3966bcb2793c",
   "metadata": {},
   "source": [
    "### 1.1. Load Data\n",
    "We load the signature data and the knot data"
   ]
  },
  {
   "cell_type": "code",
   "execution_count": 1,
   "id": "f8204b78-1038-4a56-8aeb-daab84b30825",
   "metadata": {},
   "outputs": [],
   "source": [
    "import re, os\n",
    "import pandas as pd\n",
    "import seaborn as sns\n",
    "import numpy as np\n",
    "import matplotlib.pyplot as plt\n",
    "from sklearn.feature_selection import VarianceThreshold\n",
    "from sklearn.metrics import adjusted_rand_score, normalized_mutual_info_score\n",
    "from sklearn.cluster import KMeans\n",
    "import matplotlib.pyplot as plt\n",
    "from sklearn.decomposition import PCA  # For dimensionality reduction"
   ]
  },
  {
   "cell_type": "code",
   "execution_count": 12,
   "id": "6f0e011e-4d15-4272-aa54-343c71f4b8e5",
   "metadata": {
    "scrolled": true
   },
   "outputs": [
    {
     "name": "stdout",
     "output_type": "stream",
     "text": [
      "trunc_level: 15, sig_weight: 3\n"
     ]
    }
   ],
   "source": [
    "filename = f'../results/tables/clustering_L15_W3_V0e+00_ARIstd0.96_ARInorm0.96_NMIstd0.90_NMInorm0.89_27May2025.csv' # replace with desired signatures to use\n",
    "\n",
    "# extract clustering parameters from filename\n",
    "match = re.search(r'L(\\d+)_W(\\d+)', filename)\n",
    "if match:\n",
    "    trunc_level = int(match.group(1))  # 15\n",
    "    sig_weight = int(match.group(2))   # 2\n",
    "else:\n",
    "    raise ValueError(\"Filename format incorrect - missing L/W parameters\")\n",
    "\n",
    "print(f\"trunc_level: {trunc_level}, sig_weight: {sig_weight}\")\n",
    "\n",
    "# Load the DataFrame from the CSV file\n",
    "df = pd.read_csv(filename)\n",
    "\n",
    "# Load the classification data\n",
    "classification_df = pd.read_csv('../data/external/trefoil_list.csv')\n",
    "# classification_df = classification_df[classification_df['Representative'] != 'Other']\n",
    "\n",
    "# Ensure the 'Landscape' column matches between the two DataFrames\n",
    "df['Chain'] = df['Chain'].astype(str)  # Ensure the column type is consistent\n",
    "classification_df['Chain'] = classification_df['Chain'].astype(str)\n",
    "\n"
   ]
  },
  {
   "cell_type": "code",
   "execution_count": 13,
   "id": "9fdece70-4d27-4ac9-8a27-d22ce9d0648c",
   "metadata": {},
   "outputs": [],
   "source": [
    "# df"
   ]
  },
  {
   "cell_type": "code",
   "execution_count": 14,
   "id": "61bf0475-b1cd-44a4-a3d5-a1e28447c3f3",
   "metadata": {},
   "outputs": [],
   "source": [
    "def safe_merge(df1, df2, merge_col='Chain', rep_col='Representative'):\n",
    "    \"\"\"\n",
    "    Merges DataFrames while handling duplicate 'Representative' columns intelligently\n",
    "    \n",
    "    Args:\n",
    "        df1, df2: DataFrames to merge\n",
    "        merge_col: Column to merge on (default 'Chains')\n",
    "        rep_col: Representative column name (default 'Representative')\n",
    "    \n",
    "    Returns:\n",
    "        Merged DataFrame with a single Representative column\n",
    "    \"\"\"\n",
    "    try:\n",
    "        # Attempt merge with duplicate handling\n",
    "        merged = df1.merge(df2, \n",
    "                          on=merge_col,\n",
    "                          suffixes=('', '_y'))\n",
    "        \n",
    "        # Check if duplicate columns were created\n",
    "        if f'{rep_col}_y' in merged.columns:\n",
    "            # Verify values match if both columns exist\n",
    "            if (merged[rep_col] == merged[f'{rep_col}_y']).all():\n",
    "                merged = merged.drop(columns=[f'{rep_col}_y'])\n",
    "            else:\n",
    "                print(\"Warning: Representative values differ between DataFrames\")\n",
    "                # Keep both columns but rename for clarity\n",
    "                merged = merged.rename(columns={\n",
    "                    rep_col: f'{rep_col}_x',\n",
    "                    f'{rep_col}_y': f'{rep_col}_y'\n",
    "                })\n",
    "        \n",
    "        return merged\n",
    "    \n",
    "    except Exception as e:\n",
    "        print(f\"Merge failed: {str(e)}\")\n",
    "        # Fallback to simple merge if unexpected error occurs\n",
    "        return df1.merge(df2, on=merge_col)\n",
    "\n"
   ]
  },
  {
   "cell_type": "code",
   "execution_count": 15,
   "id": "0cd416ff-6f2d-4d0a-a480-caaf03f0656d",
   "metadata": {},
   "outputs": [],
   "source": [
    "# Merge the DataFrames on the 'Landscape' column\n",
    "try:\n",
    "    merged_df = safe_merge(df, classification_df)\n",
    "except Exception as e:\n",
    "    print(f\"Error during merge: {e}\")\n",
    "    merged_df = None\n",
    "\n",
    "    \n",
    "# Keep only rows where Representative is NOT 'other'\n",
    "merged_df = merged_df[merged_df['Representative'] != 'Other']\n",
    "\n",
    "# Select the columns corresponding to the signature\n",
    "X = merged_df.drop(columns=['Landscape', 'Chain', 'Depth', 'Length', 'N-tail', 'C-tail', 'Representative','Depth_y','Length_y','N-tail_y','C-tail_y','Cluster_standardized','Cluster_normalized'])\n",
    "\n"
   ]
  },
  {
   "cell_type": "code",
   "execution_count": 16,
   "id": "94327b75-201a-479e-a1d2-72b429c52ecc",
   "metadata": {},
   "outputs": [],
   "source": [
    "# Display the merged DataFrame\n",
    "# merged_df.describe()\n",
    "# X.describe()"
   ]
  },
  {
   "cell_type": "code",
   "execution_count": 17,
   "id": "0a3055d2-4f23-4b9c-892b-2e2e0def296e",
   "metadata": {},
   "outputs": [
    {
     "data": {
      "text/plain": [
       "9"
      ]
     },
     "execution_count": 17,
     "metadata": {},
     "output_type": "execute_result"
    }
   ],
   "source": [
    "rep_list = merged_df['Representative'].unique()\n",
    "len(rep_list)"
   ]
  },
  {
   "cell_type": "markdown",
   "id": "d15d6275-c677-4349-acaf-6fd27ada2143",
   "metadata": {},
   "source": [
    "### 1.2. Hyperparameters"
   ]
  },
  {
   "cell_type": "code",
   "execution_count": 78,
   "id": "f8da7e4c-3e54-4612-bb52-2bda524dd878",
   "metadata": {},
   "outputs": [],
   "source": [
    "n_clusters = len(rep_list) # Adjust if you don't want the same number of clusters as the number of rep classes\n",
    "var_threshold = 0 # Adjust based on section 2. Ror the paper this was set at 0"
   ]
  },
  {
   "cell_type": "markdown",
   "id": "e46cf073-fa76-4d8b-be4f-acbc184d735a",
   "metadata": {},
   "source": [
    "### 1.3. Dimensionality reduction: ignoring features with low variance"
   ]
  },
  {
   "cell_type": "code",
   "execution_count": 18,
   "id": "ab504ac3-31c0-47ac-abb7-22ec852c6245",
   "metadata": {},
   "outputs": [],
   "source": [
    "# X.describe()"
   ]
  },
  {
   "cell_type": "code",
   "execution_count": 79,
   "id": "b8abfcb3-f1c0-4281-bf0c-fd11adc2f3a0",
   "metadata": {},
   "outputs": [
    {
     "data": {
      "image/png": "[encoded data removed]",
      "text/plain": [
       "<Figure size 1500x500 with 2 Axes>"
      ]
     },
     "metadata": {},
     "output_type": "display_data"
    },
    {
     "name": "stdout",
     "output_type": "stream",
     "text": [
      "Variance Statistics:\n",
      "count    8.015000e+03\n",
      "mean     7.314729e-02\n",
      "std      1.641564e-01\n",
      "min      0.000000e+00\n",
      "10%      5.818835e-10\n",
      "25%      1.248029e-09\n",
      "50%      3.533297e-09\n",
      "75%      7.003393e-02\n",
      "90%      2.372950e-01\n",
      "max      2.136507e+00\n",
      "dtype: float64\n",
      "\n",
      "Features below variance thresholds:\n",
      "1e-06: 4441 features (55.4%)\n",
      "1e-04: 4445 features (55.5%)\n",
      "1e-03: 4469 features (55.8%)\n",
      "1e-02: 4831 features (60.3%)\n",
      "1e-01: 6327 features (78.9%)\n",
      "\n",
      "10 lowest-variance features:\n",
      "[9]       0.0\n",
      "[(11)]    0.0\n",
      "[(14)]    0.0\n",
      "[(15)]    0.0\n",
      "[(10)]    0.0\n",
      "[4]       0.0\n",
      "[(12)]    0.0\n",
      "[8]       0.0\n",
      "[(13)]    0.0\n",
      "[1]       0.0\n",
      "dtype: float64\n",
      "\n",
      "Original features: 8015\n",
      "Features kept: 8005\n",
      "Features removed: 10\n"
     ]
    }
   ],
   "source": [
    "# Plot variance\n",
    "import pandas as pd\n",
    "\n",
    "# 1. Calculate feature variances\n",
    "variances = X.var(axis=0).sort_values()  # Series of variances sorted low to high\n",
    "\n",
    "# 2. Plotting\n",
    "plt.figure(figsize=(15, 5))\n",
    "\n",
    "# Plot 1: Ordered variance plot\n",
    "plt.subplot(1, 2, 1)\n",
    "variances.plot(logy=True, marker='o', title='Feature Variances (Sorted)')\n",
    "plt.axhline(y=var_threshold, color='r', linestyle='--', label=f'Threshold ({var_threshold})')\n",
    "plt.ylabel('Variance (log scale)')\n",
    "plt.xlabel('Feature Index (sorted)')\n",
    "plt.legend()\n",
    "\n",
    "# Need to adjust plaot 2!!\n",
    "# Plot 2: Variance distribution\n",
    "plt.subplot(1, 2, 2)\n",
    "plt.hist(variances, bins=50, log=True)\n",
    "plt.axvline(x=var_threshold, color='r', linestyle='--')\n",
    "plt.title('Variance Distribution')\n",
    "plt.xlabel('Variance')\n",
    "plt.ylabel('Number of Features (log scale)')\n",
    "\n",
    "plt.tight_layout()\n",
    "plt.show()\n",
    "\n",
    "# 3. Variance statistics\n",
    "print(\"Variance Statistics:\")\n",
    "print(variances.describe(percentiles=[.1, .25, .5, .75, .9]))\n",
    "\n",
    "# 4. Count features below potential thresholds\n",
    "thresholds = [1e-6, 1e-4, 1e-3, 0.01, 0.1]\n",
    "print(\"\\nFeatures below variance thresholds:\")\n",
    "for thresh in thresholds:\n",
    "    n_below = (variances < thresh).sum()\n",
    "    print(f\"{thresh:.0e}: {n_below} features ({n_below/len(variances):.1%})\")\n",
    "\n",
    "# 5. Show lowest-variance features\n",
    "print(\"\\n10 lowest-variance features:\")\n",
    "print(variances.head(10))\n",
    "\n",
    "# 6. Apply your chosen threshold\n",
    "selector = VarianceThreshold(threshold=var_threshold)\n",
    "X_filtered = selector.fit_transform(X)\n",
    "\n",
    "# Create new DataFrame with kept features\n",
    "kept_features = X.columns[selector.get_support()]\n",
    "df_filtered = pd.DataFrame(X_filtered, columns=kept_features)\n",
    "\n",
    "print(f\"\\nOriginal features: {X.shape[1]}\")\n",
    "print(f\"Features kept: {df_filtered.shape[1]}\")\n",
    "print(f\"Features removed: {X.shape[1] - df_filtered.shape[1]}\")"
   ]
  },
  {
   "cell_type": "code",
   "execution_count": 80,
   "id": "fcc5032b-87c9-4217-a209-ef2157d84106",
   "metadata": {},
   "outputs": [
    {
     "data": {
      "text/html": [
       "<div>\n",
       "<style scoped>\n",
       "    .dataframe tbody tr th:only-of-type {\n",
       "        vertical-align: middle;\n",
       "    }\n",
       "\n",
       "    .dataframe tbody tr th {\n",
       "        vertical-align: top;\n",
       "    }\n",
       "\n",
       "    .dataframe thead th {\n",
       "        text-align: right;\n",
       "    }\n",
       "</style>\n",
       "<table border=\"1\" class=\"dataframe\">\n",
       "  <thead>\n",
       "    <tr style=\"text-align: right;\">\n",
       "      <th></th>\n",
       "      <th>[111]</th>\n",
       "      <th>[112]</th>\n",
       "      <th>[113]</th>\n",
       "      <th>[114]</th>\n",
       "      <th>[115]</th>\n",
       "      <th>[116]</th>\n",
       "      <th>[117]</th>\n",
       "      <th>[118]</th>\n",
       "      <th>[119]</th>\n",
       "      <th>[11(10)]</th>\n",
       "      <th>...</th>\n",
       "      <th>[(15)][(15)][6]</th>\n",
       "      <th>[(15)][(15)][7]</th>\n",
       "      <th>[(15)][(15)][8]</th>\n",
       "      <th>[(15)][(15)][9]</th>\n",
       "      <th>[(15)][(15)][(10)]</th>\n",
       "      <th>[(15)][(15)][(11)]</th>\n",
       "      <th>[(15)][(15)][(12)]</th>\n",
       "      <th>[(15)][(15)][(13)]</th>\n",
       "      <th>[(15)][(15)][(14)]</th>\n",
       "      <th>[(15)][(15)][(15)]</th>\n",
       "    </tr>\n",
       "  </thead>\n",
       "  <tbody>\n",
       "    <tr>\n",
       "      <th>count</th>\n",
       "      <td>3.630000e+02</td>\n",
       "      <td>3.630000e+02</td>\n",
       "      <td>3.630000e+02</td>\n",
       "      <td>3.630000e+02</td>\n",
       "      <td>3.630000e+02</td>\n",
       "      <td>3.630000e+02</td>\n",
       "      <td>3.630000e+02</td>\n",
       "      <td>3.630000e+02</td>\n",
       "      <td>3.630000e+02</td>\n",
       "      <td>3.630000e+02</td>\n",
       "      <td>...</td>\n",
       "      <td>363.000000</td>\n",
       "      <td>363.000000</td>\n",
       "      <td>363.000000</td>\n",
       "      <td>363.000000</td>\n",
       "      <td>363.000000</td>\n",
       "      <td>363.000000</td>\n",
       "      <td>363.000000</td>\n",
       "      <td>363.000000</td>\n",
       "      <td>363.000000</td>\n",
       "      <td>3.630000e+02</td>\n",
       "    </tr>\n",
       "    <tr>\n",
       "      <th>mean</th>\n",
       "      <td>-4.302445e-05</td>\n",
       "      <td>-1.537689e-07</td>\n",
       "      <td>2.612860e-09</td>\n",
       "      <td>1.435533e-08</td>\n",
       "      <td>2.197751e-08</td>\n",
       "      <td>2.543603e-08</td>\n",
       "      <td>2.662712e-08</td>\n",
       "      <td>2.746906e-08</td>\n",
       "      <td>2.819171e-08</td>\n",
       "      <td>2.876732e-08</td>\n",
       "      <td>...</td>\n",
       "      <td>0.172714</td>\n",
       "      <td>0.157541</td>\n",
       "      <td>0.142940</td>\n",
       "      <td>0.122043</td>\n",
       "      <td>0.102439</td>\n",
       "      <td>0.080610</td>\n",
       "      <td>0.060168</td>\n",
       "      <td>0.040369</td>\n",
       "      <td>0.022643</td>\n",
       "      <td>9.746091e-09</td>\n",
       "    </tr>\n",
       "    <tr>\n",
       "      <th>std</th>\n",
       "      <td>7.903955e-04</td>\n",
       "      <td>1.483385e-06</td>\n",
       "      <td>5.087816e-08</td>\n",
       "      <td>3.570470e-08</td>\n",
       "      <td>1.106760e-08</td>\n",
       "      <td>9.543533e-09</td>\n",
       "      <td>1.238999e-08</td>\n",
       "      <td>1.345409e-08</td>\n",
       "      <td>1.394622e-08</td>\n",
       "      <td>1.470323e-08</td>\n",
       "      <td>...</td>\n",
       "      <td>0.080334</td>\n",
       "      <td>0.077226</td>\n",
       "      <td>0.069613</td>\n",
       "      <td>0.065036</td>\n",
       "      <td>0.059216</td>\n",
       "      <td>0.050894</td>\n",
       "      <td>0.040098</td>\n",
       "      <td>0.026611</td>\n",
       "      <td>0.018161</td>\n",
       "      <td>5.406932e-09</td>\n",
       "    </tr>\n",
       "    <tr>\n",
       "      <th>min</th>\n",
       "      <td>-1.462510e-02</td>\n",
       "      <td>-2.806469e-05</td>\n",
       "      <td>-3.552047e-07</td>\n",
       "      <td>-3.466895e-07</td>\n",
       "      <td>-4.210161e-08</td>\n",
       "      <td>-1.437262e-08</td>\n",
       "      <td>-1.962622e-08</td>\n",
       "      <td>-2.028314e-08</td>\n",
       "      <td>-1.402741e-08</td>\n",
       "      <td>-1.448840e-08</td>\n",
       "      <td>...</td>\n",
       "      <td>-0.000841</td>\n",
       "      <td>-0.013357</td>\n",
       "      <td>-0.015414</td>\n",
       "      <td>-0.024268</td>\n",
       "      <td>-0.026348</td>\n",
       "      <td>-0.023051</td>\n",
       "      <td>-0.029317</td>\n",
       "      <td>-0.028488</td>\n",
       "      <td>-0.021498</td>\n",
       "      <td>-1.173005e-09</td>\n",
       "    </tr>\n",
       "    <tr>\n",
       "      <th>25%</th>\n",
       "      <td>-3.752041e-07</td>\n",
       "      <td>-1.357440e-07</td>\n",
       "      <td>2.252521e-09</td>\n",
       "      <td>1.419363e-08</td>\n",
       "      <td>2.012989e-08</td>\n",
       "      <td>2.463933e-08</td>\n",
       "      <td>2.731418e-08</td>\n",
       "      <td>2.901293e-08</td>\n",
       "      <td>2.970053e-08</td>\n",
       "      <td>2.997106e-08</td>\n",
       "      <td>...</td>\n",
       "      <td>0.117245</td>\n",
       "      <td>0.096610</td>\n",
       "      <td>0.077392</td>\n",
       "      <td>0.069582</td>\n",
       "      <td>0.044835</td>\n",
       "      <td>0.030494</td>\n",
       "      <td>0.019066</td>\n",
       "      <td>0.015570</td>\n",
       "      <td>0.007716</td>\n",
       "      <td>1.028030e-08</td>\n",
       "    </tr>\n",
       "    <tr>\n",
       "      <th>50%</th>\n",
       "      <td>-2.233937e-07</td>\n",
       "      <td>-6.713342e-08</td>\n",
       "      <td>1.271257e-08</td>\n",
       "      <td>1.931787e-08</td>\n",
       "      <td>2.354953e-08</td>\n",
       "      <td>2.833495e-08</td>\n",
       "      <td>3.204267e-08</td>\n",
       "      <td>3.361851e-08</td>\n",
       "      <td>3.488661e-08</td>\n",
       "      <td>3.648763e-08</td>\n",
       "      <td>...</td>\n",
       "      <td>0.196674</td>\n",
       "      <td>0.181217</td>\n",
       "      <td>0.168076</td>\n",
       "      <td>0.148083</td>\n",
       "      <td>0.129576</td>\n",
       "      <td>0.100420</td>\n",
       "      <td>0.075582</td>\n",
       "      <td>0.049959</td>\n",
       "      <td>0.026061</td>\n",
       "      <td>1.280521e-08</td>\n",
       "    </tr>\n",
       "    <tr>\n",
       "      <th>75%</th>\n",
       "      <td>-1.801313e-07</td>\n",
       "      <td>-1.662425e-08</td>\n",
       "      <td>2.137378e-08</td>\n",
       "      <td>2.382163e-08</td>\n",
       "      <td>2.726718e-08</td>\n",
       "      <td>3.064571e-08</td>\n",
       "      <td>3.338107e-08</td>\n",
       "      <td>3.440048e-08</td>\n",
       "      <td>3.586892e-08</td>\n",
       "      <td>3.732261e-08</td>\n",
       "      <td>...</td>\n",
       "      <td>0.214669</td>\n",
       "      <td>0.204013</td>\n",
       "      <td>0.187218</td>\n",
       "      <td>0.168006</td>\n",
       "      <td>0.147187</td>\n",
       "      <td>0.117939</td>\n",
       "      <td>0.089231</td>\n",
       "      <td>0.059626</td>\n",
       "      <td>0.035410</td>\n",
       "      <td>1.308629e-08</td>\n",
       "    </tr>\n",
       "    <tr>\n",
       "      <th>max</th>\n",
       "      <td>2.913637e-03</td>\n",
       "      <td>1.750467e-06</td>\n",
       "      <td>7.952959e-08</td>\n",
       "      <td>8.979852e-08</td>\n",
       "      <td>5.030346e-08</td>\n",
       "      <td>4.181856e-08</td>\n",
       "      <td>4.180114e-08</td>\n",
       "      <td>4.275930e-08</td>\n",
       "      <td>3.966442e-08</td>\n",
       "      <td>3.947162e-08</td>\n",
       "      <td>...</td>\n",
       "      <td>0.496277</td>\n",
       "      <td>0.428245</td>\n",
       "      <td>0.381637</td>\n",
       "      <td>0.324600</td>\n",
       "      <td>0.283701</td>\n",
       "      <td>0.244910</td>\n",
       "      <td>0.209672</td>\n",
       "      <td>0.114877</td>\n",
       "      <td>0.079787</td>\n",
       "      <td>1.382038e-08</td>\n",
       "    </tr>\n",
       "  </tbody>\n",
       "</table>\n",
       "<p>8 rows × 8005 columns</p>\n",
       "</div>"
      ],
      "text/plain": [
       "              [111]         [112]         [113]         [114]         [115]  \\\n",
       "count  3.630000e+02  3.630000e+02  3.630000e+02  3.630000e+02  3.630000e+02   \n",
       "mean  -4.302445e-05 -1.537689e-07  2.612860e-09  1.435533e-08  2.197751e-08   \n",
       "std    7.903955e-04  1.483385e-06  5.087816e-08  3.570470e-08  1.106760e-08   \n",
       "min   -1.462510e-02 -2.806469e-05 -3.552047e-07 -3.466895e-07 -4.210161e-08   \n",
       "25%   -3.752041e-07 -1.357440e-07  2.252521e-09  1.419363e-08  2.012989e-08   \n",
       "50%   -2.233937e-07 -6.713342e-08  1.271257e-08  1.931787e-08  2.354953e-08   \n",
       "75%   -1.801313e-07 -1.662425e-08  2.137378e-08  2.382163e-08  2.726718e-08   \n",
       "max    2.913637e-03  1.750467e-06  7.952959e-08  8.979852e-08  5.030346e-08   \n",
       "\n",
       "              [116]         [117]         [118]         [119]      [11(10)]  \\\n",
       "count  3.630000e+02  3.630000e+02  3.630000e+02  3.630000e+02  3.630000e+02   \n",
       "mean   2.543603e-08  2.662712e-08  2.746906e-08  2.819171e-08  2.876732e-08   \n",
       "std    9.543533e-09  1.238999e-08  1.345409e-08  1.394622e-08  1.470323e-08   \n",
       "min   -1.437262e-08 -1.962622e-08 -2.028314e-08 -1.402741e-08 -1.448840e-08   \n",
       "25%    2.463933e-08  2.731418e-08  2.901293e-08  2.970053e-08  2.997106e-08   \n",
       "50%    2.833495e-08  3.204267e-08  3.361851e-08  3.488661e-08  3.648763e-08   \n",
       "75%    3.064571e-08  3.338107e-08  3.440048e-08  3.586892e-08  3.732261e-08   \n",
       "max    4.181856e-08  4.180114e-08  4.275930e-08  3.966442e-08  3.947162e-08   \n",
       "\n",
       "       ...  [(15)][(15)][6]  [(15)][(15)][7]  [(15)][(15)][8]  \\\n",
       "count  ...       363.000000       363.000000       363.000000   \n",
       "mean   ...         0.172714         0.157541         0.142940   \n",
       "std    ...         0.080334         0.077226         0.069613   \n",
       "min    ...        -0.000841        -0.013357        -0.015414   \n",
       "25%    ...         0.117245         0.096610         0.077392   \n",
       "50%    ...         0.196674         0.181217         0.168076   \n",
       "75%    ...         0.214669         0.204013         0.187218   \n",
       "max    ...         0.496277         0.428245         0.381637   \n",
       "\n",
       "       [(15)][(15)][9]  [(15)][(15)][(10)]  [(15)][(15)][(11)]  \\\n",
       "count       363.000000          363.000000          363.000000   \n",
       "mean          0.122043            0.102439            0.080610   \n",
       "std           0.065036            0.059216            0.050894   \n",
       "min          -0.024268           -0.026348           -0.023051   \n",
       "25%           0.069582            0.044835            0.030494   \n",
       "50%           0.148083            0.129576            0.100420   \n",
       "75%           0.168006            0.147187            0.117939   \n",
       "max           0.324600            0.283701            0.244910   \n",
       "\n",
       "       [(15)][(15)][(12)]  [(15)][(15)][(13)]  [(15)][(15)][(14)]  \\\n",
       "count          363.000000          363.000000          363.000000   \n",
       "mean             0.060168            0.040369            0.022643   \n",
       "std              0.040098            0.026611            0.018161   \n",
       "min             -0.029317           -0.028488           -0.021498   \n",
       "25%              0.019066            0.015570            0.007716   \n",
       "50%              0.075582            0.049959            0.026061   \n",
       "75%              0.089231            0.059626            0.035410   \n",
       "max              0.209672            0.114877            0.079787   \n",
       "\n",
       "       [(15)][(15)][(15)]  \n",
       "count        3.630000e+02  \n",
       "mean         9.746091e-09  \n",
       "std          5.406932e-09  \n",
       "min         -1.173005e-09  \n",
       "25%          1.028030e-08  \n",
       "50%          1.280521e-08  \n",
       "75%          1.308629e-08  \n",
       "max          1.382038e-08  \n",
       "\n",
       "[8 rows x 8005 columns]"
      ]
     },
     "execution_count": 80,
     "metadata": {},
     "output_type": "execute_result"
    }
   ],
   "source": [
    "# Update your signatures after discrding low variance features\n",
    "X= df_filtered\n",
    "# X.describe()"
   ]
  },
  {
   "cell_type": "markdown",
   "id": "88fade0b-a9eb-4718-b489-770ca3f5f178",
   "metadata": {},
   "source": [
    "### 1.4. Standardize the data"
   ]
  },
  {
   "cell_type": "code",
   "execution_count": 81,
   "id": "82e0ef05-799f-40cd-8a93-3491dcceeaf6",
   "metadata": {},
   "outputs": [],
   "source": [
    "from sklearn.preprocessing import StandardScaler,  MinMaxScaler\n",
    "\n",
    "# Initialize the StandardScaler\n",
    "scaler = StandardScaler()\n",
    "\n",
    "# Standardize the data\n",
    "X_standardized = pd.DataFrame(scaler.fit_transform(X), columns=X.columns)\n",
    "\n",
    "# Display the standardized DataFrame\n",
    "# print(X_standardized)"
   ]
  },
  {
   "cell_type": "markdown",
   "id": "c6e8b4ae-5f34-4fbc-b417-7c55162f3a13",
   "metadata": {},
   "source": [
    "## 2. Perform k-means on prepped data"
   ]
  },
  {
   "cell_type": "code",
   "execution_count": 82,
   "id": "801ec529-0bca-4fda-92cf-c55da93f7153",
   "metadata": {},
   "outputs": [],
   "source": [
    "# k-mean on the standardized data\n",
    "\n",
    "# Perform k-Means clustering\n",
    "kmeans = KMeans(n_clusters, random_state=42)  # Choose the number of clusters\n",
    "clusters_std = kmeans.fit_predict(X_standardized)\n",
    "\n",
    "# Add the cluster labels to the DataFrame\n",
    "merged_df['Cluster_standardized'] = clusters_std"
   ]
  },
  {
   "cell_type": "markdown",
   "id": "9452a215-b489-4b3c-891c-a8e84960bcaf",
   "metadata": {},
   "source": [
    "## 3. Compare k-means and classification by representative (sequence similarity) \n",
    "We now check compatibility between the k-means clustering(s) and the classification in terms of the knot representative"
   ]
  },
  {
   "cell_type": "code",
   "execution_count": 83,
   "id": "d03a1d7b-8ec8-47d2-a151-b04d2d4f0dca",
   "metadata": {},
   "outputs": [
    {
     "name": "stdout",
     "output_type": "stream",
     "text": [
      "Variance Threshold: 0\n",
      "Adjusted Rand Index (ARI) [Standardized data]: 0.96\n",
      "Normalized Mutual Information (NMI): 0.90\n"
     ]
    }
   ],
   "source": [
    "from sklearn.metrics import adjusted_rand_score, normalized_mutual_info_score\n",
    "# Extract the ground truth labels and cluster labels\n",
    "true_labels = merged_df['Representative']\n",
    "cluster_std_labels = merged_df['Cluster_standardized'].astype(str)\n",
    "\n",
    "print(f\"Variance Threshold: {var_threshold}\")\n",
    "# Compute the Adjusted Rand Index (ARI)\n",
    "ari_std = adjusted_rand_score(true_labels, cluster_std_labels)\n",
    "print(f\"Adjusted Rand Index (ARI) [Standardized data]: {ari_std:.2f}\")\n",
    "\n",
    "# Compute the Normalized Mutual Information (NMI)\n",
    "nmi_std = normalized_mutual_info_score(true_labels, cluster_std_labels)\n",
    "print(f\"Normalized Mutual Information (NMI): {nmi_std:.2f}\")"
   ]
  },
  {
   "cell_type": "markdown",
   "id": "2821d1a2-9866-43d2-b0c4-d623ef5909f1",
   "metadata": {},
   "source": [
    "### 3.1. [Optional] Save the large dataframe"
   ]
  },
  {
   "cell_type": "code",
   "execution_count": 84,
   "id": "74127def-d130-485e-aaea-a7890bacc182",
   "metadata": {},
   "outputs": [
    {
     "name": "stdout",
     "output_type": "stream",
     "text": [
      "Saved: ../results/tables/clustering_L15_W3_V0e+00_ARIstd0.96_NMIstd0.90_27May2025.csv\n"
     ]
    }
   ],
   "source": [
    "# Optional: save the large data frame\n",
    "from datetime import datetime\n",
    "\n",
    "# Human-readable date (e.g., \"21May2024\")\n",
    "date_str = datetime.now().strftime(\"%d%b%Y\")  # %b = abbreviated month (Jan, Feb, etc.)\n",
    "\n",
    "# Compact metrics notation (adjust precision as needed)\n",
    "metrics_str = f\"A{ari_std:.2f}_N{nmi_std:.2f}\"\n",
    "\n",
    "# Final filename\n",
    "filename = (\n",
    "    f\"../results/tables/clustering_L{trunc_level}_W{sig_weight}_V{var_threshold:.0e}_\"\n",
    "    f\"ARIstd{ari_std:.2f}_\"\n",
    "    f\"NMIstd{nmi_std:.2f}_\"\n",
    "    f\"{date_str}.csv\"\n",
    ")\n",
    "merged_df.to_csv(filename, index=False)\n",
    "print(f\"Saved: {filename}\")"
   ]
  },
  {
   "cell_type": "markdown",
   "id": "45d468fb-9cbe-4d70-b4ee-f477fa6297c1",
   "metadata": {},
   "source": [
    "### 3.2 Log results in Master dataframe"
   ]
  },
  {
   "cell_type": "code",
   "execution_count": 13,
   "id": "fcd352b4-5b33-442a-acaa-a26c9932ef10",
   "metadata": {},
   "outputs": [],
   "source": [
    "# Initialize empty DataFrame (if starting fresh)\n",
    "# columns = [\n",
    "#     'variance_threshold', 'truncation_level', 'signature_weight', 'n_clusters',\n",
    "#     'ARI_standardized', 'ARI_normalized', 'NMI_standardized', 'NMI_normalized'\n",
    "# ]\n",
    "# master_results_df = pd.DataFrame(columns=columns)\n",
    "\n",
    "# # Add first entry\n",
    "# new_entry = {\n",
    "#     'variance_threshold': -1,\n",
    "#     'truncation_level': 4,\n",
    "#     'signature_weight': 2,\n",
    "#     'n_clusters': 6,\n",
    "#     'ARI_standardized': 0.38,\n",
    "#     'NMI_standardized': 0.30,\n",
    "# }\n",
    "# master_results_df = pd.concat([master_results_df, pd.DataFrame([new_entry])], ignore_index=True)"
   ]
  },
  {
   "cell_type": "code",
   "execution_count": 87,
   "id": "041b672e-e3e4-4c9f-bb81-cc194f319a97",
   "metadata": {},
   "outputs": [
    {
     "name": "stdout",
     "output_type": "stream",
     "text": [
      "Loaded successfully! Shape: (10, 6)\n"
     ]
    }
   ],
   "source": [
    "# Load DataFrame if continuing to add results\n",
    "try:\n",
    "    master_results_df = pd.read_csv('../results/tables/master_results_comparison_kmeans_sig_V_representatives_x1_dropOther.csv', encoding='utf-8')\n",
    "    print(\"Loaded successfully! Shape:\", master_results_df.shape)\n",
    "except FileNotFoundError:\n",
    "    print(\"File not found!\")\n",
    "except Exception as e:\n",
    "    print(\"Error:\", str(e))"
   ]
  },
  {
   "cell_type": "code",
   "execution_count": 88,
   "id": "e9ef2e49-1ec2-4073-a9df-977871e587c5",
   "metadata": {},
   "outputs": [
    {
     "data": {
      "text/html": [
       "<div>\n",
       "<style scoped>\n",
       "    .dataframe tbody tr th:only-of-type {\n",
       "        vertical-align: middle;\n",
       "    }\n",
       "\n",
       "    .dataframe tbody tr th {\n",
       "        vertical-align: top;\n",
       "    }\n",
       "\n",
       "    .dataframe thead th {\n",
       "        text-align: right;\n",
       "    }\n",
       "</style>\n",
       "<table border=\"1\" class=\"dataframe\">\n",
       "  <thead>\n",
       "    <tr style=\"text-align: right;\">\n",
       "      <th></th>\n",
       "      <th>variance_threshold</th>\n",
       "      <th>truncation_level</th>\n",
       "      <th>signature_weight</th>\n",
       "      <th>n_clusters</th>\n",
       "      <th>ARI_standardized</th>\n",
       "      <th>NMI_standardized</th>\n",
       "    </tr>\n",
       "  </thead>\n",
       "  <tbody>\n",
       "    <tr>\n",
       "      <th>0</th>\n",
       "      <td>0.000000e+00</td>\n",
       "      <td>10.0</td>\n",
       "      <td>2.0</td>\n",
       "      <td>9.0</td>\n",
       "      <td>0.455478</td>\n",
       "      <td>0.634319</td>\n",
       "    </tr>\n",
       "    <tr>\n",
       "      <th>1</th>\n",
       "      <td>0.000000e+00</td>\n",
       "      <td>10.0</td>\n",
       "      <td>2.0</td>\n",
       "      <td>7.0</td>\n",
       "      <td>0.867993</td>\n",
       "      <td>0.747505</td>\n",
       "    </tr>\n",
       "    <tr>\n",
       "      <th>2</th>\n",
       "      <td>0.000000e+00</td>\n",
       "      <td>10.0</td>\n",
       "      <td>2.0</td>\n",
       "      <td>5.0</td>\n",
       "      <td>0.746163</td>\n",
       "      <td>0.704894</td>\n",
       "    </tr>\n",
       "    <tr>\n",
       "      <th>3</th>\n",
       "      <td>0.000000e+00</td>\n",
       "      <td>10.0</td>\n",
       "      <td>2.0</td>\n",
       "      <td>8.0</td>\n",
       "      <td>0.468378</td>\n",
       "      <td>0.634098</td>\n",
       "    </tr>\n",
       "    <tr>\n",
       "      <th>4</th>\n",
       "      <td>0.000000e+00</td>\n",
       "      <td>10.0</td>\n",
       "      <td>2.0</td>\n",
       "      <td>6.0</td>\n",
       "      <td>0.731497</td>\n",
       "      <td>0.683264</td>\n",
       "    </tr>\n",
       "    <tr>\n",
       "      <th>5</th>\n",
       "      <td>0.000000e+00</td>\n",
       "      <td>10.0</td>\n",
       "      <td>2.0</td>\n",
       "      <td>15.0</td>\n",
       "      <td>0.370048</td>\n",
       "      <td>0.635436</td>\n",
       "    </tr>\n",
       "    <tr>\n",
       "      <th>6</th>\n",
       "      <td>0.000000e+00</td>\n",
       "      <td>5.0</td>\n",
       "      <td>3.0</td>\n",
       "      <td>8.0</td>\n",
       "      <td>0.586025</td>\n",
       "      <td>0.527567</td>\n",
       "    </tr>\n",
       "    <tr>\n",
       "      <th>7</th>\n",
       "      <td>1.000000e-09</td>\n",
       "      <td>5.0</td>\n",
       "      <td>3.0</td>\n",
       "      <td>9.0</td>\n",
       "      <td>0.496869</td>\n",
       "      <td>0.482446</td>\n",
       "    </tr>\n",
       "    <tr>\n",
       "      <th>8</th>\n",
       "      <td>0.000000e+00</td>\n",
       "      <td>15.0</td>\n",
       "      <td>2.0</td>\n",
       "      <td>9.0</td>\n",
       "      <td>0.538607</td>\n",
       "      <td>0.738347</td>\n",
       "    </tr>\n",
       "    <tr>\n",
       "      <th>9</th>\n",
       "      <td>0.000000e+00</td>\n",
       "      <td>15.0</td>\n",
       "      <td>3.0</td>\n",
       "      <td>9.0</td>\n",
       "      <td>0.949612</td>\n",
       "      <td>0.869305</td>\n",
       "    </tr>\n",
       "  </tbody>\n",
       "</table>\n",
       "</div>"
      ],
      "text/plain": [
       "   variance_threshold  truncation_level  signature_weight  n_clusters  \\\n",
       "0        0.000000e+00              10.0               2.0         9.0   \n",
       "1        0.000000e+00              10.0               2.0         7.0   \n",
       "2        0.000000e+00              10.0               2.0         5.0   \n",
       "3        0.000000e+00              10.0               2.0         8.0   \n",
       "4        0.000000e+00              10.0               2.0         6.0   \n",
       "5        0.000000e+00              10.0               2.0        15.0   \n",
       "6        0.000000e+00               5.0               3.0         8.0   \n",
       "7        1.000000e-09               5.0               3.0         9.0   \n",
       "8        0.000000e+00              15.0               2.0         9.0   \n",
       "9        0.000000e+00              15.0               3.0         9.0   \n",
       "\n",
       "   ARI_standardized  NMI_standardized  \n",
       "0          0.455478          0.634319  \n",
       "1          0.867993          0.747505  \n",
       "2          0.746163          0.704894  \n",
       "3          0.468378          0.634098  \n",
       "4          0.731497          0.683264  \n",
       "5          0.370048          0.635436  \n",
       "6          0.586025          0.527567  \n",
       "7          0.496869          0.482446  \n",
       "8          0.538607          0.738347  \n",
       "9          0.949612          0.869305  "
      ]
     },
     "execution_count": 88,
     "metadata": {},
     "output_type": "execute_result"
    }
   ],
   "source": [
    "# Verify load\n",
    "# print(master_results_df.head())  # First 5 rows\n",
    "# print(master_results_df.info())  # Data types and memory usage\n",
    "master_results_df"
   ]
  },
  {
   "cell_type": "code",
   "execution_count": 19,
   "id": "ef38402e-6dd6-47ea-8dfa-ee1449a483a1",
   "metadata": {},
   "outputs": [],
   "source": [
    "# Add next entry\n",
    "# master_results_df.loc[len(master_results_df)] = [\n",
    "#     var_threshold,  # variance_threshold\n",
    "#     trunc_level,     # truncation_level\n",
    "#     sig_weight,     # signature_weight\n",
    "#     n_clusters,    # n_clusters\n",
    "#     ari_std,  # ARI_standardized\n",
    "#     nmi_std,  # NMI_standardized\n",
    "# ]"
   ]
  },
  {
   "cell_type": "code",
   "execution_count": 20,
   "id": "570ab4d5-2438-450d-908c-438310fa8899",
   "metadata": {
    "scrolled": true
   },
   "outputs": [],
   "source": [
    "# master_results_df"
   ]
  },
  {
   "cell_type": "code",
   "execution_count": 21,
   "id": "4b677fd9-6e88-4644-b9c2-c426017f24f2",
   "metadata": {},
   "outputs": [],
   "source": [
    "# Save results\n",
    "\n",
    "# # Generate the filename\n",
    "# filename = f'../results/tables/master_results_comparison_kmeans_sig_V_representatives_x1_dropOther.csv'\n",
    "\n",
    "# # Save the DataFrame\n",
    "# master_results_df.to_csv(filename, index=False)\n",
    "\n",
    "# print(f\"Data saved to {filename}\")"
   ]
  },
  {
   "cell_type": "markdown",
   "id": "e298c7f7-c973-4164-ba7c-ed2565975e4f",
   "metadata": {},
   "source": [
    "## 4. Visualize results"
   ]
  },
  {
   "cell_type": "markdown",
   "id": "d98043a2-7df9-413e-8564-59ac6d5e117f",
   "metadata": {},
   "source": [
    "(Optional) Load previously computed clustering "
   ]
  },
  {
   "cell_type": "code",
   "execution_count": 2,
   "id": "14bd5564-dd8a-45d6-a1e6-ae5aba86d37b",
   "metadata": {},
   "outputs": [],
   "source": [
    "# Load the DataFrame from the CSV file\n",
    "clustering_file =  f'../results/tables/clustering_L15_W3_V0e+00_ARIstd0.96_ARInorm0.96_NMIstd0.90_NMInorm0.89_27May2025.csv'\n",
    "merged_df = pd.read_csv(clustering_file)"
   ]
  },
  {
   "cell_type": "code",
   "execution_count": 7,
   "id": "5e78fa49-896d-4ac6-930a-f76e4a47d272",
   "metadata": {},
   "outputs": [],
   "source": [
    "# merged_df"
   ]
  },
  {
   "cell_type": "markdown",
   "id": "7c397b50-e95d-4931-b852-7dfb03e0215e",
   "metadata": {},
   "source": [
    "### 4.1. Histogram"
   ]
  },
  {
   "cell_type": "code",
   "execution_count": 10,
   "id": "275857ee-21ea-41b4-8303-a540166721f6",
   "metadata": {},
   "outputs": [],
   "source": [
    "# Custom color scheme compatible with the proteins paper\n",
    "rep_classes = ['4QEF', '1FUG', '1J85', '1UAK', \n",
    "               '3ZNC', '2V3J', '3KZK', '6QQW', '6RQQ']\n",
    "rep_colors = [\n",
    "    '#1A4B8C',  # denim blue (4qef_A)\n",
    "    '#B784A7',  # mauve (1fug_A)\n",
    "    '#FF69B4',  # BRIGHT PINK (1j85_A) - changed from #FFC0CB\n",
    "    '#228B22',  # green (1uak_A)\n",
    "    '#FFA500',  # orange (3znc_A)\n",
    "    '#FF0000',  # red (2v3j_A)\n",
    "    '#87CEEB',  # sky blue (3kzk_A)\n",
    "    '#FFFF00',  # yellow (6qqw_A)\n",
    "    '#2A0A5E'   # dark blue-violet (6rqq_A)\n",
    "]\n",
    "rep_color_dict = dict(zip(rep_classes, rep_colors))"
   ]
  },
  {
   "cell_type": "code",
   "execution_count": 4,
   "id": "3a57c7bd-981d-4de4-8a63-a8adfd2dd0a4",
   "metadata": {},
   "outputs": [
    {
     "data": {
      "image/png": "[encoded data removed]",
      "text/plain": [
       "<Figure size 640x480 with 1 Axes>"
      ]
     },
     "metadata": {},
     "output_type": "display_data"
    }
   ],
   "source": [
    "# Create a cross-tabulation of clusters and classes\n",
    "cross_tab = pd.crosstab(merged_df['Cluster_standardized'], merged_df['Representative'])\n",
    "\n",
    "# Plot the stacked bar plot\n",
    "cross_tab.plot(kind='bar', stacked=True, colormap='turbo')\n",
    "# plt.title(\"Cluster vs Class Representative Distribution\")\n",
    "plt.xlabel(\"Cluster\")\n",
    "plt.ylabel(\"Count\")\n",
    "plt.legend(title=\"Rep\")\n",
    "plt.show()"
   ]
  },
  {
   "cell_type": "code",
   "execution_count": 33,
   "id": "f6d69227-2185-43ba-ba1f-2176181c84f0",
   "metadata": {},
   "outputs": [
    {
     "data": {
      "image/png": "[encoded data removed]",
      "text/plain": [
       "<Figure size 800x600 with 1 Axes>"
      ]
     },
     "metadata": {},
     "output_type": "display_data"
    }
   ],
   "source": [
    "import matplotlib.pyplot as plt\n",
    "import pandas as pd\n",
    "\n",
    "# Create cross-tabulation\n",
    "cross_tab = pd.crosstab(merged_df['Cluster_standardized'], merged_df['Representative'])\n",
    "\n",
    "# Custom settings\n",
    "custom_colors = rep_color_dict  # Modify as needed\n",
    "\n",
    "# Remove \"_A\" from labels AND convert to uppercase\n",
    "cross_tab.columns = cross_tab.columns.str.replace('_A$', '', regex=True).str.upper()\n",
    "\n",
    "# Create plot with full customization\n",
    "fig, ax = plt.subplots(figsize=(8, 6))\n",
    "\n",
    "cross_tab.plot(kind='bar', stacked=True, \n",
    "               color=custom_colors,  # Use custom colors\n",
    "               ax=ax)\n",
    "\n",
    "# Axis and label formatting\n",
    "ax.set_xlabel(\"Cluster\", fontsize=14)  # Adjust fontsize\n",
    "ax.set_ylabel(\"Count\", fontsize=14)\n",
    "ax.tick_params(axis='both', which='major', labelsize=14)  # Tick label size\n",
    "ax.set_xticklabels(ax.get_xticklabels(), rotation=0)  # Horizontal x-axis ticks\n",
    "\n",
    "# Legend customization\n",
    "legend = ax.legend(title=\"Representative\", \n",
    "          # bbox_to_anchor=(1.05, 1),  # Moves legend outside plot\n",
    "          loc='upper right',\n",
    "          fontsize=14,\n",
    "                  title_fontsize =14)  # Legend font size\n",
    "plt.tight_layout()  # Prevents label cutoff\n",
    "# plt.show()"
   ]
  },
  {
   "cell_type": "code",
   "execution_count": 34,
   "id": "96cb87e8-713e-4cbc-9085-c26b3fd66933",
   "metadata": {},
   "outputs": [],
   "source": [
    "# Save the figure\n",
    "from datetime import datetime\n",
    "# trunc_level = 15\n",
    "# sig_weight = 3\n",
    "# var_threshold = 0\n",
    "# n_clusters = 9\n",
    "# Human-readable date (e.g., \"21May2024\")\n",
    "date_str = datetime.now().strftime(\"%d%b%Y\")  # %b = abbreviated month (Jan, Feb, etc.)\n",
    "\n",
    "\n",
    "hist_figname= f'../results/fig/hplot_cluster_v_rep_x1_L{trunc_level}_W{sig_weight}_thresh_{var_threshold}_Clusters_{n_clusters}_{date_str}.png'\n",
    "fig.savefig(hist_figname, dpi=300, bbox_inches='tight')\n",
    "# fig.close()  # Prevents duplicate display in notebook"
   ]
  },
  {
   "cell_type": "markdown",
   "id": "7fc351e6-2f1c-4f95-a42c-cbb07b00e991",
   "metadata": {},
   "source": [
    "### 4.2. Format the results table for better display"
   ]
  },
  {
   "cell_type": "code",
   "execution_count": 23,
   "id": "f2297838-4122-4401-8ffd-5cff3fb57f49",
   "metadata": {},
   "outputs": [],
   "source": [
    "Y = master_results_df.drop(columns=['variance_threshold'])\n",
    "Y = Y.rename(columns={'ARI_standardized': 'ARI', 'NMI_standardized': 'NMI'})\n",
    "new_order = ['truncation_level', 'signature_weight', 'n_clusters', \n",
    "             'ARI', 'NMI']"
   ]
  },
  {
   "cell_type": "code",
   "execution_count": 24,
   "id": "5af545c1-15a4-4c8b-a9aa-9c6813e74df0",
   "metadata": {},
   "outputs": [],
   "source": [
    "def highlight_top_rows(row):\n",
    "    return ['background-color: yellow' if row['ARI'] > 0.9 else '' for _ in row]\n"
   ]
  },
  {
   "cell_type": "code",
   "execution_count": 25,
   "id": "b0ef9b50-f7ca-494f-acc8-0f90b89dd3a6",
   "metadata": {},
   "outputs": [],
   "source": [
    "# Style integers as integers, floats with 2 decimals\n",
    "styled_df = Y.sort_values('ARI', ascending=False).style.format({\n",
    "    'truncation_level': '{:.0f}',         # No decimals for integers\n",
    "    'signature_weight' : '{:.0f}',\n",
    "    'n_clusters' : '{:.0f}',\n",
    "    'ARI': '{:.3f}',         # 2 decimals for metrics\n",
    "    'NMI': '{:.3f}'\n",
    "}).apply(highlight_top_rows, axis=1).set_properties(**{\n",
    "    'border': '1px solid black',\n",
    "    'text-align': 'center'\n",
    "}).set_table_styles([\n",
    "    {  # Style for headers\n",
    "        'selector': 'th',\n",
    "        'props': [\n",
    "            ('background-color', '#404040'),\n",
    "            ('color', 'white'),\n",
    "            ('width', '100px')  # Fixed width for all headers\n",
    "        ]\n",
    "    },\n",
    "    {  # Style for data cells (to match headers)\n",
    "        'selector': 'td',\n",
    "        'props': [\n",
    "            ('width', '100px')  # Same width as headers\n",
    "        ]\n",
    "    }\n",
    "])"
   ]
  },
  {
   "cell_type": "code",
   "execution_count": 26,
   "id": "3b682384-4bff-40e4-8aed-8a42489b9d97",
   "metadata": {},
   "outputs": [
    {
     "data": {
      "text/html": [
       "<style type=\"text/css\">\n",
       "#T_0ee5e th {\n",
       "  background-color: #404040;\n",
       "  color: white;\n",
       "  width: 100px;\n",
       "}\n",
       "#T_0ee5e td {\n",
       "  width: 100px;\n",
       "}\n",
       "#T_0ee5e_row0_col0, #T_0ee5e_row0_col1, #T_0ee5e_row0_col2, #T_0ee5e_row0_col3, #T_0ee5e_row0_col4 {\n",
       "  background-color: yellow;\n",
       "  border: 1px solid black;\n",
       "  text-align: center;\n",
       "  background-color: yellow;\n",
       "}\n",
       "#T_0ee5e_row1_col0, #T_0ee5e_row1_col1, #T_0ee5e_row1_col2, #T_0ee5e_row1_col3, #T_0ee5e_row1_col4, #T_0ee5e_row2_col0, #T_0ee5e_row2_col1, #T_0ee5e_row2_col2, #T_0ee5e_row2_col3, #T_0ee5e_row2_col4, #T_0ee5e_row3_col0, #T_0ee5e_row3_col1, #T_0ee5e_row3_col2, #T_0ee5e_row3_col3, #T_0ee5e_row3_col4, #T_0ee5e_row4_col0, #T_0ee5e_row4_col1, #T_0ee5e_row4_col2, #T_0ee5e_row4_col3, #T_0ee5e_row4_col4, #T_0ee5e_row5_col0, #T_0ee5e_row5_col1, #T_0ee5e_row5_col2, #T_0ee5e_row5_col3, #T_0ee5e_row5_col4, #T_0ee5e_row6_col0, #T_0ee5e_row6_col1, #T_0ee5e_row6_col2, #T_0ee5e_row6_col3, #T_0ee5e_row6_col4, #T_0ee5e_row7_col0, #T_0ee5e_row7_col1, #T_0ee5e_row7_col2, #T_0ee5e_row7_col3, #T_0ee5e_row7_col4, #T_0ee5e_row8_col0, #T_0ee5e_row8_col1, #T_0ee5e_row8_col2, #T_0ee5e_row8_col3, #T_0ee5e_row8_col4, #T_0ee5e_row9_col0, #T_0ee5e_row9_col1, #T_0ee5e_row9_col2, #T_0ee5e_row9_col3, #T_0ee5e_row9_col4 {\n",
       "  border: 1px solid black;\n",
       "  text-align: center;\n",
       "}\n",
       "</style>\n",
       "<table id=\"T_0ee5e\">\n",
       "  <thead>\n",
       "    <tr>\n",
       "      <th class=\"blank level0\" >&nbsp;</th>\n",
       "      <th id=\"T_0ee5e_level0_col0\" class=\"col_heading level0 col0\" >truncation_level</th>\n",
       "      <th id=\"T_0ee5e_level0_col1\" class=\"col_heading level0 col1\" >signature_weight</th>\n",
       "      <th id=\"T_0ee5e_level0_col2\" class=\"col_heading level0 col2\" >n_clusters</th>\n",
       "      <th id=\"T_0ee5e_level0_col3\" class=\"col_heading level0 col3\" >ARI</th>\n",
       "      <th id=\"T_0ee5e_level0_col4\" class=\"col_heading level0 col4\" >NMI</th>\n",
       "    </tr>\n",
       "  </thead>\n",
       "  <tbody>\n",
       "    <tr>\n",
       "      <th id=\"T_0ee5e_level0_row0\" class=\"row_heading level0 row0\" >9</th>\n",
       "      <td id=\"T_0ee5e_row0_col0\" class=\"data row0 col0\" >15</td>\n",
       "      <td id=\"T_0ee5e_row0_col1\" class=\"data row0 col1\" >3</td>\n",
       "      <td id=\"T_0ee5e_row0_col2\" class=\"data row0 col2\" >9</td>\n",
       "      <td id=\"T_0ee5e_row0_col3\" class=\"data row0 col3\" >0.950</td>\n",
       "      <td id=\"T_0ee5e_row0_col4\" class=\"data row0 col4\" >0.869</td>\n",
       "    </tr>\n",
       "    <tr>\n",
       "      <th id=\"T_0ee5e_level0_row1\" class=\"row_heading level0 row1\" >1</th>\n",
       "      <td id=\"T_0ee5e_row1_col0\" class=\"data row1 col0\" >10</td>\n",
       "      <td id=\"T_0ee5e_row1_col1\" class=\"data row1 col1\" >2</td>\n",
       "      <td id=\"T_0ee5e_row1_col2\" class=\"data row1 col2\" >7</td>\n",
       "      <td id=\"T_0ee5e_row1_col3\" class=\"data row1 col3\" >0.868</td>\n",
       "      <td id=\"T_0ee5e_row1_col4\" class=\"data row1 col4\" >0.748</td>\n",
       "    </tr>\n",
       "    <tr>\n",
       "      <th id=\"T_0ee5e_level0_row2\" class=\"row_heading level0 row2\" >2</th>\n",
       "      <td id=\"T_0ee5e_row2_col0\" class=\"data row2 col0\" >10</td>\n",
       "      <td id=\"T_0ee5e_row2_col1\" class=\"data row2 col1\" >2</td>\n",
       "      <td id=\"T_0ee5e_row2_col2\" class=\"data row2 col2\" >5</td>\n",
       "      <td id=\"T_0ee5e_row2_col3\" class=\"data row2 col3\" >0.746</td>\n",
       "      <td id=\"T_0ee5e_row2_col4\" class=\"data row2 col4\" >0.705</td>\n",
       "    </tr>\n",
       "    <tr>\n",
       "      <th id=\"T_0ee5e_level0_row3\" class=\"row_heading level0 row3\" >4</th>\n",
       "      <td id=\"T_0ee5e_row3_col0\" class=\"data row3 col0\" >10</td>\n",
       "      <td id=\"T_0ee5e_row3_col1\" class=\"data row3 col1\" >2</td>\n",
       "      <td id=\"T_0ee5e_row3_col2\" class=\"data row3 col2\" >6</td>\n",
       "      <td id=\"T_0ee5e_row3_col3\" class=\"data row3 col3\" >0.731</td>\n",
       "      <td id=\"T_0ee5e_row3_col4\" class=\"data row3 col4\" >0.683</td>\n",
       "    </tr>\n",
       "    <tr>\n",
       "      <th id=\"T_0ee5e_level0_row4\" class=\"row_heading level0 row4\" >6</th>\n",
       "      <td id=\"T_0ee5e_row4_col0\" class=\"data row4 col0\" >5</td>\n",
       "      <td id=\"T_0ee5e_row4_col1\" class=\"data row4 col1\" >3</td>\n",
       "      <td id=\"T_0ee5e_row4_col2\" class=\"data row4 col2\" >8</td>\n",
       "      <td id=\"T_0ee5e_row4_col3\" class=\"data row4 col3\" >0.586</td>\n",
       "      <td id=\"T_0ee5e_row4_col4\" class=\"data row4 col4\" >0.528</td>\n",
       "    </tr>\n",
       "    <tr>\n",
       "      <th id=\"T_0ee5e_level0_row5\" class=\"row_heading level0 row5\" >8</th>\n",
       "      <td id=\"T_0ee5e_row5_col0\" class=\"data row5 col0\" >15</td>\n",
       "      <td id=\"T_0ee5e_row5_col1\" class=\"data row5 col1\" >2</td>\n",
       "      <td id=\"T_0ee5e_row5_col2\" class=\"data row5 col2\" >9</td>\n",
       "      <td id=\"T_0ee5e_row5_col3\" class=\"data row5 col3\" >0.539</td>\n",
       "      <td id=\"T_0ee5e_row5_col4\" class=\"data row5 col4\" >0.738</td>\n",
       "    </tr>\n",
       "    <tr>\n",
       "      <th id=\"T_0ee5e_level0_row6\" class=\"row_heading level0 row6\" >7</th>\n",
       "      <td id=\"T_0ee5e_row6_col0\" class=\"data row6 col0\" >5</td>\n",
       "      <td id=\"T_0ee5e_row6_col1\" class=\"data row6 col1\" >3</td>\n",
       "      <td id=\"T_0ee5e_row6_col2\" class=\"data row6 col2\" >9</td>\n",
       "      <td id=\"T_0ee5e_row6_col3\" class=\"data row6 col3\" >0.497</td>\n",
       "      <td id=\"T_0ee5e_row6_col4\" class=\"data row6 col4\" >0.482</td>\n",
       "    </tr>\n",
       "    <tr>\n",
       "      <th id=\"T_0ee5e_level0_row7\" class=\"row_heading level0 row7\" >3</th>\n",
       "      <td id=\"T_0ee5e_row7_col0\" class=\"data row7 col0\" >10</td>\n",
       "      <td id=\"T_0ee5e_row7_col1\" class=\"data row7 col1\" >2</td>\n",
       "      <td id=\"T_0ee5e_row7_col2\" class=\"data row7 col2\" >8</td>\n",
       "      <td id=\"T_0ee5e_row7_col3\" class=\"data row7 col3\" >0.468</td>\n",
       "      <td id=\"T_0ee5e_row7_col4\" class=\"data row7 col4\" >0.634</td>\n",
       "    </tr>\n",
       "    <tr>\n",
       "      <th id=\"T_0ee5e_level0_row8\" class=\"row_heading level0 row8\" >0</th>\n",
       "      <td id=\"T_0ee5e_row8_col0\" class=\"data row8 col0\" >10</td>\n",
       "      <td id=\"T_0ee5e_row8_col1\" class=\"data row8 col1\" >2</td>\n",
       "      <td id=\"T_0ee5e_row8_col2\" class=\"data row8 col2\" >9</td>\n",
       "      <td id=\"T_0ee5e_row8_col3\" class=\"data row8 col3\" >0.455</td>\n",
       "      <td id=\"T_0ee5e_row8_col4\" class=\"data row8 col4\" >0.634</td>\n",
       "    </tr>\n",
       "    <tr>\n",
       "      <th id=\"T_0ee5e_level0_row9\" class=\"row_heading level0 row9\" >5</th>\n",
       "      <td id=\"T_0ee5e_row9_col0\" class=\"data row9 col0\" >10</td>\n",
       "      <td id=\"T_0ee5e_row9_col1\" class=\"data row9 col1\" >2</td>\n",
       "      <td id=\"T_0ee5e_row9_col2\" class=\"data row9 col2\" >15</td>\n",
       "      <td id=\"T_0ee5e_row9_col3\" class=\"data row9 col3\" >0.370</td>\n",
       "      <td id=\"T_0ee5e_row9_col4\" class=\"data row9 col4\" >0.635</td>\n",
       "    </tr>\n",
       "  </tbody>\n",
       "</table>\n"
      ],
      "text/plain": [
       "<pandas.io.formats.style.Styler at 0x76d387c75ac0>"
      ]
     },
     "execution_count": 26,
     "metadata": {},
     "output_type": "execute_result"
    }
   ],
   "source": [
    "styled_df = styled_df.apply(highlight_top_rows, axis=1)\n",
    "print(styled_df)"
   ]
  },
  {
   "cell_type": "markdown",
   "id": "610b343c-4934-4b39-81b6-0f58ddbdc88d",
   "metadata": {},
   "source": [
    "## 5. Comparison to direct landscape-based clustering\n",
    "We now perform Kmeans directly using landscapes as feature vectors. More precisely, we obtain feature vectos by evaluating all (truncated) landscapes on the union of all critical points for the dataset D."
   ]
  },
  {
   "cell_type": "markdown",
   "id": "b4f2ad72-b2da-43ee-a517-126f4b4c6de7",
   "metadata": {},
   "source": [
    "### 5.1 Landscape-based clustering\n",
    "We compute the ARI and NMI for the Kmeans clustering, using the same number of clusters (9) as representative classes"
   ]
  },
  {
   "cell_type": "code",
   "execution_count": 32,
   "id": "71c706f4-c6ee-42a9-b8b2-a49fcce457f9",
   "metadata": {},
   "outputs": [],
   "source": [
    "# Input directory\n",
    "directory = \"../src/ph-knotted-proteins/data/validation/landscapes/interpolated_x1\"  # Replace with your directory path to the landscapes\n",
    "trunc_level = 15"
   ]
  },
  {
   "cell_type": "markdown",
   "id": "0fdc3c7a-c459-4994-a04d-14a5b34cc6a4",
   "metadata": {},
   "source": [
    "Edit the function below so we only load the landscapes that are not labeled by \"Other\" as representative"
   ]
  },
  {
   "cell_type": "markdown",
   "id": "ebc51dcc-eeb3-4c3d-be8c-14234906ffa3",
   "metadata": {},
   "source": [
    "Finding filenames that don't correspond to proteins labeled by \"Other\""
   ]
  },
  {
   "cell_type": "code",
   "execution_count": 25,
   "id": "0bbc92a0-916d-4be1-b804-1b0541ade37c",
   "metadata": {},
   "outputs": [],
   "source": [
    "# Keep only rows where Representative is NOT 'other'\n",
    "# merged_df = merged_df[merged_df['Representative'] != 'Other']\n",
    "list_non_other = merged_df['Chain']"
   ]
  },
  {
   "cell_type": "code",
   "execution_count": 27,
   "id": "6d4c010e-9b6e-49e3-aab7-9f8a9afbc91d",
   "metadata": {},
   "outputs": [
    {
     "data": {
      "text/plain": [
       "0       1cak_A\n",
       "1       1cao_A\n",
       "2       1cng_A\n",
       "3       1cnh_A\n",
       "4       1cnj_A\n",
       "        ...   \n",
       "358    6rxv_CN\n",
       "359    6rxx_CN\n",
       "360    6rxy_CN\n",
       "361    6rxz_CN\n",
       "362     6uev_A\n",
       "Name: Chain, Length: 363, dtype: object"
      ]
     },
     "execution_count": 27,
     "metadata": {},
     "output_type": "execute_result"
    }
   ],
   "source": [
    "list_non_other"
   ]
  },
  {
   "cell_type": "code",
   "execution_count": 35,
   "id": "fc366ac2-0d02-4d90-b550-c52177ae2532",
   "metadata": {},
   "outputs": [],
   "source": [
    "file_list = [\n",
    "    fname for fname in os.listdir(directory)\n",
    "    if fname.endswith('1.lan') \n",
    "    and any(fname.startswith(prefix) for prefix in list_non_other)\n",
    "]\n",
    "file_list.sort()"
   ]
  },
  {
   "cell_type": "code",
   "execution_count": 37,
   "id": "77002ed5-0d3f-431a-8fac-e3c32e0deb6c",
   "metadata": {},
   "outputs": [
    {
     "data": {
      "text/plain": [
       "363"
      ]
     },
     "execution_count": 37,
     "metadata": {},
     "output_type": "execute_result"
    }
   ],
   "source": [
    "# len(file_list)"
   ]
  },
  {
   "cell_type": "code",
   "execution_count": 38,
   "id": "27fe5f1b-9676-4a50-a82e-8d63ab2259d8",
   "metadata": {},
   "outputs": [],
   "source": [
    "def load_lan_file(filename, trunc_level):\n",
    "    \"\"\"\n",
    "    Reads a .lan file and returns a list of levels truncated (or extended)\n",
    "    to trunc_level.\n",
    "    \n",
    "    Each level is represented as a list of (epsilon, critical_value) tuples.\n",
    "    The file is assumed to have header lines (starting with '#' or '%') indicating\n",
    "    the beginning of a new level. Critical points for a level appear on subsequent lines.\n",
    "    This is the standard format of .lan files.\n",
    "    \"\"\"\n",
    "    levels = []\n",
    "    current_points = []\n",
    "    current_level_count = 0\n",
    "\n",
    "    with open(filename, 'r') as f:\n",
    "        for line in f:\n",
    "            line = line.strip()\n",
    "            if not line:\n",
    "                continue\n",
    "            if line.startswith('#') or line.startswith('%'):\n",
    "                # Header encountered: finish the previous level if present.\n",
    "                if current_points:\n",
    "                    levels.append(current_points)\n",
    "                    current_points = []\n",
    "                    current_level_count += 1\n",
    "                    if current_level_count == trunc_level:\n",
    "                        break\n",
    "                continue\n",
    "            # Only parse data if we haven't reached the truncation limit.\n",
    "            if current_level_count < trunc_level:\n",
    "                tokens = line.split()\n",
    "                if len(tokens) != 2:\n",
    "                    raise ValueError(\"Expected exactly two tokens per critical point line, got: \" + str(tokens))\n",
    "                eps = float(tokens[0])\n",
    "                val = float(tokens[1])\n",
    "                current_points.append((eps, val))\n",
    "    # Append any remaining points as the last level.\n",
    "    if current_points and current_level_count < trunc_level:\n",
    "        levels.append(current_points)\n",
    "        current_level_count += 1\n",
    "\n",
    "    # If there are fewer than trunc_level levels, extend with empty lists.\n",
    "    while current_level_count < trunc_level:\n",
    "        levels.append([])\n",
    "        current_level_count += 1\n",
    "\n",
    "    return levels\n",
    "\n",
    "def eval_landscape(points, t):\n",
    "    \"\"\"\n",
    "    Evaluate a landscape function defined by a list of (epsilon, value) tuples\n",
    "    at a given epsilon value t via linear interpolation. The function is assumed \n",
    "    to be zero outside the range of the provided points.\n",
    "    \"\"\"\n",
    "    if not points:\n",
    "        return 0.0\n",
    "    # t is outside the range -> return 0.\n",
    "    if t < points[0][0] or t > points[-1][0]:\n",
    "        return 0.0\n",
    "    # Find the interval [x0, x1] in which t lies.\n",
    "    for i in range(1, len(points)):\n",
    "        x0, y0 = points[i-1]\n",
    "        x1, y1 = points[i]\n",
    "        if x0 <= t <= x1:\n",
    "            if t == x0:\n",
    "                return y0\n",
    "            if t == x1:\n",
    "                return y1\n",
    "            # Linear interpolation.\n",
    "            return y0 + (y1 - y0) * (t - x0) / (x1 - x0)\n",
    "    return 0.0\n",
    "\n",
    "def process_directory_to_3d(directory, trunc_level):\n",
    "    \"\"\"\n",
    "    Processes all .lan files in the directory and returns a 3D NumPy array\n",
    "    of time series data and an ordering dictionary.\n",
    "    \n",
    "    The output 3D array has shape (N, trunc_level, T) where:\n",
    "      - N = number of landscapes (files)\n",
    "      - trunc_level = number of levels per landscape (as specified)\n",
    "      - T = number of unique epsilon values across all files\n",
    "    The epsilon axis is common for all landscapes.\n",
    "    \n",
    "    Also returns:\n",
    "      - ordering: a dictionary mapping each filename (without full path)\n",
    "                   to its index in the 3D array.\n",
    "      - global_epsilon: the sorted list of all unique epsilon values.\n",
    "    \"\"\"\n",
    "    all_epsilons = set()\n",
    "    file_list = []\n",
    "\n",
    "    # First, gather all .lan filenames.\n",
    "    file_list = [\n",
    "    fname for fname in os.listdir(directory)\n",
    "    if fname.endswith('1.lan') \n",
    "    and any(fname.startswith(prefix) for prefix in list_non_other)\n",
    "    ]\n",
    "    file_list.sort()\n",
    "\n",
    "    # First pass: Accumulate epsilon values from all files.\n",
    "    for fname in file_list:\n",
    "        fpath = os.path.join(directory, fname)\n",
    "        levels_data = load_lan_file(fpath, trunc_level)\n",
    "        for level in levels_data:\n",
    "            for (eps, _) in level:\n",
    "                all_epsilons.add(eps)\n",
    "    global_epsilon = sorted(all_epsilons)\n",
    "    T = len(global_epsilon)\n",
    "\n",
    "    landscapes = []    # to store the time series matrices for each file\n",
    "    ordering = {}      # maps filename to its index in the 3D array\n",
    "\n",
    "    # Second pass: For each file, evaluate the landscape at all global epsilon values.\n",
    "    for idx, fname in enumerate(file_list):\n",
    "        fpath = os.path.join(directory, fname)\n",
    "        levels_data = load_lan_file(fpath, trunc_level)\n",
    "        ts_matrix = np.zeros((trunc_level, T))\n",
    "        for lev in range(trunc_level):\n",
    "            pts = levels_data[lev]  # list of (eps, value) for this level (may be empty)\n",
    "            for j, t in enumerate(global_epsilon):\n",
    "                ts_matrix[lev, j] = eval_landscape(pts, t)\n",
    "        landscapes.append(ts_matrix)\n",
    "        ordering[fname] = idx\n",
    "\n",
    "    # Stack into a 3D array: shape (N, trunc_level, T)\n",
    "    result_array = np.stack(landscapes, axis=0)\n",
    "    return result_array, ordering, global_epsilon"
   ]
  },
  {
   "cell_type": "code",
   "execution_count": 39,
   "id": "cbe3ad78-6451-47cc-b24f-31d8fc6ddf82",
   "metadata": {},
   "outputs": [
    {
     "name": "stdout",
     "output_type": "stream",
     "text": [
      "3D Array shape (landscapes, levels, epsilon): (363, 15, 112048)\n",
      "CPU times: user 8min 23s, sys: 1.39 s, total: 8min 24s\n",
      "Wall time: 8min 24s\n"
     ]
    }
   ],
   "source": [
    "%%time\n",
    "\n",
    "landscape_array, ordering_dict, global_eps = process_directory_to_3d(directory, trunc_level)\n",
    "\n",
    "print(\"3D Array shape (landscapes, levels, epsilon):\", landscape_array.shape)\n",
    "# print(\"Ordering dictionary (filename -> index):\")\n",
    "# print(ordering_dict)\n",
    "# print(\"Global epsilon values:\")\n",
    "# print(global_eps)"
   ]
  },
  {
   "cell_type": "code",
   "execution_count": 44,
   "id": "73854a72-2d73-4551-94c4-0a8f99f361b9",
   "metadata": {},
   "outputs": [],
   "source": [
    "import numpy as np\n",
    "\n",
    "# Assuming landscape_array is your 3D array\n",
    "d1, d2, d3 = landscape_array.shape\n",
    "\n",
    "# Reshape to merge dimensions 2 and 3\n",
    "flattened_array = landscape_array.reshape(d1, d2 * d3)\n"
   ]
  },
  {
   "cell_type": "code",
   "execution_count": 45,
   "id": "3f150aa6-37bb-4f36-9962-8a9ae0923375",
   "metadata": {},
   "outputs": [
    {
     "name": "stdout",
     "output_type": "stream",
     "text": [
      "Original shape: (363, 15, 112048)\n",
      "Flattened shape: (363, 1680720)\n",
      "Non-zero count: 538679262\n"
     ]
    }
   ],
   "source": [
    "print(\"Original shape:\", landscape_array.shape)\n",
    "print(\"Flattened shape:\", flattened_array.shape)\n",
    "print(\"Non-zero count:\", np.count_nonzero(flattened_array))"
   ]
  },
  {
   "cell_type": "code",
   "execution_count": 46,
   "id": "cbacad42-844a-4c00-bad1-23cf7a1d68cf",
   "metadata": {},
   "outputs": [],
   "source": [
    "# now use the landscapes themselves as feature vectors for the kmeans clustering\n",
    "# k-mean on the standardized data\n",
    "\n",
    "# Perform k-Means clustering\n",
    "kmeans = KMeans(9, random_state=42)  # Choose the number of clusters\n",
    "clusters_land = kmeans.fit_predict(flattened_array)"
   ]
  },
  {
   "cell_type": "code",
   "execution_count": 49,
   "id": "c99f0b81-d374-4437-9063-0aac20b50caa",
   "metadata": {},
   "outputs": [],
   "source": [
    "# Check that the ordering on the landscape_array matches the ordering of the representatives\n",
    "# ordering_dict.keys() == merged_df['Chain']\n",
    "ordering_flattened_array = []\n",
    "for key in ordering_dict.keys():\n",
    "    if key.endswith('_1.lan'):\n",
    "        # Remove the last 6 characters ('_1.lan')\n",
    "        base_name = key[:-6]\n",
    "        ordering_flattened_array.append(base_name)\n"
   ]
  },
  {
   "cell_type": "code",
   "execution_count": 53,
   "id": "f2d250f7-80d6-48e4-ac18-aeb321c55dde",
   "metadata": {},
   "outputs": [
    {
     "name": "stdout",
     "output_type": "stream",
     "text": [
      "yay\n"
     ]
    }
   ],
   "source": [
    "if (ordering_flattened_array == merged_df['Chain']).all():\n",
    "    print('yay')"
   ]
  },
  {
   "cell_type": "code",
   "execution_count": 54,
   "id": "83f47b39-5ab2-45f5-bb46-88c36af05eb1",
   "metadata": {},
   "outputs": [
    {
     "name": "stdout",
     "output_type": "stream",
     "text": [
      "Adjusted Rand Index (ARI) : 0.88\n",
      "Normalized Mutual Information (NMI): 0.83\n"
     ]
    }
   ],
   "source": [
    "# Evaluate ARI and NMI scores\n",
    "# Extract the ground truth labels and cluster labels\n",
    "true_labels = merged_df['Representative']\n",
    "\n",
    "# print(f\"Variance Threshold: {var_threshold}\")\n",
    "# Compute the Adjusted Rand Index (ARI)\n",
    "ari_std = adjusted_rand_score(true_labels, clusters_land)\n",
    "print(f\"Adjusted Rand Index (ARI) : {ari_std:.2f}\")\n",
    "\n",
    "# Compute the Normalized Mutual Information (NMI)\n",
    "nmi_std = normalized_mutual_info_score(true_labels, clusters_land)\n",
    "print(f\"Normalized Mutual Information (NMI): {nmi_std:.2f}\")"
   ]
  }
 ],
 "metadata": {
  "kernelspec": {
   "display_name": "Python 3 (ipykernel)",
   "language": "python",
   "name": "python3"
  },
  "language_info": {
   "codemirror_mode": {
    "name": "ipython",
    "version": 3
   },
   "file_extension": ".py",
   "mimetype": "text/x-python",
   "name": "python",
   "nbconvert_exporter": "python",
   "pygments_lexer": "ipython3",
   "version": "3.9.21"
  }
 },
 "nbformat": 4,
 "nbformat_minor": 5
}
