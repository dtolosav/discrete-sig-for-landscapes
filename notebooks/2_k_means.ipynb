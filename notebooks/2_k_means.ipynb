{
 "cells": [
  {
   "cell_type": "markdown",
   "id": "14c869be-6db8-470c-b9f2-5181fc16c39f",
   "metadata": {},
   "source": [
    "# k-means clustering using discrete signatures"
   ]
  },
  {
   "cell_type": "markdown",
   "id": "8788c77e-2c47-44ec-90ef-18476b084ea1",
   "metadata": {},
   "source": [
    "## 1. Prep Data"
   ]
  },
  {
   "cell_type": "markdown",
   "id": "f9c14de5-3351-45af-85da-3966bcb2793c",
   "metadata": {},
   "source": [
    "### 1.1. Load Data\n",
    "We load the signature data and the knot data"
   ]
  },
  {
   "cell_type": "code",
   "execution_count": 29,
   "id": "6f0e011e-4d15-4272-aa54-343c71f4b8e5",
   "metadata": {
    "scrolled": true
   },
   "outputs": [
    {
     "name": "stdout",
     "output_type": "stream",
     "text": [
      "trunc_level: 5, sig_weight: 2\n"
     ]
    }
   ],
   "source": [
    "import pandas as pd\n",
    "\n",
    "filename = f'../results/tables/signature_x1_L5_W2_20250425_184840.csv' # replace with desired signatures to use\n",
    "\n",
    "# extract clustering parameters from filename\n",
    "import re\n",
    "match = re.search(r'L(\\d+)_W(\\d+)', filename)\n",
    "if match:\n",
    "    trunc_level = int(match.group(1))  # 15\n",
    "    sig_weight = int(match.group(2))   # 2\n",
    "else:\n",
    "    raise ValueError(\"Filename format incorrect - missing L/W parameters\")\n",
    "\n",
    "print(f\"trunc_level: {trunc_level}, sig_weight: {sig_weight}\")\n",
    "\n",
    "# Load the DataFrame from the CSV file\n",
    "df = pd.read_csv(filename)\n",
    "\n",
    "# Load the classification data\n",
    "classification_df = pd.read_csv('../data/external/trefoil_list.csv')\n",
    "classification_df = classification_df[classification_df['Representative'] != 'Other']\n",
    "\n",
    "# Ensure the 'Landscape' column matches between the two DataFrames\n",
    "df['Chain'] = df['Chain'].astype(str)  # Ensure the column type is consistent\n",
    "classification_df['Chain'] = classification_df['Chain'].astype(str)\n",
    "\n"
   ]
  },
  {
   "cell_type": "code",
   "execution_count": 30,
   "id": "61bf0475-b1cd-44a4-a3d5-a1e28447c3f3",
   "metadata": {},
   "outputs": [],
   "source": [
    "import pandas as pd\n",
    "\n",
    "def safe_merge(df1, df2, merge_col='Chain', rep_col='Representative'):\n",
    "    \"\"\"\n",
    "    Merges DataFrames while handling duplicate 'Representative' columns intelligently\n",
    "    \n",
    "    Args:\n",
    "        df1, df2: DataFrames to merge\n",
    "        merge_col: Column to merge on (default 'Chains')\n",
    "        rep_col: Representative column name (default 'Representative')\n",
    "    \n",
    "    Returns:\n",
    "        Merged DataFrame with a single Representative column\n",
    "    \"\"\"\n",
    "    try:\n",
    "        # Attempt merge with duplicate handling\n",
    "        merged = df1.merge(df2, \n",
    "                          on=merge_col,\n",
    "                          suffixes=('', '_y'))\n",
    "        \n",
    "        # Check if duplicate columns were created\n",
    "        if f'{rep_col}_y' in merged.columns:\n",
    "            # Verify values match if both columns exist\n",
    "            if (merged[rep_col] == merged[f'{rep_col}_y']).all():\n",
    "                merged = merged.drop(columns=[f'{rep_col}_y'])\n",
    "            else:\n",
    "                print(\"Warning: Representative values differ between DataFrames\")\n",
    "                # Keep both columns but rename for clarity\n",
    "                merged = merged.rename(columns={\n",
    "                    rep_col: f'{rep_col}_x',\n",
    "                    f'{rep_col}_y': f'{rep_col}_y'\n",
    "                })\n",
    "        \n",
    "        return merged\n",
    "    \n",
    "    except Exception as e:\n",
    "        print(f\"Merge failed: {str(e)}\")\n",
    "        # Fallback to simple merge if unexpected error occurs\n",
    "        return df1.merge(df2, on=merge_col)\n",
    "\n"
   ]
  },
  {
   "cell_type": "code",
   "execution_count": 31,
   "id": "0cd416ff-6f2d-4d0a-a480-caaf03f0656d",
   "metadata": {},
   "outputs": [],
   "source": [
    "# Merge the DataFrames on the 'Landscape' column\n",
    "try:\n",
    "    merged_df = safe_merge(classification_df, df)\n",
    "except Exception as e:\n",
    "    print(f\"Error during merge: {e}\")\n",
    "    merged_df = None\n",
    "\n",
    "    \n",
    "# Keep only rows where Representative is NOT 'other'\n",
    "merged_df = merged_df[merged_df['Representative'] != 'Other']\n",
    "\n",
    "# Select the columns corresponding to the signature\n",
    "X = merged_df.drop(columns=['Landscape', 'Chain', 'Depth', 'Length', 'N-tail', 'C-tail', 'Representative'])\n",
    "\n"
   ]
  },
  {
   "cell_type": "code",
   "execution_count": 32,
   "id": "94327b75-201a-479e-a1d2-72b429c52ecc",
   "metadata": {},
   "outputs": [
    {
     "name": "stdout",
     "output_type": "stream",
     "text": [
      "    Chain     Depth  Length  N-tail  C-tail Representative  Landscape  \\\n",
      "0  6i0j_A  0.001136     257      25       3         4qef_A        483   \n",
      "1  6i0w_A  0.001382     258      23       4         4qef_A        484   \n",
      "\n",
      "       [11]      [12]      [13]  ...    [4][2]    [4][3]    [4][4]    [4][5]  \\\n",
      "0  0.003772  0.003312  0.003236  ...  0.198469  0.148717 -0.001836 -0.332533   \n",
      "1  0.004079  0.003514  0.003087  ...  0.583205  0.082766 -0.001815 -0.251816   \n",
      "\n",
      "   [5]    [5][1]    [5][2]    [5][3]    [5][4]    [5][5]  \n",
      "0  0.0  0.297666  0.399285  0.399664  0.330104 -0.001805  \n",
      "1  0.0  0.723839  0.689146  0.292050  0.249085 -0.001796  \n",
      "\n",
      "[2 rows x 52 columns]\n"
     ]
    }
   ],
   "source": [
    "# Display the merged DataFrame\n",
    "print(merged_df.head(2))"
   ]
  },
  {
   "cell_type": "code",
   "execution_count": 5,
   "id": "0a3055d2-4f23-4b9c-892b-2e2e0def296e",
   "metadata": {},
   "outputs": [
    {
     "data": {
      "text/plain": [
       "9"
      ]
     },
     "execution_count": 5,
     "metadata": {},
     "output_type": "execute_result"
    }
   ],
   "source": [
    "rep_list = merged_df['Representative'].unique()\n",
    "len(rep_list)"
   ]
  },
  {
   "cell_type": "markdown",
   "id": "d15d6275-c677-4349-acaf-6fd27ada2143",
   "metadata": {},
   "source": [
    "### 1.2. Hyperparameters"
   ]
  },
  {
   "cell_type": "code",
   "execution_count": 6,
   "id": "f8da7e4c-3e54-4612-bb52-2bda524dd878",
   "metadata": {},
   "outputs": [],
   "source": [
    "n_clusters = len(rep_list) # Adjust if you don't want the same number of clusters as the number of rep classes\n",
    "var_threshold = 0 # Adjust based on section 2. Ror the paper this was set at 0"
   ]
  },
  {
   "cell_type": "markdown",
   "id": "e46cf073-fa76-4d8b-be4f-acbc184d735a",
   "metadata": {},
   "source": [
    "### 1.3. Dimensionality reduction: ignoring features with low variance"
   ]
  },
  {
   "cell_type": "code",
   "execution_count": 7,
   "id": "b8abfcb3-f1c0-4281-bf0c-fd11adc2f3a0",
   "metadata": {},
   "outputs": [
    {
     "data": {
      "image/png": "[encoded data removed]",
      "text/plain": [
       "<Figure size 1500x500 with 2 Axes>"
      ]
     },
     "metadata": {},
     "output_type": "display_data"
    },
    {
     "name": "stdout",
     "output_type": "stream",
     "text": [
      "Variance Statistics:\n",
      "count    8.021000e+03\n",
      "mean     7.660227e-01\n",
      "std      3.578259e+01\n",
      "min      0.000000e+00\n",
      "10%      5.839270e-10\n",
      "25%      1.248140e-09\n",
      "50%      3.542349e-09\n",
      "75%      7.012600e-02\n",
      "90%      2.380827e-01\n",
      "max      1.924799e+03\n",
      "dtype: float64\n",
      "\n",
      "Features below variance thresholds:\n",
      "1e-06: 4441 features (55.4%)\n",
      "1e-04: 4445 features (55.4%)\n",
      "1e-03: 4469 features (55.7%)\n",
      "1e-02: 4832 features (60.2%)\n",
      "1e-01: 6328 features (78.9%)\n",
      "\n",
      "10 lowest-variance features:\n",
      "[4]       0.0\n",
      "[(15)]    0.0\n",
      "[(14)]    0.0\n",
      "[(10)]    0.0\n",
      "[(12)]    0.0\n",
      "[9]       0.0\n",
      "[(13)]    0.0\n",
      "[8]       0.0\n",
      "[(11)]    0.0\n",
      "[1]       0.0\n",
      "dtype: float64\n",
      "\n",
      "Original features: 8021\n",
      "Features kept: 8011\n",
      "Features removed: 10\n"
     ]
    }
   ],
   "source": [
    "# Plot variance\n",
    "import pandas as pd\n",
    "import numpy as np\n",
    "import matplotlib.pyplot as plt\n",
    "from sklearn.feature_selection import VarianceThreshold\n",
    "\n",
    "# 1. Calculate feature variances\n",
    "variances = X.var(axis=0).sort_values()  # Series of variances sorted low to high\n",
    "\n",
    "# 2. Plotting\n",
    "plt.figure(figsize=(15, 5))\n",
    "\n",
    "# Plot 1: Ordered variance plot\n",
    "plt.subplot(1, 2, 1)\n",
    "variances.plot(logy=True, marker='o', title='Feature Variances (Sorted)')\n",
    "plt.axhline(y=var_threshold, color='r', linestyle='--', label=f'Threshold ({var_threshold})')\n",
    "plt.ylabel('Variance (log scale)')\n",
    "plt.xlabel('Feature Index (sorted)')\n",
    "plt.legend()\n",
    "\n",
    "# Need to adjust plaot 2!!\n",
    "# Plot 2: Variance distribution\n",
    "plt.subplot(1, 2, 2)\n",
    "plt.hist(variances, bins=50, log=True)\n",
    "plt.axvline(x=var_threshold, color='r', linestyle='--')\n",
    "plt.title('Variance Distribution')\n",
    "plt.xlabel('Variance')\n",
    "plt.ylabel('Number of Features (log scale)')\n",
    "\n",
    "plt.tight_layout()\n",
    "plt.show()\n",
    "\n",
    "# 3. Variance statistics\n",
    "print(\"Variance Statistics:\")\n",
    "print(variances.describe(percentiles=[.1, .25, .5, .75, .9]))\n",
    "\n",
    "# 4. Count features below potential thresholds\n",
    "thresholds = [1e-6, 1e-4, 1e-3, 0.01, 0.1]\n",
    "print(\"\\nFeatures below variance thresholds:\")\n",
    "for thresh in thresholds:\n",
    "    n_below = (variances < thresh).sum()\n",
    "    print(f\"{thresh:.0e}: {n_below} features ({n_below/len(variances):.1%})\")\n",
    "\n",
    "# 5. Show lowest-variance features\n",
    "print(\"\\n10 lowest-variance features:\")\n",
    "print(variances.head(10))\n",
    "\n",
    "# 6. Apply your chosen threshold\n",
    "selector = VarianceThreshold(threshold=var_threshold)\n",
    "X_filtered = selector.fit_transform(X)\n",
    "\n",
    "# Create new DataFrame with kept features\n",
    "kept_features = X.columns[selector.get_support()]\n",
    "df_filtered = pd.DataFrame(X_filtered, columns=kept_features)\n",
    "\n",
    "print(f\"\\nOriginal features: {X.shape[1]}\")\n",
    "print(f\"Features kept: {df_filtered.shape[1]}\")\n",
    "print(f\"Features removed: {X.shape[1] - df_filtered.shape[1]}\")"
   ]
  },
  {
   "cell_type": "code",
   "execution_count": 8,
   "id": "fcc5032b-87c9-4217-a209-ef2157d84106",
   "metadata": {},
   "outputs": [],
   "source": [
    "# Update your signatures after discrding low variance features\n",
    "X= df_filtered\n",
    "# X.head()"
   ]
  },
  {
   "cell_type": "markdown",
   "id": "88fade0b-a9eb-4718-b489-770ca3f5f178",
   "metadata": {},
   "source": [
    "### 1.4. Standardize the data"
   ]
  },
  {
   "cell_type": "code",
   "execution_count": 9,
   "id": "82e0ef05-799f-40cd-8a93-3491dcceeaf6",
   "metadata": {},
   "outputs": [],
   "source": [
    "from sklearn.preprocessing import StandardScaler,  MinMaxScaler\n",
    "\n",
    "# Initialize the StandardScaler\n",
    "scaler = StandardScaler()\n",
    "\n",
    "# Standardize the data\n",
    "X_standardized = pd.DataFrame(scaler.fit_transform(X), columns=X.columns)\n",
    "\n",
    "# Display the standardized DataFrame\n",
    "# print(X_standardized)"
   ]
  },
  {
   "cell_type": "markdown",
   "id": "c6e8b4ae-5f34-4fbc-b417-7c55162f3a13",
   "metadata": {},
   "source": [
    "## 2. Perform k-means on prepped data"
   ]
  },
  {
   "cell_type": "code",
   "execution_count": 10,
   "id": "801ec529-0bca-4fda-92cf-c55da93f7153",
   "metadata": {},
   "outputs": [],
   "source": [
    "# k-mean on the standardized data\n",
    "from sklearn.cluster import KMeans\n",
    "import matplotlib.pyplot as plt\n",
    "from sklearn.decomposition import PCA  # For dimensionality reduction\n",
    "\n",
    "# Perform k-Means clustering\n",
    "kmeans = KMeans(n_clusters, random_state=42)  # Choose the number of clusters\n",
    "clusters_std = kmeans.fit_predict(X_standardized)\n",
    "\n",
    "# Add the cluster labels to the DataFrame\n",
    "merged_df['Cluster_standardized'] = clusters_std"
   ]
  },
  {
   "cell_type": "markdown",
   "id": "9452a215-b489-4b3c-891c-a8e84960bcaf",
   "metadata": {},
   "source": [
    "## 3. Compare k-means and classification by representative (sequence similarity) \n",
    "We now check compatibility between the k-means clustering(s) and the classification in terms of the knot representative"
   ]
  },
  {
   "cell_type": "code",
   "execution_count": 11,
   "id": "d03a1d7b-8ec8-47d2-a151-b04d2d4f0dca",
   "metadata": {},
   "outputs": [
    {
     "name": "stdout",
     "output_type": "stream",
     "text": [
      "Variance Threshold: 0\n",
      "Adjusted Rand Index (ARI) [Standardized data]: 0.95\n",
      "Normalized Mutual Information (NMI): 0.87\n"
     ]
    }
   ],
   "source": [
    "from sklearn.metrics import adjusted_rand_score, normalized_mutual_info_score\n",
    "\n",
    "# Extract the ground truth labels and cluster labels\n",
    "true_labels = merged_df['Representative']\n",
    "cluster_std_labels = merged_df['Cluster_standardized'].astype(str)\n",
    "\n",
    "print(f\"Variance Threshold: {var_threshold}\")\n",
    "# Compute the Adjusted Rand Index (ARI)\n",
    "ari_std = adjusted_rand_score(true_labels, cluster_std_labels)\n",
    "print(f\"Adjusted Rand Index (ARI) [Standardized data]: {ari_std:.2f}\")\n",
    "\n",
    "# Compute the Normalized Mutual Information (NMI)\n",
    "nmi_std = normalized_mutual_info_score(true_labels, cluster_std_labels)\n",
    "print(f\"Normalized Mutual Information (NMI): {nmi_std:.2f}\")"
   ]
  },
  {
   "cell_type": "markdown",
   "id": "2821d1a2-9866-43d2-b0c4-d623ef5909f1",
   "metadata": {},
   "source": [
    "### 3.1. [Optional] Save the large dataframe"
   ]
  },
  {
   "cell_type": "code",
   "execution_count": 12,
   "id": "74127def-d130-485e-aaea-a7890bacc182",
   "metadata": {},
   "outputs": [
    {
     "name": "stdout",
     "output_type": "stream",
     "text": [
      "Saved: ../results/tables/clustering_L15_W3_V0e+00_ARIstd0.95_NMIstd0.87_28Apr2025.csv\n"
     ]
    }
   ],
   "source": [
    "# Optional: save the large data frame\n",
    "from datetime import datetime\n",
    "\n",
    "# Human-readable date (e.g., \"21May2024\")\n",
    "date_str = datetime.now().strftime(\"%d%b%Y\")  # %b = abbreviated month (Jan, Feb, etc.)\n",
    "\n",
    "# Compact metrics notation (adjust precision as needed)\n",
    "metrics_str = f\"A{ari_std:.2f}_N{nmi_std:.2f}\"\n",
    "\n",
    "# Final filename\n",
    "filename = (\n",
    "    f\"../results/tables/clustering_L{trunc_level}_W{sig_weight}_V{var_threshold:.0e}_\"\n",
    "    f\"ARIstd{ari_std:.2f}_\"\n",
    "    f\"NMIstd{nmi_std:.2f}_\"\n",
    "    f\"{date_str}.csv\"\n",
    ")\n",
    "merged_df.to_csv(filename, index=False)\n",
    "print(f\"Saved: {filename}\")"
   ]
  },
  {
   "cell_type": "markdown",
   "id": "45d468fb-9cbe-4d70-b4ee-f477fa6297c1",
   "metadata": {},
   "source": [
    "### 3.2 Log results in Master dataframe"
   ]
  },
  {
   "cell_type": "code",
   "execution_count": 13,
   "id": "fcd352b4-5b33-442a-acaa-a26c9932ef10",
   "metadata": {},
   "outputs": [],
   "source": [
    "# Initialize empty DataFrame (if starting fresh)\n",
    "# columns = [\n",
    "#     'variance_threshold', 'truncation_level', 'signature_weight', 'n_clusters',\n",
    "#     'ARI_standardized', 'ARI_normalized', 'NMI_standardized', 'NMI_normalized'\n",
    "# ]\n",
    "# master_results_df = pd.DataFrame(columns=columns)\n",
    "\n",
    "# # Add first entry\n",
    "# new_entry = {\n",
    "#     'variance_threshold': -1,\n",
    "#     'truncation_level': 4,\n",
    "#     'signature_weight': 2,\n",
    "#     'n_clusters': 6,\n",
    "#     'ARI_standardized': 0.38,\n",
    "#     'NMI_standardized': 0.30,\n",
    "# }\n",
    "# master_results_df = pd.concat([master_results_df, pd.DataFrame([new_entry])], ignore_index=True)"
   ]
  },
  {
   "cell_type": "code",
   "execution_count": 14,
   "id": "041b672e-e3e4-4c9f-bb81-cc194f319a97",
   "metadata": {},
   "outputs": [
    {
     "name": "stdout",
     "output_type": "stream",
     "text": [
      "Loaded successfully! Shape: (9, 6)\n"
     ]
    }
   ],
   "source": [
    "# Load DataFrame if continuing to add results\n",
    "try:\n",
    "    master_results_df = pd.read_csv('../results/master_results_comparison_kmeans_sig_V_representatives_x1_dropOther.csv', encoding='utf-8')\n",
    "    print(\"Loaded successfully! Shape:\", master_results_df.shape)\n",
    "except FileNotFoundError:\n",
    "    print(\"File not found!\")\n",
    "except Exception as e:\n",
    "    print(\"Error:\", str(e))"
   ]
  },
  {
   "cell_type": "code",
   "execution_count": 15,
   "id": "e9ef2e49-1ec2-4073-a9df-977871e587c5",
   "metadata": {},
   "outputs": [
    {
     "data": {
      "text/html": [
       "<div>\n",
       "<style scoped>\n",
       "    .dataframe tbody tr th:only-of-type {\n",
       "        vertical-align: middle;\n",
       "    }\n",
       "\n",
       "    .dataframe tbody tr th {\n",
       "        vertical-align: top;\n",
       "    }\n",
       "\n",
       "    .dataframe thead th {\n",
       "        text-align: right;\n",
       "    }\n",
       "</style>\n",
       "<table border=\"1\" class=\"dataframe\">\n",
       "  <thead>\n",
       "    <tr style=\"text-align: right;\">\n",
       "      <th></th>\n",
       "      <th>variance_threshold</th>\n",
       "      <th>truncation_level</th>\n",
       "      <th>signature_weight</th>\n",
       "      <th>n_clusters</th>\n",
       "      <th>ARI_standardized</th>\n",
       "      <th>NMI_standardized</th>\n",
       "    </tr>\n",
       "  </thead>\n",
       "  <tbody>\n",
       "    <tr>\n",
       "      <th>0</th>\n",
       "      <td>0.000000e+00</td>\n",
       "      <td>10.0</td>\n",
       "      <td>2.0</td>\n",
       "      <td>9.0</td>\n",
       "      <td>0.455478</td>\n",
       "      <td>0.634319</td>\n",
       "    </tr>\n",
       "    <tr>\n",
       "      <th>1</th>\n",
       "      <td>0.000000e+00</td>\n",
       "      <td>10.0</td>\n",
       "      <td>2.0</td>\n",
       "      <td>7.0</td>\n",
       "      <td>0.867993</td>\n",
       "      <td>0.747505</td>\n",
       "    </tr>\n",
       "    <tr>\n",
       "      <th>2</th>\n",
       "      <td>0.000000e+00</td>\n",
       "      <td>10.0</td>\n",
       "      <td>2.0</td>\n",
       "      <td>5.0</td>\n",
       "      <td>0.746163</td>\n",
       "      <td>0.704894</td>\n",
       "    </tr>\n",
       "    <tr>\n",
       "      <th>3</th>\n",
       "      <td>0.000000e+00</td>\n",
       "      <td>10.0</td>\n",
       "      <td>2.0</td>\n",
       "      <td>8.0</td>\n",
       "      <td>0.468378</td>\n",
       "      <td>0.634098</td>\n",
       "    </tr>\n",
       "    <tr>\n",
       "      <th>4</th>\n",
       "      <td>0.000000e+00</td>\n",
       "      <td>10.0</td>\n",
       "      <td>2.0</td>\n",
       "      <td>6.0</td>\n",
       "      <td>0.731497</td>\n",
       "      <td>0.683264</td>\n",
       "    </tr>\n",
       "    <tr>\n",
       "      <th>5</th>\n",
       "      <td>0.000000e+00</td>\n",
       "      <td>10.0</td>\n",
       "      <td>2.0</td>\n",
       "      <td>15.0</td>\n",
       "      <td>0.370048</td>\n",
       "      <td>0.635436</td>\n",
       "    </tr>\n",
       "    <tr>\n",
       "      <th>6</th>\n",
       "      <td>0.000000e+00</td>\n",
       "      <td>5.0</td>\n",
       "      <td>3.0</td>\n",
       "      <td>8.0</td>\n",
       "      <td>0.586025</td>\n",
       "      <td>0.527567</td>\n",
       "    </tr>\n",
       "    <tr>\n",
       "      <th>7</th>\n",
       "      <td>1.000000e-09</td>\n",
       "      <td>5.0</td>\n",
       "      <td>3.0</td>\n",
       "      <td>9.0</td>\n",
       "      <td>0.496869</td>\n",
       "      <td>0.482446</td>\n",
       "    </tr>\n",
       "    <tr>\n",
       "      <th>8</th>\n",
       "      <td>0.000000e+00</td>\n",
       "      <td>15.0</td>\n",
       "      <td>2.0</td>\n",
       "      <td>9.0</td>\n",
       "      <td>0.538607</td>\n",
       "      <td>0.738347</td>\n",
       "    </tr>\n",
       "  </tbody>\n",
       "</table>\n",
       "</div>"
      ],
      "text/plain": [
       "   variance_threshold  truncation_level  signature_weight  n_clusters  \\\n",
       "0        0.000000e+00              10.0               2.0         9.0   \n",
       "1        0.000000e+00              10.0               2.0         7.0   \n",
       "2        0.000000e+00              10.0               2.0         5.0   \n",
       "3        0.000000e+00              10.0               2.0         8.0   \n",
       "4        0.000000e+00              10.0               2.0         6.0   \n",
       "5        0.000000e+00              10.0               2.0        15.0   \n",
       "6        0.000000e+00               5.0               3.0         8.0   \n",
       "7        1.000000e-09               5.0               3.0         9.0   \n",
       "8        0.000000e+00              15.0               2.0         9.0   \n",
       "\n",
       "   ARI_standardized  NMI_standardized  \n",
       "0          0.455478          0.634319  \n",
       "1          0.867993          0.747505  \n",
       "2          0.746163          0.704894  \n",
       "3          0.468378          0.634098  \n",
       "4          0.731497          0.683264  \n",
       "5          0.370048          0.635436  \n",
       "6          0.586025          0.527567  \n",
       "7          0.496869          0.482446  \n",
       "8          0.538607          0.738347  "
      ]
     },
     "execution_count": 15,
     "metadata": {},
     "output_type": "execute_result"
    }
   ],
   "source": [
    "# Verify load\n",
    "# print(master_results_df.head())  # First 5 rows\n",
    "# print(master_results_df.info())  # Data types and memory usage\n",
    "master_results_df"
   ]
  },
  {
   "cell_type": "code",
   "execution_count": 16,
   "id": "ef38402e-6dd6-47ea-8dfa-ee1449a483a1",
   "metadata": {},
   "outputs": [],
   "source": [
    "# Add next entry\n",
    "master_results_df.loc[len(master_results_df)] = [\n",
    "    var_threshold,  # variance_threshold\n",
    "    trunc_level,     # truncation_level\n",
    "    sig_weight,     # signature_weight\n",
    "    n_clusters,    # n_clusters\n",
    "    ari_std,  # ARI_standardized\n",
    "    nmi_std,  # NMI_standardized\n",
    "]"
   ]
  },
  {
   "cell_type": "code",
   "execution_count": 17,
   "id": "570ab4d5-2438-450d-908c-438310fa8899",
   "metadata": {
    "scrolled": true
   },
   "outputs": [
    {
     "data": {
      "text/html": [
       "<div>\n",
       "<style scoped>\n",
       "    .dataframe tbody tr th:only-of-type {\n",
       "        vertical-align: middle;\n",
       "    }\n",
       "\n",
       "    .dataframe tbody tr th {\n",
       "        vertical-align: top;\n",
       "    }\n",
       "\n",
       "    .dataframe thead th {\n",
       "        text-align: right;\n",
       "    }\n",
       "</style>\n",
       "<table border=\"1\" class=\"dataframe\">\n",
       "  <thead>\n",
       "    <tr style=\"text-align: right;\">\n",
       "      <th></th>\n",
       "      <th>variance_threshold</th>\n",
       "      <th>truncation_level</th>\n",
       "      <th>signature_weight</th>\n",
       "      <th>n_clusters</th>\n",
       "      <th>ARI_standardized</th>\n",
       "      <th>NMI_standardized</th>\n",
       "    </tr>\n",
       "  </thead>\n",
       "  <tbody>\n",
       "    <tr>\n",
       "      <th>0</th>\n",
       "      <td>0.000000e+00</td>\n",
       "      <td>10.0</td>\n",
       "      <td>2.0</td>\n",
       "      <td>9.0</td>\n",
       "      <td>0.455478</td>\n",
       "      <td>0.634319</td>\n",
       "    </tr>\n",
       "    <tr>\n",
       "      <th>1</th>\n",
       "      <td>0.000000e+00</td>\n",
       "      <td>10.0</td>\n",
       "      <td>2.0</td>\n",
       "      <td>7.0</td>\n",
       "      <td>0.867993</td>\n",
       "      <td>0.747505</td>\n",
       "    </tr>\n",
       "    <tr>\n",
       "      <th>2</th>\n",
       "      <td>0.000000e+00</td>\n",
       "      <td>10.0</td>\n",
       "      <td>2.0</td>\n",
       "      <td>5.0</td>\n",
       "      <td>0.746163</td>\n",
       "      <td>0.704894</td>\n",
       "    </tr>\n",
       "    <tr>\n",
       "      <th>3</th>\n",
       "      <td>0.000000e+00</td>\n",
       "      <td>10.0</td>\n",
       "      <td>2.0</td>\n",
       "      <td>8.0</td>\n",
       "      <td>0.468378</td>\n",
       "      <td>0.634098</td>\n",
       "    </tr>\n",
       "    <tr>\n",
       "      <th>4</th>\n",
       "      <td>0.000000e+00</td>\n",
       "      <td>10.0</td>\n",
       "      <td>2.0</td>\n",
       "      <td>6.0</td>\n",
       "      <td>0.731497</td>\n",
       "      <td>0.683264</td>\n",
       "    </tr>\n",
       "    <tr>\n",
       "      <th>5</th>\n",
       "      <td>0.000000e+00</td>\n",
       "      <td>10.0</td>\n",
       "      <td>2.0</td>\n",
       "      <td>15.0</td>\n",
       "      <td>0.370048</td>\n",
       "      <td>0.635436</td>\n",
       "    </tr>\n",
       "    <tr>\n",
       "      <th>6</th>\n",
       "      <td>0.000000e+00</td>\n",
       "      <td>5.0</td>\n",
       "      <td>3.0</td>\n",
       "      <td>8.0</td>\n",
       "      <td>0.586025</td>\n",
       "      <td>0.527567</td>\n",
       "    </tr>\n",
       "    <tr>\n",
       "      <th>7</th>\n",
       "      <td>1.000000e-09</td>\n",
       "      <td>5.0</td>\n",
       "      <td>3.0</td>\n",
       "      <td>9.0</td>\n",
       "      <td>0.496869</td>\n",
       "      <td>0.482446</td>\n",
       "    </tr>\n",
       "    <tr>\n",
       "      <th>8</th>\n",
       "      <td>0.000000e+00</td>\n",
       "      <td>15.0</td>\n",
       "      <td>2.0</td>\n",
       "      <td>9.0</td>\n",
       "      <td>0.538607</td>\n",
       "      <td>0.738347</td>\n",
       "    </tr>\n",
       "    <tr>\n",
       "      <th>9</th>\n",
       "      <td>0.000000e+00</td>\n",
       "      <td>15.0</td>\n",
       "      <td>3.0</td>\n",
       "      <td>9.0</td>\n",
       "      <td>0.949612</td>\n",
       "      <td>0.869305</td>\n",
       "    </tr>\n",
       "  </tbody>\n",
       "</table>\n",
       "</div>"
      ],
      "text/plain": [
       "   variance_threshold  truncation_level  signature_weight  n_clusters  \\\n",
       "0        0.000000e+00              10.0               2.0         9.0   \n",
       "1        0.000000e+00              10.0               2.0         7.0   \n",
       "2        0.000000e+00              10.0               2.0         5.0   \n",
       "3        0.000000e+00              10.0               2.0         8.0   \n",
       "4        0.000000e+00              10.0               2.0         6.0   \n",
       "5        0.000000e+00              10.0               2.0        15.0   \n",
       "6        0.000000e+00               5.0               3.0         8.0   \n",
       "7        1.000000e-09               5.0               3.0         9.0   \n",
       "8        0.000000e+00              15.0               2.0         9.0   \n",
       "9        0.000000e+00              15.0               3.0         9.0   \n",
       "\n",
       "   ARI_standardized  NMI_standardized  \n",
       "0          0.455478          0.634319  \n",
       "1          0.867993          0.747505  \n",
       "2          0.746163          0.704894  \n",
       "3          0.468378          0.634098  \n",
       "4          0.731497          0.683264  \n",
       "5          0.370048          0.635436  \n",
       "6          0.586025          0.527567  \n",
       "7          0.496869          0.482446  \n",
       "8          0.538607          0.738347  \n",
       "9          0.949612          0.869305  "
      ]
     },
     "execution_count": 17,
     "metadata": {},
     "output_type": "execute_result"
    }
   ],
   "source": [
    "master_results_df"
   ]
  },
  {
   "cell_type": "code",
   "execution_count": 21,
   "id": "4b677fd9-6e88-4644-b9c2-c426017f24f2",
   "metadata": {},
   "outputs": [
    {
     "name": "stdout",
     "output_type": "stream",
     "text": [
      "Data saved to ../results/tables/master_results_comparison_kmeans_sig_V_representatives_x1_dropOther.csv\n"
     ]
    }
   ],
   "source": [
    "# Save results\n",
    "\n",
    "# Generate the filename\n",
    "filename = f'../results/tables/master_results_comparison_kmeans_sig_V_representatives_x1_dropOther.csv'\n",
    "\n",
    "# Save the DataFrame\n",
    "master_results_df.to_csv(filename, index=False)\n",
    "\n",
    "print(f\"Data saved to {filename}\")"
   ]
  },
  {
   "cell_type": "markdown",
   "id": "e298c7f7-c973-4164-ba7c-ed2565975e4f",
   "metadata": {},
   "source": [
    "## 4. Visualize results"
   ]
  },
  {
   "cell_type": "markdown",
   "id": "7c397b50-e95d-4931-b852-7dfb03e0215e",
   "metadata": {},
   "source": [
    "### 4.1. Histogram"
   ]
  },
  {
   "cell_type": "code",
   "execution_count": 19,
   "id": "f6d69227-2185-43ba-ba1f-2176181c84f0",
   "metadata": {},
   "outputs": [
    {
     "data": {
      "image/png": "[encoded data removed]",
      "text/plain": [
       "<Figure size 640x480 with 1 Axes>"
      ]
     },
     "metadata": {},
     "output_type": "display_data"
    }
   ],
   "source": [
    "import seaborn as sns\n",
    "\n",
    "# Create a cross-tabulation of clusters and classes\n",
    "cross_tab = pd.crosstab(merged_df['Cluster_standardized'], merged_df['Representative'])\n",
    "\n",
    "# Plot the stacked bar plot\n",
    "cross_tab.plot(kind='bar', stacked=True, colormap='turbo')\n",
    "plt.title(\"Cluster vs Class Representative Distribution\")\n",
    "plt.xlabel(\"Cluster\")\n",
    "plt.ylabel(\"Count\")\n",
    "plt.legend(title=\"Rep\")\n",
    "plt.show()"
   ]
  },
  {
   "cell_type": "code",
   "execution_count": 20,
   "id": "96cb87e8-713e-4cbc-9085-c26b3fd66933",
   "metadata": {},
   "outputs": [],
   "source": [
    "# Save the figure\n",
    "hist_figname= f'../results/fig/hplot_cluster_v_rep_x1_L{trunc_level}_W{sig_weight}_thresh_{var_threshold}_Clusters_{n_clusters}.png'\n",
    "plt.savefig(hist_figname, dpi=300, bbox_inches='tight')\n",
    "plt.close()  # Prevents duplicate display in notebook"
   ]
  },
  {
   "cell_type": "markdown",
   "id": "7fc351e6-2f1c-4f95-a42c-cbb07b00e991",
   "metadata": {},
   "source": [
    "### 4.2. Format the results table for better display"
   ]
  },
  {
   "cell_type": "code",
   "execution_count": 23,
   "id": "f2297838-4122-4401-8ffd-5cff3fb57f49",
   "metadata": {},
   "outputs": [],
   "source": [
    "Y = master_results_df.drop(columns=['variance_threshold'])\n",
    "Y = Y.rename(columns={'ARI_standardized': 'ARI', 'NMI_standardized': 'NMI'})\n",
    "new_order = ['truncation_level', 'signature_weight', 'n_clusters', \n",
    "             'ARI', 'NMI']"
   ]
  },
  {
   "cell_type": "code",
   "execution_count": 24,
   "id": "5af545c1-15a4-4c8b-a9aa-9c6813e74df0",
   "metadata": {},
   "outputs": [],
   "source": [
    "def highlight_top_rows(row):\n",
    "    return ['background-color: yellow' if row['ARI'] > 0.9 else '' for _ in row]\n"
   ]
  },
  {
   "cell_type": "code",
   "execution_count": 25,
   "id": "b0ef9b50-f7ca-494f-acc8-0f90b89dd3a6",
   "metadata": {},
   "outputs": [],
   "source": [
    "# Style integers as integers, floats with 2 decimals\n",
    "styled_df = Y.sort_values('ARI', ascending=False).style.format({\n",
    "    'truncation_level': '{:.0f}',         # No decimals for integers\n",
    "    'signature_weight' : '{:.0f}',\n",
    "    'n_clusters' : '{:.0f}',\n",
    "    'ARI': '{:.3f}',         # 2 decimals for metrics\n",
    "    'NMI': '{:.3f}'\n",
    "}).apply(highlight_top_rows, axis=1).set_properties(**{\n",
    "    'border': '1px solid black',\n",
    "    'text-align': 'center'\n",
    "}).set_table_styles([\n",
    "    {  # Style for headers\n",
    "        'selector': 'th',\n",
    "        'props': [\n",
    "            ('background-color', '#404040'),\n",
    "            ('color', 'white'),\n",
    "            ('width', '100px')  # Fixed width for all headers\n",
    "        ]\n",
    "    },\n",
    "    {  # Style for data cells (to match headers)\n",
    "        'selector': 'td',\n",
    "        'props': [\n",
    "            ('width', '100px')  # Same width as headers\n",
    "        ]\n",
    "    }\n",
    "])"
   ]
  },
  {
   "cell_type": "code",
   "execution_count": 26,
   "id": "3b682384-4bff-40e4-8aed-8a42489b9d97",
   "metadata": {},
   "outputs": [
    {
     "data": {
      "text/html": [
       "<style type=\"text/css\">\n",
       "#T_0ee5e th {\n",
       "  background-color: #404040;\n",
       "  color: white;\n",
       "  width: 100px;\n",
       "}\n",
       "#T_0ee5e td {\n",
       "  width: 100px;\n",
       "}\n",
       "#T_0ee5e_row0_col0, #T_0ee5e_row0_col1, #T_0ee5e_row0_col2, #T_0ee5e_row0_col3, #T_0ee5e_row0_col4 {\n",
       "  background-color: yellow;\n",
       "  border: 1px solid black;\n",
       "  text-align: center;\n",
       "  background-color: yellow;\n",
       "}\n",
       "#T_0ee5e_row1_col0, #T_0ee5e_row1_col1, #T_0ee5e_row1_col2, #T_0ee5e_row1_col3, #T_0ee5e_row1_col4, #T_0ee5e_row2_col0, #T_0ee5e_row2_col1, #T_0ee5e_row2_col2, #T_0ee5e_row2_col3, #T_0ee5e_row2_col4, #T_0ee5e_row3_col0, #T_0ee5e_row3_col1, #T_0ee5e_row3_col2, #T_0ee5e_row3_col3, #T_0ee5e_row3_col4, #T_0ee5e_row4_col0, #T_0ee5e_row4_col1, #T_0ee5e_row4_col2, #T_0ee5e_row4_col3, #T_0ee5e_row4_col4, #T_0ee5e_row5_col0, #T_0ee5e_row5_col1, #T_0ee5e_row5_col2, #T_0ee5e_row5_col3, #T_0ee5e_row5_col4, #T_0ee5e_row6_col0, #T_0ee5e_row6_col1, #T_0ee5e_row6_col2, #T_0ee5e_row6_col3, #T_0ee5e_row6_col4, #T_0ee5e_row7_col0, #T_0ee5e_row7_col1, #T_0ee5e_row7_col2, #T_0ee5e_row7_col3, #T_0ee5e_row7_col4, #T_0ee5e_row8_col0, #T_0ee5e_row8_col1, #T_0ee5e_row8_col2, #T_0ee5e_row8_col3, #T_0ee5e_row8_col4, #T_0ee5e_row9_col0, #T_0ee5e_row9_col1, #T_0ee5e_row9_col2, #T_0ee5e_row9_col3, #T_0ee5e_row9_col4 {\n",
       "  border: 1px solid black;\n",
       "  text-align: center;\n",
       "}\n",
       "</style>\n",
       "<table id=\"T_0ee5e\">\n",
       "  <thead>\n",
       "    <tr>\n",
       "      <th class=\"blank level0\" >&nbsp;</th>\n",
       "      <th id=\"T_0ee5e_level0_col0\" class=\"col_heading level0 col0\" >truncation_level</th>\n",
       "      <th id=\"T_0ee5e_level0_col1\" class=\"col_heading level0 col1\" >signature_weight</th>\n",
       "      <th id=\"T_0ee5e_level0_col2\" class=\"col_heading level0 col2\" >n_clusters</th>\n",
       "      <th id=\"T_0ee5e_level0_col3\" class=\"col_heading level0 col3\" >ARI</th>\n",
       "      <th id=\"T_0ee5e_level0_col4\" class=\"col_heading level0 col4\" >NMI</th>\n",
       "    </tr>\n",
       "  </thead>\n",
       "  <tbody>\n",
       "    <tr>\n",
       "      <th id=\"T_0ee5e_level0_row0\" class=\"row_heading level0 row0\" >9</th>\n",
       "      <td id=\"T_0ee5e_row0_col0\" class=\"data row0 col0\" >15</td>\n",
       "      <td id=\"T_0ee5e_row0_col1\" class=\"data row0 col1\" >3</td>\n",
       "      <td id=\"T_0ee5e_row0_col2\" class=\"data row0 col2\" >9</td>\n",
       "      <td id=\"T_0ee5e_row0_col3\" class=\"data row0 col3\" >0.950</td>\n",
       "      <td id=\"T_0ee5e_row0_col4\" class=\"data row0 col4\" >0.869</td>\n",
       "    </tr>\n",
       "    <tr>\n",
       "      <th id=\"T_0ee5e_level0_row1\" class=\"row_heading level0 row1\" >1</th>\n",
       "      <td id=\"T_0ee5e_row1_col0\" class=\"data row1 col0\" >10</td>\n",
       "      <td id=\"T_0ee5e_row1_col1\" class=\"data row1 col1\" >2</td>\n",
       "      <td id=\"T_0ee5e_row1_col2\" class=\"data row1 col2\" >7</td>\n",
       "      <td id=\"T_0ee5e_row1_col3\" class=\"data row1 col3\" >0.868</td>\n",
       "      <td id=\"T_0ee5e_row1_col4\" class=\"data row1 col4\" >0.748</td>\n",
       "    </tr>\n",
       "    <tr>\n",
       "      <th id=\"T_0ee5e_level0_row2\" class=\"row_heading level0 row2\" >2</th>\n",
       "      <td id=\"T_0ee5e_row2_col0\" class=\"data row2 col0\" >10</td>\n",
       "      <td id=\"T_0ee5e_row2_col1\" class=\"data row2 col1\" >2</td>\n",
       "      <td id=\"T_0ee5e_row2_col2\" class=\"data row2 col2\" >5</td>\n",
       "      <td id=\"T_0ee5e_row2_col3\" class=\"data row2 col3\" >0.746</td>\n",
       "      <td id=\"T_0ee5e_row2_col4\" class=\"data row2 col4\" >0.705</td>\n",
       "    </tr>\n",
       "    <tr>\n",
       "      <th id=\"T_0ee5e_level0_row3\" class=\"row_heading level0 row3\" >4</th>\n",
       "      <td id=\"T_0ee5e_row3_col0\" class=\"data row3 col0\" >10</td>\n",
       "      <td id=\"T_0ee5e_row3_col1\" class=\"data row3 col1\" >2</td>\n",
       "      <td id=\"T_0ee5e_row3_col2\" class=\"data row3 col2\" >6</td>\n",
       "      <td id=\"T_0ee5e_row3_col3\" class=\"data row3 col3\" >0.731</td>\n",
       "      <td id=\"T_0ee5e_row3_col4\" class=\"data row3 col4\" >0.683</td>\n",
       "    </tr>\n",
       "    <tr>\n",
       "      <th id=\"T_0ee5e_level0_row4\" class=\"row_heading level0 row4\" >6</th>\n",
       "      <td id=\"T_0ee5e_row4_col0\" class=\"data row4 col0\" >5</td>\n",
       "      <td id=\"T_0ee5e_row4_col1\" class=\"data row4 col1\" >3</td>\n",
       "      <td id=\"T_0ee5e_row4_col2\" class=\"data row4 col2\" >8</td>\n",
       "      <td id=\"T_0ee5e_row4_col3\" class=\"data row4 col3\" >0.586</td>\n",
       "      <td id=\"T_0ee5e_row4_col4\" class=\"data row4 col4\" >0.528</td>\n",
       "    </tr>\n",
       "    <tr>\n",
       "      <th id=\"T_0ee5e_level0_row5\" class=\"row_heading level0 row5\" >8</th>\n",
       "      <td id=\"T_0ee5e_row5_col0\" class=\"data row5 col0\" >15</td>\n",
       "      <td id=\"T_0ee5e_row5_col1\" class=\"data row5 col1\" >2</td>\n",
       "      <td id=\"T_0ee5e_row5_col2\" class=\"data row5 col2\" >9</td>\n",
       "      <td id=\"T_0ee5e_row5_col3\" class=\"data row5 col3\" >0.539</td>\n",
       "      <td id=\"T_0ee5e_row5_col4\" class=\"data row5 col4\" >0.738</td>\n",
       "    </tr>\n",
       "    <tr>\n",
       "      <th id=\"T_0ee5e_level0_row6\" class=\"row_heading level0 row6\" >7</th>\n",
       "      <td id=\"T_0ee5e_row6_col0\" class=\"data row6 col0\" >5</td>\n",
       "      <td id=\"T_0ee5e_row6_col1\" class=\"data row6 col1\" >3</td>\n",
       "      <td id=\"T_0ee5e_row6_col2\" class=\"data row6 col2\" >9</td>\n",
       "      <td id=\"T_0ee5e_row6_col3\" class=\"data row6 col3\" >0.497</td>\n",
       "      <td id=\"T_0ee5e_row6_col4\" class=\"data row6 col4\" >0.482</td>\n",
       "    </tr>\n",
       "    <tr>\n",
       "      <th id=\"T_0ee5e_level0_row7\" class=\"row_heading level0 row7\" >3</th>\n",
       "      <td id=\"T_0ee5e_row7_col0\" class=\"data row7 col0\" >10</td>\n",
       "      <td id=\"T_0ee5e_row7_col1\" class=\"data row7 col1\" >2</td>\n",
       "      <td id=\"T_0ee5e_row7_col2\" class=\"data row7 col2\" >8</td>\n",
       "      <td id=\"T_0ee5e_row7_col3\" class=\"data row7 col3\" >0.468</td>\n",
       "      <td id=\"T_0ee5e_row7_col4\" class=\"data row7 col4\" >0.634</td>\n",
       "    </tr>\n",
       "    <tr>\n",
       "      <th id=\"T_0ee5e_level0_row8\" class=\"row_heading level0 row8\" >0</th>\n",
       "      <td id=\"T_0ee5e_row8_col0\" class=\"data row8 col0\" >10</td>\n",
       "      <td id=\"T_0ee5e_row8_col1\" class=\"data row8 col1\" >2</td>\n",
       "      <td id=\"T_0ee5e_row8_col2\" class=\"data row8 col2\" >9</td>\n",
       "      <td id=\"T_0ee5e_row8_col3\" class=\"data row8 col3\" >0.455</td>\n",
       "      <td id=\"T_0ee5e_row8_col4\" class=\"data row8 col4\" >0.634</td>\n",
       "    </tr>\n",
       "    <tr>\n",
       "      <th id=\"T_0ee5e_level0_row9\" class=\"row_heading level0 row9\" >5</th>\n",
       "      <td id=\"T_0ee5e_row9_col0\" class=\"data row9 col0\" >10</td>\n",
       "      <td id=\"T_0ee5e_row9_col1\" class=\"data row9 col1\" >2</td>\n",
       "      <td id=\"T_0ee5e_row9_col2\" class=\"data row9 col2\" >15</td>\n",
       "      <td id=\"T_0ee5e_row9_col3\" class=\"data row9 col3\" >0.370</td>\n",
       "      <td id=\"T_0ee5e_row9_col4\" class=\"data row9 col4\" >0.635</td>\n",
       "    </tr>\n",
       "  </tbody>\n",
       "</table>\n"
      ],
      "text/plain": [
       "<pandas.io.formats.style.Styler at 0x76d387c75ac0>"
      ]
     },
     "execution_count": 26,
     "metadata": {},
     "output_type": "execute_result"
    }
   ],
   "source": [
    "styled_df = styled_df.apply(highlight_top_rows, axis=1)\n",
    "styled_df"
   ]
  }
 ],
 "metadata": {
  "kernelspec": {
   "display_name": "Python 3 (ipykernel)",
   "language": "python",
   "name": "python3"
  },
  "language_info": {
   "codemirror_mode": {
    "name": "ipython",
    "version": 3
   },
   "file_extension": ".py",
   "mimetype": "text/x-python",
   "name": "python",
   "nbconvert_exporter": "python",
   "pygments_lexer": "ipython3",
   "version": "3.9.21"
  }
 },
 "nbformat": 4,
 "nbformat_minor": 5
}
