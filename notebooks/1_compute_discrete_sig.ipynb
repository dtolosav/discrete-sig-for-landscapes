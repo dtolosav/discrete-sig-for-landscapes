{
 "cells": [
  {
   "cell_type": "code",
   "execution_count": 3,
   "id": "09dc1d05-38ca-443f-96f1-9f41df5bcb11",
   "metadata": {},
   "outputs": [],
   "source": [
    "def load_lan_file(filename, trunc_level):\n",
    "    \"\"\"\n",
    "    Reads a .lan file and returns a list of levels truncated (or extended) to trunc_level.\n",
    "    \n",
    "    Each level is represented as a list of tuples (epsilon, critical_value).\n",
    "    The file is assumed to use header lines (starting with '#' or '%') to indicate\n",
    "    the beginning of a new level. The function stops reading new levels once trunc_level\n",
    "    levels have been loaded. If the file contains fewer than trunc_level levels, the output\n",
    "    list is extended with empty lists.\n",
    "    \n",
    "    Parameters:\n",
    "      filename: path to the .lan file.\n",
    "      trunc_level: integer specifying the desired number of levels.\n",
    "      \n",
    "    Returns:\n",
    "      A list of length trunc_level. Each entry is a list of (epsilon, critical_value) tuples.\n",
    "    \"\"\"\n",
    "    levels = []\n",
    "    current_points = []\n",
    "    current_level_count = 0\n",
    "\n",
    "    with open(filename, 'r') as f:\n",
    "        for line in f:\n",
    "            line = line.strip()\n",
    "            if not line:\n",
    "                continue  # Skip empty lines\n",
    "            if line.startswith('#') or line.startswith('%'):\n",
    "                # Header encountered: if we already have accumulated points,\n",
    "                # finish the previous level.\n",
    "                if current_points:\n",
    "                    levels.append(current_points)\n",
    "                    current_points = []\n",
    "                    current_level_count += 1\n",
    "                    # Stop if we've reached the truncation limit.\n",
    "                    if current_level_count == trunc_level:\n",
    "                        break\n",
    "                # Otherwise, it's just a header and we start a new level.\n",
    "                continue\n",
    "            # Only parse data if we haven't reached the truncation limit.\n",
    "            if current_level_count < trunc_level:\n",
    "                tokens = line.split()\n",
    "                if len(tokens) != 2:\n",
    "                    raise ValueError(\"Expected exactly two tokens per critical point line, got: \" + str(tokens))\n",
    "                eps = float(tokens[0])\n",
    "                val = float(tokens[1])\n",
    "                current_points.append((eps, val))\n",
    "    \n",
    "    # After finishing reading, add any remaining points as the last level if we haven't reached the limit.\n",
    "    if current_points and current_level_count < trunc_level:\n",
    "        levels.append(current_points)\n",
    "        current_level_count += 1\n",
    "\n",
    "    # If we still don't have enough levels, extend with empty lists.\n",
    "    while current_level_count < trunc_level:\n",
    "        levels.append([])\n",
    "        current_level_count += 1\n",
    "\n",
    "    return levels\n",
    "\n",
    "# Example usage:\n",
    "# filename = \"1by7_A_1.lan\"  # Replace with your file path\n",
    "# desired_levels = 3         # For example, truncate (or extend) to 3 levels\n",
    "# levels_data = load_lan_file(filename, desired_levels)\n",
    "\n",
    "# # Each entry in levels_data is a list of (epsilon, critical_value) pairs.\n",
    "# for i, level in enumerate(levels_data, start=1):\n",
    "#     print(f\"Level {i}:\")\n",
    "#     for pt in level:\n",
    "#         print(\"  epsilon =\", pt[0], \", value =\", pt[1])\n"
   ]
  },
  {
   "cell_type": "code",
   "execution_count": 45,
   "id": "025d9c6f-39e9-4c0f-962c-77d4509e6fd0",
   "metadata": {},
   "outputs": [],
   "source": [
    "# Example usage:\n",
    "filename = \"ph-knotted-proteins/data/validation/landscapes/interpolated_x1/1by7_A_1.lan\"  # Replace with your file path\n",
    "desired_levels = 5         # For example, truncate (or extend) to 3 levels\n",
    "levels_data = load_lan_file(filename, desired_levels)\n",
    "\n",
    "# Each entry in levels_data is a list of (epsilon, critical_value) pairs.\n",
    "# for i, level in enumerate(levels_data, start=1):\n",
    "#     print(f\"Level {i}:\")\n",
    "#     for pt in level:\n",
    "#         print(\"  epsilon =\", pt[0], \", value =\", pt[1])"
   ]
  },
  {
   "cell_type": "code",
   "execution_count": 4,
   "id": "6da6dd2e-4084-43fd-b235-f2ab2c24409a",
   "metadata": {},
   "outputs": [],
   "source": [
    "def eval_landscape(points, t):\n",
    "    \"\"\"\n",
    "    Evaluates a landscape function (given as a list of critical points)\n",
    "    at the point t by linear interpolation.\n",
    "    \n",
    "    The function is assumed to be 0 outside the range of the critical points.\n",
    "    \"\"\"\n",
    "    if not points:\n",
    "        return 0.0\n",
    "    # t is outside the range of the critical points -> return 0.\n",
    "    if t < points[0][0] or t > points[-1][0]:\n",
    "        return 0.0\n",
    "    # Find the interval [x0, x1] in which t lies.\n",
    "    for i in range(1, len(points)):\n",
    "        x0, y0 = points[i-1]\n",
    "        x1, y1 = points[i]\n",
    "        if x0 <= t <= x1:\n",
    "            # if t is exactly a critical point, return its value\n",
    "            if t == x0:\n",
    "                return y0\n",
    "            if t == x1:\n",
    "                return y1\n",
    "            # Linear interpolation\n",
    "            return y0 + (y1 - y0) * (t - x0) / (x1 - x0)\n",
    "    return 0.0\n",
    "\n",
    "def create_time_series(levels, trunc_level):\n",
    "    \"\"\"\n",
    "    Given a list of levels (each a list of (epsilon, value) tuples),\n",
    "    creates a time series (as a NumPy array) with truncation/extension to trunc_level.\n",
    "    \n",
    "    The output is an array of shape (trunc_level+1, T), where T is the number\n",
    "    of unique epsilon values across the first trunc_level levels.\n",
    "    \n",
    "    The last row contains the unique epsilon values (in ascending order).\n",
    "    Each of the first trunc_level rows contains the evaluation of that level's\n",
    "    landscape function at each epsilon value.\n",
    "    \"\"\"\n",
    "    num_levels_in_file = len(levels)\n",
    "    \n",
    "    # If the file has fewer than trunc_level levels, extend with empty lists (interpreted as identically zero).\n",
    "    if num_levels_in_file < trunc_level:\n",
    "        for _ in range(trunc_level - num_levels_in_file):\n",
    "            levels.append([])\n",
    "    else:\n",
    "        # Otherwise, only consider the first trunc_level levels.\n",
    "        levels = levels[:trunc_level]\n",
    "    \n",
    "    # Collect all epsilon values from the levels.\n",
    "    epsilon_set = set()\n",
    "    for pts in levels:\n",
    "        for (eps, _) in pts:\n",
    "            epsilon_set.add(eps)\n",
    "    epsilon_vals = sorted(epsilon_set)\n",
    "    \n",
    "    T = len(epsilon_vals)\n",
    "    ts = np.zeros((trunc_level + 1, T))\n",
    "    # The last row is simply the epsilon values.\n",
    "    ts[trunc_level, :] = epsilon_vals\n",
    "    \n",
    "    # Evaluate each level's landscape function at each epsilon.\n",
    "    for i, pts in enumerate(levels):\n",
    "        for j, t in enumerate(epsilon_vals):\n",
    "            ts[i, j] = eval_landscape(pts, t)\n",
    "    return ts"
   ]
  },
  {
   "cell_type": "code",
   "execution_count": 47,
   "id": "ce1e003c-41e4-4d66-a27d-d739742ea31d",
   "metadata": {},
   "outputs": [
    {
     "name": "stdout",
     "output_type": "stream",
     "text": [
      "Time-series array (each column is a time step):\n",
      "[[0.000000e+00 3.300000e-04 4.854000e-02 9.206000e-02 1.165600e-01\n",
      "  6.142350e-01 6.140700e-01 6.381750e-01 6.599350e-01 6.721850e-01\n",
      "  6.756850e-01 8.111350e-01 8.298450e-01 8.823400e-01 9.045500e-01\n",
      "  9.329550e-01 9.927600e-01 1.027220e+00 1.031045e+00 1.064175e+00\n",
      "  1.088755e+00 1.108340e+00 1.160460e+00 1.136355e+00 1.192575e+00\n",
      "  1.254110e+00 1.273695e+00 1.281870e+00 1.958360e+00 1.997830e+00\n",
      "  2.066305e+00 2.085890e+00 2.133535e+00 2.190015e+00 2.550380e+00\n",
      "  2.553925e+00 2.606860e+00 2.643190e+00 2.958010e+00 3.095335e+00\n",
      "  3.131665e+00 3.146525e+00 3.203905e+00 3.062100e+00 3.000025e+00\n",
      "  2.985165e+00 2.785980e+00 2.679305e+00 2.528370e+00 2.513470e+00\n",
      "  2.291740e+00 2.107455e+00 2.078335e+00 1.808975e+00 1.779855e+00\n",
      "  1.702300e+00 1.595495e+00 1.118030e+00 9.629200e-01 9.508800e-01\n",
      "  9.200900e-01 8.893000e-01 7.493100e-01 6.042300e-01 0.000000e+00]\n",
      " [0.000000e+00 0.000000e+00 4.821000e-02 9.173000e-02 1.162300e-01\n",
      "  6.139050e-01 6.140700e-01 5.899650e-01 6.117250e-01 6.239750e-01\n",
      "  6.274750e-01 7.629250e-01 7.816350e-01 8.341300e-01 8.563400e-01\n",
      "  8.847450e-01 9.445500e-01 9.790100e-01 9.828350e-01 1.015965e+00\n",
      "  1.040545e+00 1.060130e+00 1.112250e+00 1.136355e+00 1.080135e+00\n",
      "  1.141670e+00 1.161255e+00 1.169430e+00 1.845920e+00 1.885390e+00\n",
      "  1.953865e+00 1.973450e+00 2.021095e+00 2.077575e+00 2.437940e+00\n",
      "  2.441485e+00 2.494420e+00 2.530750e+00 2.845570e+00 2.708245e+00\n",
      "  2.671915e+00 2.657055e+00 2.599675e+00 2.457870e+00 2.395795e+00\n",
      "  2.380935e+00 2.181750e+00 2.075075e+00 1.924140e+00 1.909240e+00\n",
      "  1.687510e+00 1.503225e+00 1.474105e+00 1.204745e+00 1.175625e+00\n",
      "  1.098070e+00 9.912650e-01 5.138000e-01 3.586900e-01 3.466500e-01\n",
      "  3.158600e-01 2.850700e-01 1.450800e-01 0.000000e+00 0.000000e+00]\n",
      " [0.000000e+00 0.000000e+00 0.000000e+00 4.352000e-02 6.802000e-02\n",
      "  5.656950e-01 5.658600e-01 5.899650e-01 5.682050e-01 5.804550e-01\n",
      "  5.839550e-01 7.194050e-01 7.381150e-01 7.906100e-01 8.128200e-01\n",
      "  8.412250e-01 9.010300e-01 8.665700e-01 8.703950e-01 9.035250e-01\n",
      "  9.281050e-01 9.476900e-01 9.998100e-01 1.023915e+00 1.080135e+00\n",
      "  1.018600e+00 1.038185e+00 1.046360e+00 1.722850e+00 1.762320e+00\n",
      "  1.830795e+00 1.811210e+00 1.858855e+00 1.915335e+00 2.275700e+00\n",
      "  2.279245e+00 2.226310e+00 2.189980e+00 1.875160e+00 1.737835e+00\n",
      "  1.701505e+00 1.686645e+00 1.744025e+00 1.885830e+00 1.823755e+00\n",
      "  1.808895e+00 1.609710e+00 1.716385e+00 1.565450e+00 1.550550e+00\n",
      "  1.328820e+00 1.144535e+00 1.115415e+00 8.460550e-01 8.169350e-01\n",
      "  7.393800e-01 8.461850e-01 3.687200e-01 2.136100e-01 2.015700e-01\n",
      "  1.707800e-01 1.399900e-01 0.000000e+00 0.000000e+00 0.000000e+00]\n",
      " [0.000000e+00 0.000000e+00 0.000000e+00 0.000000e+00 2.450000e-02\n",
      "  5.221750e-01 5.223400e-01 5.464450e-01 5.682050e-01 5.559550e-01\n",
      "  5.594550e-01 6.949050e-01 7.136150e-01 7.661100e-01 7.439000e-01\n",
      "  7.723050e-01 8.321100e-01 8.665700e-01 8.627450e-01 8.296150e-01\n",
      "  8.050350e-01 8.246200e-01 8.767400e-01 9.008450e-01 9.570650e-01\n",
      "  1.018600e+00 9.990150e-01 1.007190e+00 1.683680e+00 1.723150e+00\n",
      "  1.791625e+00 1.811210e+00 1.763565e+00 1.820045e+00 2.180410e+00\n",
      "  2.176865e+00 2.123930e+00 2.160260e+00 1.845440e+00 1.708115e+00\n",
      "  1.671785e+00 1.686645e+00 1.629265e+00 1.487460e+00 1.425385e+00\n",
      "  1.410525e+00 1.609710e+00 1.503035e+00 1.352100e+00 1.337200e+00\n",
      "  1.115470e+00 9.311850e-01 9.603050e-01 6.909450e-01 6.618250e-01\n",
      "  7.393800e-01 6.325750e-01 1.551100e-01 0.000000e+00 0.000000e+00\n",
      "  3.079000e-02 0.000000e+00 0.000000e+00 0.000000e+00 0.000000e+00]\n",
      " [0.000000e+00 0.000000e+00 0.000000e+00 0.000000e+00 0.000000e+00\n",
      "  4.976750e-01 4.978400e-01 5.219450e-01 5.437050e-01 5.559550e-01\n",
      "  5.524550e-01 6.879050e-01 6.691950e-01 7.216900e-01 7.439000e-01\n",
      "  7.154950e-01 7.753000e-01 8.097600e-01 8.135850e-01 7.804550e-01\n",
      "  8.050350e-01 7.854500e-01 8.375700e-01 8.616750e-01 9.178950e-01\n",
      "  9.794300e-01 9.990150e-01 9.908400e-01 1.667330e+00 1.627860e+00\n",
      "  1.696335e+00 1.715920e+00 1.763565e+00 1.707085e+00 2.067450e+00\n",
      "  2.070995e+00 2.123930e+00 2.087600e+00 1.772780e+00 1.635455e+00\n",
      "  1.671785e+00 1.656925e+00 1.599545e+00 1.457740e+00 1.395665e+00\n",
      "  1.410525e+00 1.211340e+00 1.104665e+00 9.537300e-01 9.686300e-01\n",
      "  7.469000e-01 9.311850e-01 9.020650e-01 6.327050e-01 6.618250e-01\n",
      "  5.842700e-01 4.774650e-01 0.000000e+00 0.000000e+00 0.000000e+00\n",
      "  0.000000e+00 0.000000e+00 0.000000e+00 0.000000e+00 0.000000e+00]\n",
      " [3.992950e+00 3.993280e+00 4.041490e+00 4.085010e+00 4.109510e+00\n",
      "  4.607185e+00 4.607350e+00 4.631455e+00 4.653215e+00 4.665465e+00\n",
      "  4.668965e+00 4.804415e+00 4.823125e+00 4.875620e+00 4.897830e+00\n",
      "  4.926235e+00 4.986040e+00 5.020500e+00 5.024325e+00 5.057455e+00\n",
      "  5.082035e+00 5.101620e+00 5.153740e+00 5.177845e+00 5.234065e+00\n",
      "  5.295600e+00 5.315185e+00 5.323360e+00 5.999850e+00 6.039320e+00\n",
      "  6.107795e+00 6.127380e+00 6.175025e+00 6.231505e+00 6.591870e+00\n",
      "  6.595415e+00 6.648350e+00 6.684680e+00 6.999500e+00 7.136825e+00\n",
      "  7.173155e+00 7.188015e+00 7.245395e+00 7.387200e+00 7.449275e+00\n",
      "  7.464135e+00 7.663320e+00 7.769995e+00 7.920930e+00 7.935830e+00\n",
      "  8.157560e+00 8.341845e+00 8.370965e+00 8.640325e+00 8.669445e+00\n",
      "  8.747000e+00 8.853805e+00 9.331270e+00 9.486380e+00 9.498420e+00\n",
      "  9.529210e+00 9.560000e+00 9.699990e+00 9.845070e+00 1.044930e+01]]\n"
     ]
    }
   ],
   "source": [
    "# ----------------------------\n",
    "# Example usage:\n",
    "num_levels = 5\n",
    "time_series = create_time_series(levels_data, num_levels)\n",
    "\n",
    "print(\"Time-series array (each column is a time step):\")\n",
    "print(time_series)"
   ]
  },
  {
   "cell_type": "markdown",
   "id": "40da679f-c40b-4185-adba-7b665e4c7d2b",
   "metadata": {},
   "source": [
    "## Now we can use the time-series as input for the signature computation"
   ]
  },
  {
   "cell_type": "code",
   "execution_count": 48,
   "id": "8a4230b7-c511-4261-b2e4-f9bbcb3ebeca",
   "metadata": {},
   "outputs": [],
   "source": [
    "# Get rid of the last row\n",
    "ts_crit_vals = time_series[:-1, :]\n",
    "\n",
    "# Get the dimensions: levels and number of time points\n",
    "levels, length = ts_crit_vals.shape\n",
    "\n",
    "# Create 3D numpy array containing all landscapes considered\n",
    "ts_crit_vals_all = ts_crit_vals.reshape(1,levels,length)"
   ]
  },
  {
   "cell_type": "code",
   "execution_count": 11,
   "id": "e8d93939-3b67-429e-b856-cf268550e7e8",
   "metadata": {},
   "outputs": [],
   "source": [
    "# import numpy as np\n",
    "# import matplotlib.pyplot as plt\n",
    "\n",
    "def visualize_landscape(time_series, time = global_eps, figsize=(6, 4), title='Persistence Landscape'):\n",
    "    \"\"\"\n",
    "    Visualize a persistence landscape given its time-series representation.\n",
    "    \n",
    "    Parameters:\n",
    "      time_series : numpy.ndarray\n",
    "          A NumPy array of shape (l+1, T) where the last row contains the \n",
    "          epsilon (time) values and the first l rows contain the landscape levels.\n",
    "      figsize : tuple, optional\n",
    "          Figure size for the plot (default is (6, 4)).\n",
    "      title : str, optional\n",
    "          Title of the plot.\n",
    "    \"\"\"\n",
    "    # Extract the epsilon scale (x-axis) from the last row.\n",
    "    # time = time_series[-1, :]\n",
    "\n",
    "    # Determine the number of levels: all rows except the last one.\n",
    "    num_levels = time_series.shape[0]\n",
    "\n",
    "    plt.figure(figsize=figsize)\n",
    "\n",
    "    # Generate a list of colors using a colormap (here using 'viridis').\n",
    "    cmap = plt.get_cmap('viridis')\n",
    "    colors = [cmap(i / num_levels) for i in range(num_levels)]\n",
    "\n",
    "    # Generate labels for each level using LaTeX (e.g., $\\lambda_1$, $\\lambda_2$, ...)\n",
    "    labels = [rf'$\\lambda_{{{i+1}}}$' for i in range(num_levels)]\n",
    "\n",
    "    # Plot each level's landscape (each row from 0 to num_levels-1).\n",
    "    for lev in range(num_levels):\n",
    "        plt.plot(time, time_series[lev, :], label=labels[lev], color=colors[lev], alpha=0.7)\n",
    "\n",
    "    plt.xlabel(r'$\\varepsilon$')\n",
    "    plt.ylabel('Landscape Value')\n",
    "    plt.title(title)\n",
    "    plt.legend()\n",
    "    plt.grid(True)\n",
    "    plt.show()\n"
   ]
  },
  {
   "cell_type": "code",
   "execution_count": 50,
   "id": "0f63f2c6-eb84-4bc6-b562-dc97b6ad4f7d",
   "metadata": {},
   "outputs": [
    {
     "data": {
      "image/png": "[encoded data removed]",
      "text/plain": [
       "<Figure size 600x400 with 1 Axes>"
      ]
     },
     "metadata": {},
     "output_type": "display_data"
    }
   ],
   "source": [
    "visualize_landscape(time_series[:-1,:], time_series[-1, :] )"
   ]
  },
  {
   "cell_type": "code",
   "execution_count": 39,
   "id": "876c099a-6a81-4719-9ce1-d7f5e2db7344",
   "metadata": {},
   "outputs": [
    {
     "data": {
      "image/png": "[encoded data removed]",
      "text/plain": [
       "<Figure size 600x400 with 1 Axes>"
      ]
     },
     "metadata": {},
     "output_type": "display_data"
    }
   ],
   "source": [
    "# Assume time_series is a NumPy array of shape (l+1, T)\n",
    "# where the last row contains the epsilon (time) values.\n",
    "# For example, if you already built it from your data:\n",
    "# time_series = create_time_series(levels_data, trunc_level)\n",
    "# Here, l = trunc_level, and T = number of unique epsilon values.\n",
    "\n",
    "# Extract the epsilon scale (x-axis) from the last row.\n",
    "time = time_series[-1, :]\n",
    "\n",
    "# Determine the number of levels: all rows except the last one.\n",
    "num_levels = time_series.shape[0] - 1\n",
    "\n",
    "plt.figure(figsize=(6, 4))\n",
    "\n",
    "# Generate a list of colors using a colormap (here using 'viridis').\n",
    "cmap = plt.get_cmap('viridis')\n",
    "colors = [cmap(i / num_levels) for i in range(num_levels)]\n",
    "\n",
    "# Generate labels for each level using LaTeX (e.g., $\\lambda_1$, $\\lambda_2$, ...)\n",
    "labels = [rf'$\\lambda_{{{i+1}}}$' for i in range(num_levels)]\n",
    "\n",
    "# Plot each level's landscape (each row from 0 to num_levels-1).\n",
    "for lev in range(num_levels):\n",
    "    plt.plot(time, time_series[lev, :], label=labels[lev], color=colors[lev], alpha=0.7)\n",
    "\n",
    "plt.xlabel(r'$\\varepsilon$')\n",
    "plt.ylabel('Landscape Value')\n",
    "plt.title('Persistence Landscape')\n",
    "plt.legend()\n",
    "plt.grid(True)\n",
    "plt.show()"
   ]
  },
  {
   "cell_type": "code",
   "execution_count": 63,
   "id": "8c6fb3f6-1891-4f38-af9f-43edb30d7b94",
   "metadata": {},
   "outputs": [],
   "source": [
    "# create a fruit\n",
    "fruit = fruits.Fruit(\"my_fruit\")\n",
    "# INC takes the increments of the series, i.e. x_{i+1}-x_i\n",
    "fruit.add(fruits.preparation.transform.INC)\n",
    "\n",
    "# configure the type of Iterated Sums Signature being used\n",
    "# dim is the number of levels\n",
    "Sigma = fruits.ISS(\n",
    "    fruits.words.of_weight(2, dim=levels),\n",
    "    mode=fruits.ISSMode.EXTENDED, # EXTENDED is all weights up to the specified number, and SINGLE is only the ones correpsonding to the specified weight\n",
    ")\n",
    "fruit.add(Sigma)\n",
    "# We specify END: that we want the signature from start to end of the time series as the output of the fruit\n",
    "fruit.add(fruits.sieving.END)"
   ]
  },
  {
   "cell_type": "code",
   "execution_count": 64,
   "id": "ac25d2ac-c548-4435-9280-96cd09b0f25a",
   "metadata": {},
   "outputs": [],
   "source": [
    "# This is how you evaluate your signature on a (tuple of) time series\n",
    "fruit.fit(ts_crit_vals_all)\n",
    "signature = fruit.transform(ts_crit_vals_all)"
   ]
  },
  {
   "cell_type": "code",
   "execution_count": 65,
   "id": "f3fbe9fd-e011-4e35-a3cc-efabfb700386",
   "metadata": {
    "scrolled": true
   },
   "outputs": [
    {
     "name": "stdout",
     "output_type": "stream",
     "text": [
      "[[ 1.95340786  1.5322856   1.21906109  1.18635191  1.18454826  1.58831386\n",
      "   1.24695253  1.22652993  1.22033008  1.56494145  1.33116296  1.31903412\n",
      "   1.54330529  1.32125463  1.51674988  0.         -0.97670393 -2.20433041\n",
      "  -2.15844692 -2.44911061 -2.70358589  0.          0.67204481 -0.79415693\n",
      "  -1.20690487 -1.531049   -1.81346324  0.          0.93938583 -0.04004766\n",
      "  -0.78247072 -0.90509106 -1.1165189   0.          1.2627587   0.30451907\n",
      "  -0.4260719  -0.77165265 -0.90968615  0.          1.51903763  0.59313316\n",
      "  -0.20251522 -0.41156848 -0.75837494]]\n"
     ]
    }
   ],
   "source": [
    "print(signature)"
   ]
  },
  {
   "cell_type": "code",
   "execution_count": 66,
   "id": "ab4091e6-d709-4f91-ad21-d21718b5d13a",
   "metadata": {},
   "outputs": [
    {
     "data": {
      "text/plain": [
       "45"
      ]
     },
     "execution_count": 66,
     "metadata": {},
     "output_type": "execute_result"
    }
   ],
   "source": [
    "len(signature[0])"
   ]
  },
  {
   "cell_type": "code",
   "execution_count": 62,
   "id": "84f47072-4c57-475f-a31c-2090ccae045b",
   "metadata": {},
   "outputs": [
    {
     "data": {
      "text/plain": [
       "'INC | [5][5][5]'"
      ]
     },
     "execution_count": 62,
     "metadata": {},
     "output_type": "execute_result"
    }
   ],
   "source": [
    "# This is the command you use to figure out what signature corresponds to what entry of the returned solution. Indices start at 0.\n",
    "# fruit.label(6,'iterated sums', verbose =1)\n",
    "fruit.label(354,'iterated sums', verbose =1)"
   ]
  },
  {
   "cell_type": "markdown",
   "id": "018ada50-1169-4dea-88c8-b36a3b7326b9",
   "metadata": {},
   "source": [
    "## weight 5 is too much to display! It's not too much too compute though"
   ]
  },
  {
   "cell_type": "code",
   "execution_count": 67,
   "id": "2fed1991-96c1-4d4d-9496-2cecbf3c49b6",
   "metadata": {},
   "outputs": [],
   "source": [
    "num_rows, num_cols = signature.shape"
   ]
  },
  {
   "cell_type": "code",
   "execution_count": 5,
   "id": "fe5ed761-c2aa-4356-9227-8452812dce87",
   "metadata": {},
   "outputs": [],
   "source": [
    "# num_rows, num_cols = signature.shape\n",
    "\n",
    "# This function parses a string expression of the form \"[11][23][123]\"\n",
    "# and returns a tensor product of monomials in the variables Z_1, Z_2, ..., Z_n.\n",
    "def parse_expression(expr):\n",
    "    \"\"\"\n",
    "    Given an expression string like \"[11][23][123]\",\n",
    "    returns a string like \"Z_{1}^{2} \\\\otimes Z_{2}Z_{3} \\\\otimes Z_{1}Z_{2}Z_{3}\".\n",
    "    \"\"\"\n",
    "    # Extract each bracketed part\n",
    "    parts = re.findall(r'\\[(.*?)\\]', expr)\n",
    "    monomials = []\n",
    "    for part in parts:\n",
    "        # Count the occurrences of each digit\n",
    "        counts = {}\n",
    "        for ch in part:\n",
    "            counts[ch] = counts.get(ch, 0) + 1\n",
    "        # Build the monomial string: sort the digits for consistency\n",
    "        monomial_parts = []\n",
    "        for digit in sorted(counts.keys()):\n",
    "            exp = counts[digit]\n",
    "            # If exponent is 1, we don't add a superscript.\n",
    "            if exp == 1:\n",
    "                monomial_parts.append(f\"Z_{{{digit}}}\")\n",
    "            else:\n",
    "                monomial_parts.append(f\"Z_{{{digit}}}^{{{exp}}}\")\n",
    "        # Join the parts to get the monomial for this bracket\n",
    "        monomials.append(\"\".join(monomial_parts))\n",
    "    # Join monomials with the tensor product symbol\n",
    "    tensor_product = \" \\otimes \".join(monomials)\n",
    "    return tensor_product"
   ]
  },
  {
   "cell_type": "code",
   "execution_count": 69,
   "id": "576b65ba-cbe1-469f-8453-7bd34d404202",
   "metadata": {
    "scrolled": true
   },
   "outputs": [
    {
     "data": {
      "text/latex": [
       "$\\displaystyle \\langle \\Sigma(\\lambda^{ 1 }), Z_{1}^{2} \\rangle = 1.95$"
      ],
      "text/plain": [
       "<IPython.core.display.Math object>"
      ]
     },
     "metadata": {},
     "output_type": "display_data"
    },
    {
     "data": {
      "text/latex": [
       "$\\displaystyle \\langle \\Sigma(\\lambda^{ 1 }), Z_{1}Z_{2} \\rangle = 1.53$"
      ],
      "text/plain": [
       "<IPython.core.display.Math object>"
      ]
     },
     "metadata": {},
     "output_type": "display_data"
    },
    {
     "data": {
      "text/latex": [
       "$\\displaystyle \\langle \\Sigma(\\lambda^{ 1 }), Z_{1}Z_{3} \\rangle = 1.22$"
      ],
      "text/plain": [
       "<IPython.core.display.Math object>"
      ]
     },
     "metadata": {},
     "output_type": "display_data"
    },
    {
     "data": {
      "text/latex": [
       "$\\displaystyle \\langle \\Sigma(\\lambda^{ 1 }), Z_{1}Z_{4} \\rangle = 1.19$"
      ],
      "text/plain": [
       "<IPython.core.display.Math object>"
      ]
     },
     "metadata": {},
     "output_type": "display_data"
    },
    {
     "data": {
      "text/latex": [
       "$\\displaystyle \\langle \\Sigma(\\lambda^{ 1 }), Z_{1}Z_{5} \\rangle = 1.18$"
      ],
      "text/plain": [
       "<IPython.core.display.Math object>"
      ]
     },
     "metadata": {},
     "output_type": "display_data"
    },
    {
     "data": {
      "text/latex": [
       "$\\displaystyle \\langle \\Sigma(\\lambda^{ 1 }), Z_{2}^{2} \\rangle = 1.59$"
      ],
      "text/plain": [
       "<IPython.core.display.Math object>"
      ]
     },
     "metadata": {},
     "output_type": "display_data"
    },
    {
     "data": {
      "text/latex": [
       "$\\displaystyle \\langle \\Sigma(\\lambda^{ 1 }), Z_{2}Z_{3} \\rangle = 1.25$"
      ],
      "text/plain": [
       "<IPython.core.display.Math object>"
      ]
     },
     "metadata": {},
     "output_type": "display_data"
    },
    {
     "data": {
      "text/latex": [
       "$\\displaystyle \\langle \\Sigma(\\lambda^{ 1 }), Z_{2}Z_{4} \\rangle = 1.23$"
      ],
      "text/plain": [
       "<IPython.core.display.Math object>"
      ]
     },
     "metadata": {},
     "output_type": "display_data"
    },
    {
     "data": {
      "text/latex": [
       "$\\displaystyle \\langle \\Sigma(\\lambda^{ 1 }), Z_{2}Z_{5} \\rangle = 1.22$"
      ],
      "text/plain": [
       "<IPython.core.display.Math object>"
      ]
     },
     "metadata": {},
     "output_type": "display_data"
    },
    {
     "data": {
      "text/latex": [
       "$\\displaystyle \\langle \\Sigma(\\lambda^{ 1 }), Z_{3}^{2} \\rangle = 1.56$"
      ],
      "text/plain": [
       "<IPython.core.display.Math object>"
      ]
     },
     "metadata": {},
     "output_type": "display_data"
    },
    {
     "data": {
      "text/latex": [
       "$\\displaystyle \\langle \\Sigma(\\lambda^{ 1 }), Z_{3}Z_{4} \\rangle = 1.33$"
      ],
      "text/plain": [
       "<IPython.core.display.Math object>"
      ]
     },
     "metadata": {},
     "output_type": "display_data"
    },
    {
     "data": {
      "text/latex": [
       "$\\displaystyle \\langle \\Sigma(\\lambda^{ 1 }), Z_{3}Z_{5} \\rangle = 1.32$"
      ],
      "text/plain": [
       "<IPython.core.display.Math object>"
      ]
     },
     "metadata": {},
     "output_type": "display_data"
    },
    {
     "data": {
      "text/latex": [
       "$\\displaystyle \\langle \\Sigma(\\lambda^{ 1 }), Z_{4}^{2} \\rangle = 1.54$"
      ],
      "text/plain": [
       "<IPython.core.display.Math object>"
      ]
     },
     "metadata": {},
     "output_type": "display_data"
    },
    {
     "data": {
      "text/latex": [
       "$\\displaystyle \\langle \\Sigma(\\lambda^{ 1 }), Z_{4}Z_{5} \\rangle = 1.32$"
      ],
      "text/plain": [
       "<IPython.core.display.Math object>"
      ]
     },
     "metadata": {},
     "output_type": "display_data"
    },
    {
     "data": {
      "text/latex": [
       "$\\displaystyle \\langle \\Sigma(\\lambda^{ 1 }), Z_{5}^{2} \\rangle = 1.52$"
      ],
      "text/plain": [
       "<IPython.core.display.Math object>"
      ]
     },
     "metadata": {},
     "output_type": "display_data"
    },
    {
     "data": {
      "text/latex": [
       "$\\displaystyle \\langle \\Sigma(\\lambda^{ 1 }), Z_{1} \\rangle = 0.00$"
      ],
      "text/plain": [
       "<IPython.core.display.Math object>"
      ]
     },
     "metadata": {},
     "output_type": "display_data"
    },
    {
     "data": {
      "text/latex": [
       "$\\displaystyle \\langle \\Sigma(\\lambda^{ 1 }), Z_{1} \\otimes Z_{1} \\rangle = -0.98$"
      ],
      "text/plain": [
       "<IPython.core.display.Math object>"
      ]
     },
     "metadata": {},
     "output_type": "display_data"
    },
    {
     "data": {
      "text/latex": [
       "$\\displaystyle \\langle \\Sigma(\\lambda^{ 1 }), Z_{1} \\otimes Z_{2} \\rangle = -2.20$"
      ],
      "text/plain": [
       "<IPython.core.display.Math object>"
      ]
     },
     "metadata": {},
     "output_type": "display_data"
    },
    {
     "data": {
      "text/latex": [
       "$\\displaystyle \\langle \\Sigma(\\lambda^{ 1 }), Z_{1} \\otimes Z_{3} \\rangle = -2.16$"
      ],
      "text/plain": [
       "<IPython.core.display.Math object>"
      ]
     },
     "metadata": {},
     "output_type": "display_data"
    },
    {
     "data": {
      "text/latex": [
       "$\\displaystyle \\langle \\Sigma(\\lambda^{ 1 }), Z_{1} \\otimes Z_{4} \\rangle = -2.45$"
      ],
      "text/plain": [
       "<IPython.core.display.Math object>"
      ]
     },
     "metadata": {},
     "output_type": "display_data"
    },
    {
     "data": {
      "text/latex": [
       "$\\displaystyle \\langle \\Sigma(\\lambda^{ 1 }), Z_{1} \\otimes Z_{5} \\rangle = -2.70$"
      ],
      "text/plain": [
       "<IPython.core.display.Math object>"
      ]
     },
     "metadata": {},
     "output_type": "display_data"
    },
    {
     "data": {
      "text/latex": [
       "$\\displaystyle \\langle \\Sigma(\\lambda^{ 1 }), Z_{2} \\rangle = 0.00$"
      ],
      "text/plain": [
       "<IPython.core.display.Math object>"
      ]
     },
     "metadata": {},
     "output_type": "display_data"
    },
    {
     "data": {
      "text/latex": [
       "$\\displaystyle \\langle \\Sigma(\\lambda^{ 1 }), Z_{2} \\otimes Z_{1} \\rangle = 0.67$"
      ],
      "text/plain": [
       "<IPython.core.display.Math object>"
      ]
     },
     "metadata": {},
     "output_type": "display_data"
    },
    {
     "data": {
      "text/latex": [
       "$\\displaystyle \\langle \\Sigma(\\lambda^{ 1 }), Z_{2} \\otimes Z_{2} \\rangle = -0.79$"
      ],
      "text/plain": [
       "<IPython.core.display.Math object>"
      ]
     },
     "metadata": {},
     "output_type": "display_data"
    },
    {
     "data": {
      "text/latex": [
       "$\\displaystyle \\langle \\Sigma(\\lambda^{ 1 }), Z_{2} \\otimes Z_{3} \\rangle = -1.21$"
      ],
      "text/plain": [
       "<IPython.core.display.Math object>"
      ]
     },
     "metadata": {},
     "output_type": "display_data"
    },
    {
     "data": {
      "text/latex": [
       "$\\displaystyle \\langle \\Sigma(\\lambda^{ 1 }), Z_{2} \\otimes Z_{4} \\rangle = -1.53$"
      ],
      "text/plain": [
       "<IPython.core.display.Math object>"
      ]
     },
     "metadata": {},
     "output_type": "display_data"
    },
    {
     "data": {
      "text/latex": [
       "$\\displaystyle \\langle \\Sigma(\\lambda^{ 1 }), Z_{2} \\otimes Z_{5} \\rangle = -1.81$"
      ],
      "text/plain": [
       "<IPython.core.display.Math object>"
      ]
     },
     "metadata": {},
     "output_type": "display_data"
    },
    {
     "data": {
      "text/latex": [
       "$\\displaystyle \\langle \\Sigma(\\lambda^{ 1 }), Z_{3} \\rangle = 0.00$"
      ],
      "text/plain": [
       "<IPython.core.display.Math object>"
      ]
     },
     "metadata": {},
     "output_type": "display_data"
    },
    {
     "data": {
      "text/latex": [
       "$\\displaystyle \\langle \\Sigma(\\lambda^{ 1 }), Z_{3} \\otimes Z_{1} \\rangle = 0.94$"
      ],
      "text/plain": [
       "<IPython.core.display.Math object>"
      ]
     },
     "metadata": {},
     "output_type": "display_data"
    },
    {
     "data": {
      "text/latex": [
       "$\\displaystyle \\langle \\Sigma(\\lambda^{ 1 }), Z_{3} \\otimes Z_{2} \\rangle = -0.04$"
      ],
      "text/plain": [
       "<IPython.core.display.Math object>"
      ]
     },
     "metadata": {},
     "output_type": "display_data"
    },
    {
     "data": {
      "text/latex": [
       "$\\displaystyle \\langle \\Sigma(\\lambda^{ 1 }), Z_{3} \\otimes Z_{3} \\rangle = -0.78$"
      ],
      "text/plain": [
       "<IPython.core.display.Math object>"
      ]
     },
     "metadata": {},
     "output_type": "display_data"
    },
    {
     "data": {
      "text/latex": [
       "$\\displaystyle \\langle \\Sigma(\\lambda^{ 1 }), Z_{3} \\otimes Z_{4} \\rangle = -0.91$"
      ],
      "text/plain": [
       "<IPython.core.display.Math object>"
      ]
     },
     "metadata": {},
     "output_type": "display_data"
    },
    {
     "data": {
      "text/latex": [
       "$\\displaystyle \\langle \\Sigma(\\lambda^{ 1 }), Z_{3} \\otimes Z_{5} \\rangle = -1.12$"
      ],
      "text/plain": [
       "<IPython.core.display.Math object>"
      ]
     },
     "metadata": {},
     "output_type": "display_data"
    },
    {
     "data": {
      "text/latex": [
       "$\\displaystyle \\langle \\Sigma(\\lambda^{ 1 }), Z_{4} \\rangle = 0.00$"
      ],
      "text/plain": [
       "<IPython.core.display.Math object>"
      ]
     },
     "metadata": {},
     "output_type": "display_data"
    },
    {
     "data": {
      "text/latex": [
       "$\\displaystyle \\langle \\Sigma(\\lambda^{ 1 }), Z_{4} \\otimes Z_{1} \\rangle = 1.26$"
      ],
      "text/plain": [
       "<IPython.core.display.Math object>"
      ]
     },
     "metadata": {},
     "output_type": "display_data"
    },
    {
     "data": {
      "text/latex": [
       "$\\displaystyle \\langle \\Sigma(\\lambda^{ 1 }), Z_{4} \\otimes Z_{2} \\rangle = 0.30$"
      ],
      "text/plain": [
       "<IPython.core.display.Math object>"
      ]
     },
     "metadata": {},
     "output_type": "display_data"
    },
    {
     "data": {
      "text/latex": [
       "$\\displaystyle \\langle \\Sigma(\\lambda^{ 1 }), Z_{4} \\otimes Z_{3} \\rangle = -0.43$"
      ],
      "text/plain": [
       "<IPython.core.display.Math object>"
      ]
     },
     "metadata": {},
     "output_type": "display_data"
    },
    {
     "data": {
      "text/latex": [
       "$\\displaystyle \\langle \\Sigma(\\lambda^{ 1 }), Z_{4} \\otimes Z_{4} \\rangle = -0.77$"
      ],
      "text/plain": [
       "<IPython.core.display.Math object>"
      ]
     },
     "metadata": {},
     "output_type": "display_data"
    },
    {
     "data": {
      "text/latex": [
       "$\\displaystyle \\langle \\Sigma(\\lambda^{ 1 }), Z_{4} \\otimes Z_{5} \\rangle = -0.91$"
      ],
      "text/plain": [
       "<IPython.core.display.Math object>"
      ]
     },
     "metadata": {},
     "output_type": "display_data"
    },
    {
     "data": {
      "text/latex": [
       "$\\displaystyle \\langle \\Sigma(\\lambda^{ 1 }), Z_{5} \\rangle = 0.00$"
      ],
      "text/plain": [
       "<IPython.core.display.Math object>"
      ]
     },
     "metadata": {},
     "output_type": "display_data"
    },
    {
     "data": {
      "text/latex": [
       "$\\displaystyle \\langle \\Sigma(\\lambda^{ 1 }), Z_{5} \\otimes Z_{1} \\rangle = 1.52$"
      ],
      "text/plain": [
       "<IPython.core.display.Math object>"
      ]
     },
     "metadata": {},
     "output_type": "display_data"
    },
    {
     "data": {
      "text/latex": [
       "$\\displaystyle \\langle \\Sigma(\\lambda^{ 1 }), Z_{5} \\otimes Z_{2} \\rangle = 0.59$"
      ],
      "text/plain": [
       "<IPython.core.display.Math object>"
      ]
     },
     "metadata": {},
     "output_type": "display_data"
    },
    {
     "data": {
      "text/latex": [
       "$\\displaystyle \\langle \\Sigma(\\lambda^{ 1 }), Z_{5} \\otimes Z_{3} \\rangle = -0.20$"
      ],
      "text/plain": [
       "<IPython.core.display.Math object>"
      ]
     },
     "metadata": {},
     "output_type": "display_data"
    },
    {
     "data": {
      "text/latex": [
       "$\\displaystyle \\langle \\Sigma(\\lambda^{ 1 }), Z_{5} \\otimes Z_{4} \\rangle = -0.41$"
      ],
      "text/plain": [
       "<IPython.core.display.Math object>"
      ]
     },
     "metadata": {},
     "output_type": "display_data"
    },
    {
     "data": {
      "text/latex": [
       "$\\displaystyle \\langle \\Sigma(\\lambda^{ 1 }), Z_{5} \\otimes Z_{5} \\rangle = -0.76$"
      ],
      "text/plain": [
       "<IPython.core.display.Math object>"
      ]
     },
     "metadata": {},
     "output_type": "display_data"
    }
   ],
   "source": [
    "# num_rows, num_cols = signature.shape\n",
    "# Loop over each row and column to display the information\n",
    "for row in range(num_rows):\n",
    "    # Create a LaTeX string for Sigma of the row; you might adjust this to your needs.\n",
    "    sigma_str = f\"\\\\Sigma(\\lambda^{{ {row + 1} }})\"\n",
    "    \n",
    "    for col in range(num_cols):\n",
    "        # Retrieve the full label for the column.\n",
    "        full_label = fruit.label(col, 'iterated sums', verbose=1)\n",
    "        # The expected format is \"INC | [expression]\"; extract the part after the vertical bar.\n",
    "        try:\n",
    "            expr = full_label.split(\"|\")[1].strip()  # e.g., \"[11][23]\"\n",
    "        except IndexError:\n",
    "            expr = \"[]\"\n",
    "        \n",
    "        tensor_monomials = parse_expression(expr)\n",
    "        entry_value = signature[row, col]\n",
    "# Print the information in the desired format:\n",
    "        # \\langle  \\Sigma(row_i)  , tensor_of_monomials(expression of col_num) \\rangle = entry_of_array(row_i,col_num)\n",
    "        display(Math(f\"\\\\langle {sigma_str}, {tensor_monomials} \\\\rangle = {entry_value:.2f}\"))"
   ]
  },
  {
   "cell_type": "markdown",
   "id": "7e870520-aa71-4264-b7bb-df93c98cabea",
   "metadata": {},
   "source": [
    "# Compute discrete signature"
   ]
  },
  {
   "cell_type": "markdown",
   "id": "c21e1f29-edac-4fd2-81aa-2b22b9e2db72",
   "metadata": {},
   "source": [
    "## 1. Set hyperparameters"
   ]
  },
  {
   "cell_type": "code",
   "execution_count": 1,
   "id": "94240073-5c48-4e49-8e5c-1c3b5fee9a5e",
   "metadata": {},
   "outputs": [],
   "source": [
    "# import all dependencies\n",
    "import ripser\n",
    "import fruits\n",
    "import matplotlib.pyplot as plt\n",
    "import numpy as np\n",
    "import re\n",
    "from IPython.display import display, Math, Latex\n",
    "import os\n",
    "from datetime import datetime"
   ]
  },
  {
   "cell_type": "code",
   "execution_count": 2,
   "id": "ee092620-01d6-409d-896c-635fd649a254",
   "metadata": {},
   "outputs": [],
   "source": [
    "# Hyperparameters\n",
    "trunc_level = 15 # landscapes will be truncated at trunc_level, or extended by 0, accordingly\n",
    "weight= 2 # signatures will be computed up-to this weight, i.e. total degree"
   ]
  },
  {
   "cell_type": "code",
   "execution_count": 3,
   "id": "7bfe4253-f6fb-451c-8537-5b328318f9ea",
   "metadata": {},
   "outputs": [],
   "source": [
    "# Input directory\n",
    "directory = \"../src/ph-knotted-proteins/data/validation/landscapes/interpolated_x1\"  # Replace with your directory path to the landscapes\n",
    "\n",
    "# Get the current date and time\n",
    "current_time = datetime.now().strftime('%Y%m%d_%H%M%S')\n",
    "\n",
    "# Generate the output filename\n",
    "results_filename = f'../results/tables/signature_x1_L{trunc_level}_W{weight}_{current_time}.csv'"
   ]
  },
  {
   "cell_type": "markdown",
   "id": "e9fa0610-7260-4474-ad89-544c2344285f",
   "metadata": {},
   "source": [
    "## 2. Load and preprocess data"
   ]
  },
  {
   "cell_type": "markdown",
   "id": "c3c1e85f-9456-4764-bdcb-e6eeb60979f9",
   "metadata": {},
   "source": [
    "### 2. Option A. Load landscapes and create corresponding time series for specified 'trunc_level'\n",
    "If you have already done this you can skip to Option B to load pre-processed data"
   ]
  },
  {
   "cell_type": "code",
   "execution_count": 4,
   "id": "2ef620c5-95bd-4cf6-ac3c-093399fc7b5d",
   "metadata": {},
   "outputs": [],
   "source": [
    "def load_lan_file(filename, trunc_level):\n",
    "    \"\"\"\n",
    "    Reads a .lan file and returns a list of levels truncated (or extended)\n",
    "    to trunc_level.\n",
    "    \n",
    "    Each level is represented as a list of (epsilon, critical_value) tuples.\n",
    "    The file is assumed to have header lines (starting with '#' or '%') indicating\n",
    "    the beginning of a new level. Critical points for a level appear on subsequent lines.\n",
    "    This is the standard format of .lan files.\n",
    "    \"\"\"\n",
    "    levels = []\n",
    "    current_points = []\n",
    "    current_level_count = 0\n",
    "\n",
    "    with open(filename, 'r') as f:\n",
    "        for line in f:\n",
    "            line = line.strip()\n",
    "            if not line:\n",
    "                continue\n",
    "            if line.startswith('#') or line.startswith('%'):\n",
    "                # Header encountered: finish the previous level if present.\n",
    "                if current_points:\n",
    "                    levels.append(current_points)\n",
    "                    current_points = []\n",
    "                    current_level_count += 1\n",
    "                    if current_level_count == trunc_level:\n",
    "                        break\n",
    "                continue\n",
    "            # Only parse data if we haven't reached the truncation limit.\n",
    "            if current_level_count < trunc_level:\n",
    "                tokens = line.split()\n",
    "                if len(tokens) != 2:\n",
    "                    raise ValueError(\"Expected exactly two tokens per critical point line, got: \" + str(tokens))\n",
    "                eps = float(tokens[0])\n",
    "                val = float(tokens[1])\n",
    "                current_points.append((eps, val))\n",
    "    # Append any remaining points as the last level.\n",
    "    if current_points and current_level_count < trunc_level:\n",
    "        levels.append(current_points)\n",
    "        current_level_count += 1\n",
    "\n",
    "    # If there are fewer than trunc_level levels, extend with empty lists.\n",
    "    while current_level_count < trunc_level:\n",
    "        levels.append([])\n",
    "        current_level_count += 1\n",
    "\n",
    "    return levels\n",
    "\n",
    "def eval_landscape(points, t):\n",
    "    \"\"\"\n",
    "    Evaluate a landscape function defined by a list of (epsilon, value) tuples\n",
    "    at a given epsilon value t via linear interpolation. The function is assumed \n",
    "    to be zero outside the range of the provided points.\n",
    "    \"\"\"\n",
    "    if not points:\n",
    "        return 0.0\n",
    "    # t is outside the range -> return 0.\n",
    "    if t < points[0][0] or t > points[-1][0]:\n",
    "        return 0.0\n",
    "    # Find the interval [x0, x1] in which t lies.\n",
    "    for i in range(1, len(points)):\n",
    "        x0, y0 = points[i-1]\n",
    "        x1, y1 = points[i]\n",
    "        if x0 <= t <= x1:\n",
    "            if t == x0:\n",
    "                return y0\n",
    "            if t == x1:\n",
    "                return y1\n",
    "            # Linear interpolation.\n",
    "            return y0 + (y1 - y0) * (t - x0) / (x1 - x0)\n",
    "    return 0.0\n",
    "\n",
    "def process_directory_to_3d(directory, trunc_level):\n",
    "    \"\"\"\n",
    "    Processes all .lan files in the directory and returns a 3D NumPy array\n",
    "    of time series data and an ordering dictionary.\n",
    "    \n",
    "    The output 3D array has shape (N, trunc_level, T) where:\n",
    "      - N = number of landscapes (files)\n",
    "      - trunc_level = number of levels per landscape (as specified)\n",
    "      - T = number of unique epsilon values across all files\n",
    "    The epsilon axis is common for all landscapes.\n",
    "    \n",
    "    Also returns:\n",
    "      - ordering: a dictionary mapping each filename (without full path)\n",
    "                   to its index in the 3D array.\n",
    "      - global_epsilon: the sorted list of all unique epsilon values.\n",
    "    \"\"\"\n",
    "    all_epsilons = set()\n",
    "    file_list = []\n",
    "\n",
    "    # First, gather all .lan filenames.\n",
    "    for fname in os.listdir(directory):\n",
    "        if fname.endswith('1.lan'):\n",
    "            file_list.append(fname)\n",
    "    file_list.sort()  # Ensure a consistent ordering\n",
    "\n",
    "    # First pass: Accumulate epsilon values from all files.\n",
    "    for fname in file_list:\n",
    "        fpath = os.path.join(directory, fname)\n",
    "        levels_data = load_lan_file(fpath, trunc_level)\n",
    "        for level in levels_data:\n",
    "            for (eps, _) in level:\n",
    "                all_epsilons.add(eps)\n",
    "    global_epsilon = sorted(all_epsilons)\n",
    "    T = len(global_epsilon)\n",
    "\n",
    "    landscapes = []    # to store the time series matrices for each file\n",
    "    ordering = {}      # maps filename to its index in the 3D array\n",
    "\n",
    "    # Second pass: For each file, evaluate the landscape at all global epsilon values.\n",
    "    for idx, fname in enumerate(file_list):\n",
    "        fpath = os.path.join(directory, fname)\n",
    "        levels_data = load_lan_file(fpath, trunc_level)\n",
    "        ts_matrix = np.zeros((trunc_level, T))\n",
    "        for lev in range(trunc_level):\n",
    "            pts = levels_data[lev]  # list of (eps, value) for this level (may be empty)\n",
    "            for j, t in enumerate(global_epsilon):\n",
    "                ts_matrix[lev, j] = eval_landscape(pts, t)\n",
    "        landscapes.append(ts_matrix)\n",
    "        ordering[fname] = idx\n",
    "\n",
    "    # Stack into a 3D array: shape (N, trunc_level, T)\n",
    "    result_array = np.stack(landscapes, axis=0)\n",
    "    return result_array, ordering, global_epsilon"
   ]
  },
  {
   "cell_type": "code",
   "execution_count": 5,
   "id": "f6e61188-2c92-49d5-bc95-ee2a42196e6f",
   "metadata": {},
   "outputs": [
    {
     "name": "stdout",
     "output_type": "stream",
     "text": [
      "3D Array shape (landscapes, levels, epsilon): (513, 15, 153696)\n",
      "CPU times: user 16min 36s, sys: 2.74 s, total: 16min 39s\n",
      "Wall time: 16min 39s\n"
     ]
    }
   ],
   "source": [
    "%%time\n",
    "# Example usage:\n",
    "landscape_array, ordering_dict, global_eps = process_directory_to_3d(directory, trunc_level)\n",
    "\n",
    "print(\"3D Array shape (landscapes, levels, epsilon):\", landscape_array.shape)\n",
    "# print(\"Ordering dictionary (filename -> index):\")\n",
    "# print(ordering_dict)\n",
    "# print(\"Global epsilon values:\")\n",
    "# print(global_eps)"
   ]
  },
  {
   "cell_type": "code",
   "execution_count": 6,
   "id": "d2948800-2dbd-4362-b1b6-406582aa1fd0",
   "metadata": {},
   "outputs": [],
   "source": [
    "# (optional) Save all objects into a single .npz file\n",
    "prep_land_save_filename=f'../data/prep_data_x1_L{trunc_level}.npz'\n",
    "np.savez(prep_land_save_filename, \n",
    "         array_data=landscape_array, \n",
    "         vector_data=global_eps, \n",
    "         ordering_dict=ordering_dict  # Store entire dict as one object\n",
    "        )\n",
    "         # **ordering_dict)  # Unpacks dictionary keys as separate arrays"
   ]
  },
  {
   "cell_type": "markdown",
   "id": "75f499cd-8e9d-4d92-a015-1ae253beab58",
   "metadata": {},
   "source": [
    "### 2. Option B: Load previously pre-processed data"
   ]
  },
  {
   "cell_type": "code",
   "execution_count": 12,
   "id": "45b0ad53-41c0-40e9-85f4-66fb9dd6d11d",
   "metadata": {},
   "outputs": [],
   "source": [
    "# (optional) Load\n",
    "prep_land_load_filename=f'../data/prep_data_x1_L{trunc_level}.npz'\n",
    "loaded_data = np.load(prep_land_load_filename, allow_pickle=True)\n",
    "landscape_array = loaded_data['array_data']\n",
    "global_eps = loaded_data['vector_data']\n",
    "ordering_dict = {k: v.item() for k, v in loaded_data['ordering_dict'].item().items()} # Critical: .item() to restore dict"
   ]
  },
  {
   "cell_type": "markdown",
   "id": "f626e8be-bbfe-424c-bf93-308606d581ba",
   "metadata": {},
   "source": [
    "## 3. Compute signatures\n",
    "Use the FRUITS package to compute the discrete signatures of your set of landscapes"
   ]
  },
  {
   "cell_type": "code",
   "execution_count": 7,
   "id": "aa4c9cf9-ea1f-43ad-b169-e749d58c873c",
   "metadata": {},
   "outputs": [
    {
     "name": "stdout",
     "output_type": "stream",
     "text": [
      "CPU times: user 18.6 ms, sys: 998 µs, total: 19.6 ms\n",
      "Wall time: 19.1 ms\n"
     ]
    }
   ],
   "source": [
    "%%time\n",
    "# create a fruit\n",
    "fruit = fruits.Fruit(\"my_fruit\")\n",
    "# INC takes the increments of the series, i.e. x_{i+1}-x_i\n",
    "fruit.add(fruits.preparation.transform.INC)\n",
    "\n",
    "# configure the type of Iterated Sums Signature being used\n",
    "# dim is the number of levels\n",
    "Sigma = fruits.ISS(\n",
    "    fruits.words.of_weight(weight, dim=trunc_level),\n",
    "    mode=fruits.ISSMode.EXTENDED, # EXTENDED is all weights up to the specified number, and SINGLE is only the ones correpsonding to the specified weight\n",
    ")\n",
    "fruit.add(Sigma)\n",
    "# We specify END: that we want the signature from start to end of the time series as the output of the fruit\n",
    "fruit.add(fruits.sieving.END)"
   ]
  },
  {
   "cell_type": "code",
   "execution_count": 8,
   "id": "d33616b9-bf01-4f8d-b837-1de2b1f93858",
   "metadata": {},
   "outputs": [],
   "source": [
    "%%time\n",
    "# Example usage: This is how you evaluate your signature on a (tuple of) time series\n",
    "fruit.fit(landscape_array)\n",
    "signature = fruit.transform(landscape_array) # this variable stores the computed signature(s)"
   ]
  },
  {
   "cell_type": "code",
   "execution_count": 9,
   "id": "3692a121-496f-4e6d-9694-dfdf29f0888e",
   "metadata": {},
   "outputs": [
    {
     "name": "stdout",
     "output_type": "stream",
     "text": [
      "The history saving thread hit an unexpected error (OperationalError('attempt to write a readonly database')).History will not be written to the database.\n"
     ]
    },
    {
     "data": {
      "text/plain": [
       "\"================================================================================\\n<                      Fruit 'my_fruit' -> Features: 360                       >\\n================================================================================\\n|--------------------------------------|\\n|          FruitSlice -> 360           |\\n|--------------------------------------|\\n|Preparateurs (1):                     |\\n|    + INC(1, 1, True)                 |\\n|ISS Calculators (1):                  |\\n|    + ISS -> 360                      |\\n|       | words: 345                   |\\n|       | semiring: Reals              |\\n|       | weighting: None              |\\n|Sieves (1):                           |\\n|    + END -> 1                        |\\n|--------------------------------------|\\n================================================================================\""
      ]
     },
     "execution_count": 9,
     "metadata": {},
     "output_type": "execute_result"
    }
   ],
   "source": [
    "fruit.summary()"
   ]
  },
  {
   "cell_type": "code",
   "execution_count": 17,
   "id": "73f4fc84-b2b9-4544-9581-6ffd5d1af4c3",
   "metadata": {},
   "outputs": [],
   "source": [
    "# This function parses a string expression of the form \"[11][23][123]\"\n",
    "# and returns a tensor product of monomials in the variables Z_1, Z_2, ..., Z_n.\n",
    "def parse_expression(expr):\n",
    "    \"\"\"\n",
    "    Given an expression string like \"[11][23][123]\",\n",
    "    returns a string like \"Z_{1}^{2} \\\\otimes Z_{2}Z_{3} \\\\otimes Z_{1}Z_{2}Z_{3}\".\n",
    "    \"\"\"\n",
    "    # Extract each bracketed part\n",
    "    parts = re.findall(r'\\[(.*?)\\]', expr)\n",
    "    monomials = []\n",
    "    for part in parts:\n",
    "        # Count the occurrences of each digit\n",
    "        counts = {}\n",
    "        for ch in part:\n",
    "            counts[ch] = counts.get(ch, 0) + 1\n",
    "        # Build the monomial string: sort the digits for consistency\n",
    "        monomial_parts = []\n",
    "        for digit in sorted(counts.keys()):\n",
    "            exp = counts[digit]\n",
    "            # If exponent is 1, we don't add a superscript.\n",
    "            if exp == 1:\n",
    "                monomial_parts.append(f\"Z_{{{digit}}}\")\n",
    "            else:\n",
    "                monomial_parts.append(f\"Z_{{{digit}}}^{{{exp}}}\")\n",
    "        # Join the parts to get the monomial for this bracket\n",
    "        monomials.append(\"\".join(monomial_parts))\n",
    "    # Join monomials with the tensor product symbol\n",
    "    tensor_product = \" \\otimes \".join(monomials)\n",
    "    return tensor_product"
   ]
  },
  {
   "cell_type": "code",
   "execution_count": 36,
   "id": "e08e0b4a-6ec9-4c67-abd6-5101fd1959d2",
   "metadata": {},
   "outputs": [],
   "source": [
    "from IPython.display import Math, display\n",
    "\n",
    "num_rows, num_cols = signature.shape\n",
    "\n",
    "# Loop over each row and column to display the information\n",
    "for row in range(num_rows):\n",
    "    # Create a LaTeX string for Sigma of the row; you might adjust this to your needs.\n",
    "    sigma_str = f\"\\\\Sigma(\\lambda^{{ {row + 1} }})\"\n",
    "    \n",
    "    for col in range(num_cols):\n",
    "        # Retrieve the full label for the column.\n",
    "        full_label = fruit.label(col, 'iterated sums', verbose=1)\n",
    "        # The expected format is \"INC | [expression]\"; extract the part after the vertical bar.\n",
    "        try:\n",
    "            expr = full_label.split(\"|\")[1].strip()  # e.g., \"[11][23]\"\n",
    "        except IndexError:\n",
    "            expr = \"[]\"\n",
    "        \n",
    "        tensor_monomials = parse_expression(expr)\n",
    "        entry_value = signature[row, col]\n",
    "        \n",
    "        # Print the information in the desired format:\n",
    "        # \\langle  \\Sigma(row_i)  , tensor_of_monomials(expression of col_num) \\rangle = entry_of_array(row_i,col_num)\n",
    "        # Use scientific notation for small numbers\n",
    "        if abs(entry_value) < 1e-4:\n",
    "            entry_str = f\"{entry_value:.4e}\"  # Scientific notation for small numbers\n",
    "        else:\n",
    "            entry_str = f\"{entry_value:.4f}\"  # Regular decimal notation for larger numbers\n",
    "        \n",
    "        display(Math(f\"\\\\langle {sigma_str}, {tensor_monomials} \\\\rangle = {entry_str}\"))"
   ]
  },
  {
   "cell_type": "markdown",
   "id": "2f529149-348c-4371-b333-7ae306708b1a",
   "metadata": {},
   "source": [
    "### 3.1. Store the results in a dataframe"
   ]
  },
  {
   "cell_type": "code",
   "execution_count": 10,
   "id": "9fb24d01-300c-4d22-85ab-ec64251ec167",
   "metadata": {},
   "outputs": [
    {
     "name": "stdout",
     "output_type": "stream",
     "text": [
      "CPU times: user 9.27 s, sys: 20.5 ms, total: 9.29 s\n",
      "Wall time: 9.43 s\n"
     ]
    }
   ],
   "source": [
    "%%time\n",
    "import pandas as pd\n",
    "\n",
    "# Initialize a list to store the data\n",
    "data = []\n",
    "\n",
    "num_rows, num_cols = signature.shape\n",
    "\n",
    "# Loop over each row (landscape) and column (expression)\n",
    "for row in range(num_rows):\n",
    "    landscape_number = row + 1  # Landscape numbering starts at 1\n",
    "    landscape_data = {\"Landscape\": landscape_number}  # Initialize a dictionary for this landscape\n",
    "    \n",
    "    for col in range(num_cols):\n",
    "        # Retrieve the full label for the column\n",
    "        full_label = fruit.label(col, 'iterated sums', verbose=1)\n",
    "        \n",
    "        # Extract the expression (e.g., \"[11][23]\")\n",
    "        try:\n",
    "            expr = full_label.split(\"|\")[1].strip()\n",
    "        except IndexError:\n",
    "            expr = \"[]\"\n",
    "        \n",
    "        # Get the value of the signature entry\n",
    "        entry_value = signature[row, col]\n",
    "        \n",
    "        # Store the value in the dictionary\n",
    "        landscape_data[expr] = entry_value\n",
    "\n",
    "    # Append the landscape data to the list\n",
    "    data.append(landscape_data)\n",
    "\n",
    "# Convert the list to a DataFrame\n",
    "df = pd.DataFrame(data)"
   ]
  },
  {
   "cell_type": "code",
   "execution_count": 11,
   "id": "d39ef4c2-8a0f-49b7-8d04-1f680a09ea89",
   "metadata": {},
   "outputs": [],
   "source": [
    "# Swap keys and values\n",
    "corrected_dictionary = {v: k for k, v in ordering_dict.items()}\n",
    "\n",
    "dict_df = pd.DataFrame.from_dict(corrected_dictionary, orient='index', columns=['Chain'])\n",
    "\n",
    "# Extract the part before the first underscore\n",
    "dict_df['Chain'] = dict_df['Chain'].str.split('_').str[:2].str.join('_')\n",
    "\n",
    "# Glue the dataframes so that we also have the knot labels associated to the landscape number\n",
    "df = dict_df.join(df)"
   ]
  },
  {
   "cell_type": "markdown",
   "id": "9782b07a-ecfa-4d28-bc99-cf7d993489df",
   "metadata": {},
   "source": [
    "Save the dataframe"
   ]
  },
  {
   "cell_type": "code",
   "execution_count": 12,
   "id": "fcb7da17-75f3-40d1-9358-dff5e72de057",
   "metadata": {},
   "outputs": [
    {
     "name": "stdout",
     "output_type": "stream",
     "text": [
      "Data saved to ../results/tables/signature_x1_L15_W2_20250425_191619.csv\n"
     ]
    }
   ],
   "source": [
    "# Save the DataFrame to 'results_filename' specified at the beginning of the notebook\n",
    "df.to_csv(results_filename, index=False)\n",
    "\n",
    "print(f\"Data saved to {results_filename}\")"
   ]
  },
  {
   "cell_type": "markdown",
   "id": "78b46b6e-bd60-4bca-9959-62d68643dbbb",
   "metadata": {
    "jp-MarkdownHeadingCollapsed": true
   },
   "source": [
    "## 4.(OPTIONAL) Display signatures and visualize landscapes\n",
    "The functions bellow allow you to explore the data and results by displaying signatures following the notation used in the paper, or plotting truncated landscapes"
   ]
  },
  {
   "cell_type": "markdown",
   "id": "59eec56f-bc2d-4105-ab45-da77a245afc8",
   "metadata": {},
   "source": [
    "### Now we display in a flexible way by accessing the dataframe"
   ]
  },
  {
   "cell_type": "code",
   "execution_count": 21,
   "id": "efb2a691-f614-433f-ab87-164ca6b98fb3",
   "metadata": {},
   "outputs": [],
   "source": [
    "# This function parses a string expression of the form \"[11][23][123]\"\n",
    "# and returns a tensor product of monomials in the variables Z_1, Z_2, ..., Z_n.\n",
    "def parse_expression(expr):\n",
    "    \"\"\"\n",
    "    Given an expression string like \"[11][23][123]\",\n",
    "    returns a string like \"Z_{1}^{2} \\\\otimes Z_{2}Z_{3} \\\\otimes Z_{1}Z_{2}Z_{3}\".\n",
    "    \"\"\"\n",
    "    # Extract each bracketed part\n",
    "    parts = re.findall(r'\\[(.*?)\\]', expr)\n",
    "    monomials = []\n",
    "    for part in parts:\n",
    "        # Count the occurrences of each digit\n",
    "        counts = {}\n",
    "        for ch in part:\n",
    "            counts[ch] = counts.get(ch, 0) + 1\n",
    "        # Build the monomial string: sort the digits for consistency\n",
    "        monomial_parts = []\n",
    "        for digit in sorted(counts.keys()):\n",
    "            exp = counts[digit]\n",
    "            # If exponent is 1, we don't add a superscript.\n",
    "            if exp == 1:\n",
    "                monomial_parts.append(f\"Z_{{{digit}}}\")\n",
    "            else:\n",
    "                monomial_parts.append(f\"Z_{{{digit}}}^{{{exp}}}\")\n",
    "        # Join the parts to get the monomial for this bracket\n",
    "        monomials.append(\"\".join(monomial_parts))\n",
    "    # Join monomials with the tensor product symbol\n",
    "    tensor_product = \" \\otimes \".join(monomials)\n",
    "    return tensor_product"
   ]
  },
  {
   "cell_type": "code",
   "execution_count": 22,
   "id": "8b82249b-2dc4-424d-bc37-15f357b01fcd",
   "metadata": {},
   "outputs": [],
   "source": [
    "from IPython.display import Math, display\n",
    "\n",
    "def display_signatures(df, landscapes=None, expressions=None):\n",
    "    \"\"\"\n",
    "    Display the signatures in a formatted way.\n",
    "    \n",
    "    Parameters:\n",
    "    - df: The DataFrame containing the signature data.\n",
    "    - landscapes: A list of landscape numbers to display (e.g., [1, 2]). If None, all landscapes are displayed.\n",
    "    - expressions: A list of expressions to display (e.g., [\"[11][23]\", \"[12][34]\"]). If None, all expressions are displayed.\n",
    "    \"\"\"\n",
    "    # Filter by landscapes\n",
    "    if landscapes is not None:\n",
    "        df = df[df['Landscape'].isin(landscapes)]\n",
    "    \n",
    "    # Filter by expressions\n",
    "    if expressions is not None:\n",
    "        df = df[['Landscape'] + expressions]\n",
    "    \n",
    "    # Loop over each row (landscape) and column (expression)\n",
    "    for _, row in df.iterrows():\n",
    "        landscape_number = row['Landscape']\n",
    "        for expr, value in row.items():\n",
    "            if expr == 'Landscape':\n",
    "                continue  # Skip the 'Landscape' column\n",
    "            \n",
    "            # Format the value\n",
    "            if abs(value) < 1e-4:\n",
    "                value_str = f\"{value:.4e}\"  # Scientific notation for small numbers\n",
    "            else:\n",
    "                value_str = f\"{value:.4f}\"  # Regular decimal notation for larger numbers\n",
    "            \n",
    "            # Display the formatted output\n",
    "            display(Math(f\"\\\\langle \\\\Sigma(\\\\lambda^{{ {int(landscape_number)} }}), {parse_expression(expr)} \\\\rangle = {value_str}\"))"
   ]
  },
  {
   "cell_type": "code",
   "execution_count": 23,
   "id": "7f043012-cfc6-470d-8a98-9a0c7d12a843",
   "metadata": {},
   "outputs": [
    {
     "data": {
      "text/latex": [
       "$\\displaystyle \\langle \\Sigma(\\lambda^{ 1 }), Z_{1} \\otimes Z_{3} \\rangle = -1.5502$"
      ],
      "text/plain": [
       "<IPython.core.display.Math object>"
      ]
     },
     "metadata": {},
     "output_type": "display_data"
    },
    {
     "data": {
      "text/latex": [
       "$\\displaystyle \\langle \\Sigma(\\lambda^{ 1 }), Z_{2}Z_{3} \\rangle = 0.0026$"
      ],
      "text/plain": [
       "<IPython.core.display.Math object>"
      ]
     },
     "metadata": {},
     "output_type": "display_data"
    },
    {
     "data": {
      "text/latex": [
       "$\\displaystyle \\langle \\Sigma(\\lambda^{ 2 }), Z_{1} \\otimes Z_{3} \\rangle = -0.3915$"
      ],
      "text/plain": [
       "<IPython.core.display.Math object>"
      ]
     },
     "metadata": {},
     "output_type": "display_data"
    },
    {
     "data": {
      "text/latex": [
       "$\\displaystyle \\langle \\Sigma(\\lambda^{ 2 }), Z_{2}Z_{3} \\rangle = 0.0030$"
      ],
      "text/plain": [
       "<IPython.core.display.Math object>"
      ]
     },
     "metadata": {},
     "output_type": "display_data"
    },
    {
     "data": {
      "text/latex": [
       "$\\displaystyle \\langle \\Sigma(\\lambda^{ 98 }), Z_{1} \\otimes Z_{3} \\rangle = -0.4506$"
      ],
      "text/plain": [
       "<IPython.core.display.Math object>"
      ]
     },
     "metadata": {},
     "output_type": "display_data"
    },
    {
     "data": {
      "text/latex": [
       "$\\displaystyle \\langle \\Sigma(\\lambda^{ 98 }), Z_{2}Z_{3} \\rangle = 0.0028$"
      ],
      "text/plain": [
       "<IPython.core.display.Math object>"
      ]
     },
     "metadata": {},
     "output_type": "display_data"
    }
   ],
   "source": [
    "# Example usage\n",
    "# Display all signatures\n",
    "# display_signatures(df)\n",
    "\n",
    "# Display signatures for specific landscapes\n",
    "# display_signatures(df, landscapes=[1, 2])\n",
    "\n",
    "# Display signatures for specific expressions\n",
    "# display_signatures(df, expressions=[\"[1][23]\", \"[2][34]\"])\n",
    "\n",
    "# Display signatures for specific landscapes and expressions\n",
    "display_signatures(df, landscapes=[1, 2, 98], expressions=[\"[1][3]\", \"[23]\"])"
   ]
  },
  {
   "cell_type": "markdown",
   "id": "6a219039-8ea8-4f2a-b525-8b8399a84cc3",
   "metadata": {},
   "source": [
    "### You can use the function below to visualize any landscape from your dataset, truncated at the selected 'trunc_level'"
   ]
  },
  {
   "cell_type": "code",
   "execution_count": 24,
   "id": "aa54ce00-3b62-4fd1-aaf3-adbcc1f3c054",
   "metadata": {},
   "outputs": [],
   "source": [
    "import numpy as np\n",
    "import matplotlib.pyplot as plt\n",
    "\n",
    "def visualize_landscape(time_series, time = global_eps, figsize=(6, 4), title='Persistence Landscape'):\n",
    "    \"\"\"\n",
    "    Visualize a persistence landscape given its time-series representation.\n",
    "    \n",
    "    Parameters:\n",
    "      time_series : numpy.ndarray\n",
    "          A NumPy array of shape (l+1, T) where the last row contains the \n",
    "          epsilon (time) values and the first l rows contain the landscape levels.\n",
    "      figsize : tuple, optional\n",
    "          Figure size for the plot (default is (6, 4)).\n",
    "      title : str, optional\n",
    "          Title of the plot.\n",
    "    \"\"\"\n",
    "    # Extract the epsilon scale (x-axis) from the last row.\n",
    "    # time = time_series[-1, :]\n",
    "\n",
    "    # Determine the number of levels: all rows except the last one.\n",
    "    num_levels = time_series.shape[0]\n",
    "\n",
    "    plt.figure(figsize=figsize)\n",
    "\n",
    "    # Generate a list of colors using a colormap (here using 'viridis').\n",
    "    cmap = plt.get_cmap('viridis')\n",
    "    colors = [cmap(i / num_levels) for i in range(num_levels)]\n",
    "\n",
    "    # Generate labels for each level using LaTeX (e.g., $\\lambda_1$, $\\lambda_2$, ...)\n",
    "    labels = [rf'$\\lambda_{{{i+1}}}$' for i in range(num_levels)]\n",
    "\n",
    "    # Plot each level's landscape (each row from 0 to num_levels-1).\n",
    "    for lev in range(num_levels):\n",
    "        plt.plot(time, time_series[lev, :], label=labels[lev], color=colors[lev], alpha=0.7)\n",
    "\n",
    "    plt.xlabel(r'$\\varepsilon$')\n",
    "    plt.ylabel('Landscape Value')\n",
    "    plt.title(title)\n",
    "    plt.legend()\n",
    "    plt.grid(True)\n",
    "    plt.show()"
   ]
  },
  {
   "cell_type": "code",
   "execution_count": 25,
   "id": "87abd22b-f703-47a2-9564-c1c2ef5affef",
   "metadata": {},
   "outputs": [
    {
     "data": {
      "image/png": "[encoded data removed]",
      "text/plain": [
       "<Figure size 600x400 with 1 Axes>"
      ]
     },
     "metadata": {},
     "output_type": "display_data"
    }
   ],
   "source": [
    "# example usage\n",
    "visualize_landscape(landscape_array[0,:,:], global_eps)"
   ]
  }
 ],
 "metadata": {
  "kernelspec": {
   "display_name": "Python 3 (ipykernel)",
   "language": "python",
   "name": "python3"
  },
  "language_info": {
   "codemirror_mode": {
    "name": "ipython",
    "version": 3
   },
   "file_extension": ".py",
   "mimetype": "text/x-python",
   "name": "python",
   "nbconvert_exporter": "python",
   "pygments_lexer": "ipython3",
   "version": "3.9.21"
  }
 },
 "nbformat": 4,
 "nbformat_minor": 5
}
