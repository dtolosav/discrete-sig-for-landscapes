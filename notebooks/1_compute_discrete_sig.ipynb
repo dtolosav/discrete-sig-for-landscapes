{
 "cells": [
  {
   "cell_type": "markdown",
   "id": "7e870520-aa71-4264-b7bb-df93c98cabea",
   "metadata": {},
   "source": [
    "# Compute discrete signature"
   ]
  },
  {
   "cell_type": "markdown",
   "id": "c21e1f29-edac-4fd2-81aa-2b22b9e2db72",
   "metadata": {},
   "source": [
    "## 1. Set hyperparameters"
   ]
  },
  {
   "cell_type": "code",
   "execution_count": 1,
   "id": "94240073-5c48-4e49-8e5c-1c3b5fee9a5e",
   "metadata": {},
   "outputs": [],
   "source": [
    "# import all dependencies\n",
    "import ripser\n",
    "import fruits\n",
    "import matplotlib.pyplot as plt\n",
    "import numpy as np\n",
    "import re\n",
    "from IPython.display import display, Math, Latex\n",
    "import os\n",
    "from datetime import datetime"
   ]
  },
  {
   "cell_type": "code",
   "execution_count": 2,
   "id": "ee092620-01d6-409d-896c-635fd649a254",
   "metadata": {},
   "outputs": [],
   "source": [
    "# Hyperparameters\n",
    "trunc_level = 6 # landscapes will be truncated at trunc_level, or extended by 0, accordingly\n",
    "weight= 2 # signatures will be computed up-to this weight, i.e. total degree"
   ]
  },
  {
   "cell_type": "code",
   "execution_count": 3,
   "id": "7bfe4253-f6fb-451c-8537-5b328318f9ea",
   "metadata": {},
   "outputs": [],
   "source": [
    "# Input directory\n",
    "directory = \"../src/ph-knotted-proteins/data/validation/landscapes/interpolated_x1\"  # Replace with your directory path to the landscapes\n",
    "\n",
    "# Get the current date and time\n",
    "current_time = datetime.now().strftime('%Y%m%d_%H%M%S')\n",
    "\n",
    "# Generate the output filename\n",
    "results_filename = f'../results/tables/signature_x1_L{trunc_level}_W{weight}_{current_time}.csv'"
   ]
  },
  {
   "cell_type": "markdown",
   "id": "e9fa0610-7260-4474-ad89-544c2344285f",
   "metadata": {},
   "source": [
    "## 2. Load and preprocess data"
   ]
  },
  {
   "cell_type": "markdown",
   "id": "c3c1e85f-9456-4764-bdcb-e6eeb60979f9",
   "metadata": {},
   "source": [
    "### 2. Option A. Load landscapes and create corresponding time series for specified 'trunc_level'\n",
    "If you have already done this you can skip to Option B to load pre-processed data"
   ]
  },
  {
   "cell_type": "code",
   "execution_count": 4,
   "id": "2ef620c5-95bd-4cf6-ac3c-093399fc7b5d",
   "metadata": {},
   "outputs": [],
   "source": [
    "def load_lan_file(filename, trunc_level):\n",
    "    \"\"\"\n",
    "    Reads a .lan file and returns a list of levels truncated (or extended)\n",
    "    to trunc_level.\n",
    "    \n",
    "    Each level is represented as a list of (epsilon, critical_value) tuples.\n",
    "    The file is assumed to have header lines (starting with '#' or '%') indicating\n",
    "    the beginning of a new level. Critical points for a level appear on subsequent lines.\n",
    "    This is the standard format of .lan files.\n",
    "    \"\"\"\n",
    "    levels = []\n",
    "    current_points = []\n",
    "    current_level_count = 0\n",
    "\n",
    "    with open(filename, 'r') as f:\n",
    "        for line in f:\n",
    "            line = line.strip()\n",
    "            if not line:\n",
    "                continue\n",
    "            if line.startswith('#') or line.startswith('%'):\n",
    "                # Header encountered: finish the previous level if present.\n",
    "                if current_points:\n",
    "                    levels.append(current_points)\n",
    "                    current_points = []\n",
    "                    current_level_count += 1\n",
    "                    if current_level_count == trunc_level:\n",
    "                        break\n",
    "                continue\n",
    "            # Only parse data if we haven't reached the truncation limit.\n",
    "            if current_level_count < trunc_level:\n",
    "                tokens = line.split()\n",
    "                if len(tokens) != 2:\n",
    "                    raise ValueError(\"Expected exactly two tokens per critical point line, got: \" + str(tokens))\n",
    "                eps = float(tokens[0])\n",
    "                val = float(tokens[1])\n",
    "                current_points.append((eps, val))\n",
    "    # Append any remaining points as the last level.\n",
    "    if current_points and current_level_count < trunc_level:\n",
    "        levels.append(current_points)\n",
    "        current_level_count += 1\n",
    "\n",
    "    # If there are fewer than trunc_level levels, extend with empty lists.\n",
    "    while current_level_count < trunc_level:\n",
    "        levels.append([])\n",
    "        current_level_count += 1\n",
    "\n",
    "    return levels\n",
    "\n",
    "def eval_landscape(points, t):\n",
    "    \"\"\"\n",
    "    Evaluate a landscape function defined by a list of (epsilon, value) tuples\n",
    "    at a given epsilon value t via linear interpolation. The function is assumed \n",
    "    to be zero outside the range of the provided points.\n",
    "    \"\"\"\n",
    "    if not points:\n",
    "        return 0.0\n",
    "    # t is outside the range -> return 0.\n",
    "    if t < points[0][0] or t > points[-1][0]:\n",
    "        return 0.0\n",
    "    # Find the interval [x0, x1] in which t lies.\n",
    "    for i in range(1, len(points)):\n",
    "        x0, y0 = points[i-1]\n",
    "        x1, y1 = points[i]\n",
    "        if x0 <= t <= x1:\n",
    "            if t == x0:\n",
    "                return y0\n",
    "            if t == x1:\n",
    "                return y1\n",
    "            # Linear interpolation.\n",
    "            return y0 + (y1 - y0) * (t - x0) / (x1 - x0)\n",
    "    return 0.0\n",
    "\n",
    "def process_directory_to_3d(directory, trunc_level):\n",
    "    \"\"\"\n",
    "    Processes all .lan files in the directory and returns a 3D NumPy array\n",
    "    of time series data and an ordering dictionary.\n",
    "    \n",
    "    The output 3D array has shape (N, trunc_level, T) where:\n",
    "      - N = number of landscapes (files)\n",
    "      - trunc_level = number of levels per landscape (as specified)\n",
    "      - T = number of unique epsilon values across all files\n",
    "    The epsilon axis is common for all landscapes.\n",
    "    \n",
    "    Also returns:\n",
    "      - ordering: a dictionary mapping each filename (without full path)\n",
    "                   to its index in the 3D array.\n",
    "      - global_epsilon: the sorted list of all unique epsilon values.\n",
    "    \"\"\"\n",
    "    all_epsilons = set()\n",
    "    file_list = []\n",
    "\n",
    "    # First, gather all .lan filenames.\n",
    "    for fname in os.listdir(directory):\n",
    "        if fname.endswith('1.lan'):\n",
    "            file_list.append(fname)\n",
    "    file_list.sort()  # Ensure a consistent ordering\n",
    "\n",
    "    # First pass: Accumulate epsilon values from all files.\n",
    "    for fname in file_list:\n",
    "        fpath = os.path.join(directory, fname)\n",
    "        levels_data = load_lan_file(fpath, trunc_level)\n",
    "        for level in levels_data:\n",
    "            for (eps, _) in level:\n",
    "                all_epsilons.add(eps)\n",
    "    global_epsilon = sorted(all_epsilons)\n",
    "    T = len(global_epsilon)\n",
    "\n",
    "    landscapes = []    # to store the time series matrices for each file\n",
    "    ordering = {}      # maps filename to its index in the 3D array\n",
    "\n",
    "    # Second pass: For each file, evaluate the landscape at all global epsilon values.\n",
    "    for idx, fname in enumerate(file_list):\n",
    "        fpath = os.path.join(directory, fname)\n",
    "        levels_data = load_lan_file(fpath, trunc_level)\n",
    "        ts_matrix = np.zeros((trunc_level, T))\n",
    "        for lev in range(trunc_level):\n",
    "            pts = levels_data[lev]  # list of (eps, value) for this level (may be empty)\n",
    "            for j, t in enumerate(global_epsilon):\n",
    "                ts_matrix[lev, j] = eval_landscape(pts, t)\n",
    "        landscapes.append(ts_matrix)\n",
    "        ordering[fname] = idx\n",
    "\n",
    "    # Stack into a 3D array: shape (N, trunc_level, T)\n",
    "    result_array = np.stack(landscapes, axis=0)\n",
    "    return result_array, ordering, global_epsilon"
   ]
  },
  {
   "cell_type": "code",
   "execution_count": 5,
   "id": "f6e61188-2c92-49d5-bc95-ee2a42196e6f",
   "metadata": {},
   "outputs": [
    {
     "name": "stdout",
     "output_type": "stream",
     "text": [
      "3D Array shape (landscapes, levels, epsilon): (513, 6, 41671)\n",
      "CPU times: user 1min 9s, sys: 268 ms, total: 1min 10s\n",
      "Wall time: 1min 10s\n"
     ]
    }
   ],
   "source": [
    "%%time\n",
    "# Example usage:\n",
    "landscape_array, ordering_dict, global_eps = process_directory_to_3d(directory, trunc_level)\n",
    "\n",
    "print(\"3D Array shape (landscapes, levels, epsilon):\", landscape_array.shape)\n",
    "# print(\"Ordering dictionary (filename -> index):\")\n",
    "# print(ordering_dict)\n",
    "# print(\"Global epsilon values:\")\n",
    "# print(global_eps)"
   ]
  },
  {
   "cell_type": "code",
   "execution_count": 6,
   "id": "d2948800-2dbd-4362-b1b6-406582aa1fd0",
   "metadata": {},
   "outputs": [],
   "source": [
    "# (optional) Save all objects into a single .npz file\n",
    "# prep_land_save_filename=f'../data/prep_data_x1_L{trunc_level}.npz'\n",
    "# np.savez(prep_land_save_filename, \n",
    "#          array_data=landscape_array, \n",
    "#          vector_data=global_eps, \n",
    "#          ordering_dict=ordering_dict  # Store entire dict as one object\n",
    "#         )\n",
    "#          # **ordering_dict)  # Unpacks dictionary keys as separate arrays"
   ]
  },
  {
   "cell_type": "markdown",
   "id": "75f499cd-8e9d-4d92-a015-1ae253beab58",
   "metadata": {},
   "source": [
    "### 2. Option B: Load previously pre-processed data"
   ]
  },
  {
   "cell_type": "code",
   "execution_count": 12,
   "id": "45b0ad53-41c0-40e9-85f4-66fb9dd6d11d",
   "metadata": {},
   "outputs": [],
   "source": [
    "# (optional) Load\n",
    "prep_land_load_filename=f'../data/prep_data_x1_L{trunc_level}.npz'\n",
    "loaded_data = np.load(prep_land_load_filename, allow_pickle=True)\n",
    "landscape_array = loaded_data['array_data']\n",
    "global_eps = loaded_data['vector_data']\n",
    "ordering_dict = {k: v.item() for k, v in loaded_data['ordering_dict'].item().items()} # Critical: .item() to restore dict"
   ]
  },
  {
   "cell_type": "markdown",
   "id": "f626e8be-bbfe-424c-bf93-308606d581ba",
   "metadata": {},
   "source": [
    "## 3. Compute signatures\n",
    "Use the FRUITS package to compute the discrete signatures of your set of landscapes"
   ]
  },
  {
   "cell_type": "code",
   "execution_count": 7,
   "id": "aa4c9cf9-ea1f-43ad-b169-e749d58c873c",
   "metadata": {},
   "outputs": [
    {
     "name": "stdout",
     "output_type": "stream",
     "text": [
      "CPU times: user 2.2 ms, sys: 1e+03 ns, total: 2.2 ms\n",
      "Wall time: 2.24 ms\n"
     ]
    }
   ],
   "source": [
    "%%time\n",
    "# create a fruit\n",
    "fruit = fruits.Fruit(\"my_fruit\")\n",
    "# INC takes the increments of the series, i.e. x_{i+1}-x_i\n",
    "fruit.add(fruits.preparation.transform.INC)\n",
    "\n",
    "# configure the type of Iterated Sums Signature being used\n",
    "# dim is the number of levels\n",
    "Sigma = fruits.ISS(\n",
    "    fruits.words.of_weight(weight, dim=trunc_level),\n",
    "    mode=fruits.ISSMode.EXTENDED, # EXTENDED is all weights up to the specified number, and SINGLE is only the ones correpsonding to the specified weight\n",
    ")\n",
    "fruit.add(Sigma)\n",
    "# We specify END: that we want the signature from start to end of the time series as the output of the fruit\n",
    "fruit.add(fruits.sieving.END)"
   ]
  },
  {
   "cell_type": "code",
   "execution_count": 8,
   "id": "d33616b9-bf01-4f8d-b837-1de2b1f93858",
   "metadata": {},
   "outputs": [
    {
     "name": "stdout",
     "output_type": "stream",
     "text": [
      "CPU times: user 39.1 s, sys: 11.2 s, total: 50.4 s\n",
      "Wall time: 5.44 s\n"
     ]
    }
   ],
   "source": [
    "%%time\n",
    "# Example usage: This is how you evaluate your signature on a (tuple of) time series\n",
    "fruit.fit(landscape_array)\n",
    "signature = fruit.transform(landscape_array) # this variable stores the computed signature(s)"
   ]
  },
  {
   "cell_type": "code",
   "execution_count": 9,
   "id": "3692a121-496f-4e6d-9694-dfdf29f0888e",
   "metadata": {},
   "outputs": [
    {
     "data": {
      "text/plain": [
       "\"================================================================================\\n<                       Fruit 'my_fruit' -> Features: 63                       >\\n================================================================================\\n|--------------------------------------|\\n|           FruitSlice -> 63           |\\n|--------------------------------------|\\n|Preparateurs (1):                     |\\n|    + INC(1, 1, True)                 |\\n|ISS Calculators (1):                  |\\n|    + ISS -> 63                       |\\n|       | words: 57                    |\\n|       | semiring: Reals              |\\n|       | weighting: None              |\\n|Sieves (1):                           |\\n|    + END -> 1                        |\\n|--------------------------------------|\\n================================================================================\""
      ]
     },
     "execution_count": 9,
     "metadata": {},
     "output_type": "execute_result"
    }
   ],
   "source": [
    "fruit.summary()"
   ]
  },
  {
   "cell_type": "markdown",
   "id": "2f529149-348c-4371-b333-7ae306708b1a",
   "metadata": {},
   "source": [
    "### 3.1. Store the results in a dataframe"
   ]
  },
  {
   "cell_type": "code",
   "execution_count": 13,
   "id": "9fb24d01-300c-4d22-85ab-ec64251ec167",
   "metadata": {},
   "outputs": [
    {
     "name": "stdout",
     "output_type": "stream",
     "text": [
      "CPU times: user 496 ms, sys: 2.79 ms, total: 498 ms\n",
      "Wall time: 506 ms\n"
     ]
    }
   ],
   "source": [
    "%%time\n",
    "import pandas as pd\n",
    "\n",
    "# Initialize a list to store the data\n",
    "data = []\n",
    "\n",
    "num_rows, num_cols = signature.shape\n",
    "\n",
    "# Loop over each row (landscape) and column (expression)\n",
    "for row in range(num_rows):\n",
    "    landscape_number = row + 1  # Landscape numbering starts at 1\n",
    "    landscape_data = {\"Landscape\": landscape_number}  # Initialize a dictionary for this landscape\n",
    "    \n",
    "    for col in range(num_cols):\n",
    "        # Retrieve the full label for the column\n",
    "        full_label = fruit.label(col, 'iterated sums', verbose=1)\n",
    "        \n",
    "        # Extract the expression (e.g., \"[11][23]\")\n",
    "        try:\n",
    "            expr = full_label.split(\"|\")[1].strip()\n",
    "        except IndexError:\n",
    "            expr = \"[]\"\n",
    "        \n",
    "        # Get the value of the signature entry\n",
    "        entry_value = signature[row, col]\n",
    "        \n",
    "        # Store the value in the dictionary\n",
    "        landscape_data[expr] = entry_value\n",
    "\n",
    "    # Append the landscape data to the list\n",
    "    data.append(landscape_data)\n",
    "\n",
    "# Convert the list to a DataFrame\n",
    "df = pd.DataFrame(data)"
   ]
  },
  {
   "cell_type": "code",
   "execution_count": 14,
   "id": "d39ef4c2-8a0f-49b7-8d04-1f680a09ea89",
   "metadata": {},
   "outputs": [],
   "source": [
    "# Swap keys and values\n",
    "corrected_dictionary = {v: k for k, v in ordering_dict.items()}\n",
    "\n",
    "dict_df = pd.DataFrame.from_dict(corrected_dictionary, orient='index', columns=['Chain'])\n",
    "\n",
    "# Extract the part before the first underscore\n",
    "dict_df['Chain'] = dict_df['Chain'].str.split('_').str[:2].str.join('_')\n",
    "\n",
    "# Glue the dataframes so that we also have the knot labels associated to the landscape number\n",
    "df = dict_df.join(df)"
   ]
  },
  {
   "cell_type": "markdown",
   "id": "9782b07a-ecfa-4d28-bc99-cf7d993489df",
   "metadata": {},
   "source": [
    "Save the dataframe"
   ]
  },
  {
   "cell_type": "code",
   "execution_count": 12,
   "id": "fcb7da17-75f3-40d1-9358-dff5e72de057",
   "metadata": {},
   "outputs": [
    {
     "name": "stdout",
     "output_type": "stream",
     "text": [
      "Data saved to ../results/tables/signature_x1_L15_W2_20250425_191619.csv\n"
     ]
    }
   ],
   "source": [
    "# Save the DataFrame to 'results_filename' specified at the beginning of the notebook\n",
    "df.to_csv(results_filename, index=False)\n",
    "\n",
    "print(f\"Data saved to {results_filename}\")"
   ]
  },
  {
   "cell_type": "markdown",
   "id": "78b46b6e-bd60-4bca-9959-62d68643dbbb",
   "metadata": {
    "jp-MarkdownHeadingCollapsed": true
   },
   "source": [
    "## 4.(OPTIONAL) Display signatures and visualize landscapes\n",
    "The functions bellow allow you to explore the data and results by displaying signatures following the notation used in the paper, or plotting truncated landscapes"
   ]
  },
  {
   "cell_type": "markdown",
   "id": "59eec56f-bc2d-4105-ab45-da77a245afc8",
   "metadata": {},
   "source": [
    "### Now we display in a flexible way by accessing the dataframe"
   ]
  },
  {
   "cell_type": "code",
   "execution_count": 15,
   "id": "efb2a691-f614-433f-ab87-164ca6b98fb3",
   "metadata": {},
   "outputs": [],
   "source": [
    "# This function parses a string expression of the form \"[11][23][123]\"\n",
    "# and returns a tensor product of monomials in the variables Z_1, Z_2, ..., Z_n.\n",
    "def parse_expression(expr):\n",
    "    \"\"\"\n",
    "    Given an expression string like \"[11][23][123]\",\n",
    "    returns a string like \"Z_{1}^{2} \\\\otimes Z_{2}Z_{3} \\\\otimes Z_{1}Z_{2}Z_{3}\".\n",
    "    \"\"\"\n",
    "    # Extract each bracketed part\n",
    "    parts = re.findall(r'\\[(.*?)\\]', expr)\n",
    "    monomials = []\n",
    "    for part in parts:\n",
    "        # Count the occurrences of each digit\n",
    "        counts = {}\n",
    "        for ch in part:\n",
    "            counts[ch] = counts.get(ch, 0) + 1\n",
    "        # Build the monomial string: sort the digits for consistency\n",
    "        monomial_parts = []\n",
    "        for digit in sorted(counts.keys()):\n",
    "            exp = counts[digit]\n",
    "            # If exponent is 1, we don't add a superscript.\n",
    "            if exp == 1:\n",
    "                monomial_parts.append(f\"Z_{{{digit}}}\")\n",
    "            else:\n",
    "                monomial_parts.append(f\"Z_{{{digit}}}^{{{exp}}}\")\n",
    "        # Join the parts to get the monomial for this bracket\n",
    "        monomials.append(\"\".join(monomial_parts))\n",
    "    # Join monomials with the tensor product symbol\n",
    "    tensor_product = \" \\otimes \".join(monomials)\n",
    "    return tensor_product"
   ]
  },
  {
   "cell_type": "code",
   "execution_count": 22,
   "id": "8b82249b-2dc4-424d-bc37-15f357b01fcd",
   "metadata": {},
   "outputs": [],
   "source": [
    "from IPython.display import Math, display\n",
    "\n",
    "def display_signatures(df, landscapes=None, expressions=None):\n",
    "    \"\"\"\n",
    "    Display the signatures in a formatted way.\n",
    "    \n",
    "    Parameters:\n",
    "    - df: The DataFrame containing the signature data.\n",
    "    - landscapes: A list of landscape numbers to display (e.g., [1, 2]). If None, all landscapes are displayed.\n",
    "    - expressions: A list of expressions to display (e.g., [\"[11][23]\", \"[12][34]\"]). If None, all expressions are displayed.\n",
    "    \"\"\"\n",
    "    # Filter by landscapes\n",
    "    if landscapes is not None:\n",
    "        df = df[df['Landscape'].isin(landscapes)]\n",
    "    \n",
    "    # Filter by expressions\n",
    "    if expressions is not None:\n",
    "        df = df[['Landscape'] + expressions]\n",
    "    \n",
    "    # Loop over each row (landscape) and column (expression)\n",
    "    for _, row in df.iterrows():\n",
    "        landscape_number = row['Landscape']\n",
    "        for expr, value in row.items():\n",
    "            if expr == 'Landscape':\n",
    "                continue  # Skip the 'Landscape' column\n",
    "            \n",
    "            # Format the value\n",
    "            if abs(value) < 1e-4:\n",
    "                value_str = f\"{value:.4e}\"  # Scientific notation for small numbers\n",
    "            else:\n",
    "                value_str = f\"{value:.4f}\"  # Regular decimal notation for larger numbers\n",
    "            \n",
    "            # Display the formatted output\n",
    "            display(Math(f\"\\\\langle \\\\Sigma(\\\\lambda^{{ {int(landscape_number)} }}), {parse_expression(expr)} \\\\rangle = {value_str}\"))"
   ]
  },
  {
   "cell_type": "code",
   "execution_count": 23,
   "id": "7f043012-cfc6-470d-8a98-9a0c7d12a843",
   "metadata": {},
   "outputs": [
    {
     "data": {
      "text/latex": [
       "$\\displaystyle \\langle \\Sigma(\\lambda^{ 1 }), Z_{1} \\otimes Z_{3} \\rangle = -1.5502$"
      ],
      "text/plain": [
       "<IPython.core.display.Math object>"
      ]
     },
     "metadata": {},
     "output_type": "display_data"
    },
    {
     "data": {
      "text/latex": [
       "$\\displaystyle \\langle \\Sigma(\\lambda^{ 1 }), Z_{2}Z_{3} \\rangle = 0.0026$"
      ],
      "text/plain": [
       "<IPython.core.display.Math object>"
      ]
     },
     "metadata": {},
     "output_type": "display_data"
    },
    {
     "data": {
      "text/latex": [
       "$\\displaystyle \\langle \\Sigma(\\lambda^{ 2 }), Z_{1} \\otimes Z_{3} \\rangle = -0.3915$"
      ],
      "text/plain": [
       "<IPython.core.display.Math object>"
      ]
     },
     "metadata": {},
     "output_type": "display_data"
    },
    {
     "data": {
      "text/latex": [
       "$\\displaystyle \\langle \\Sigma(\\lambda^{ 2 }), Z_{2}Z_{3} \\rangle = 0.0030$"
      ],
      "text/plain": [
       "<IPython.core.display.Math object>"
      ]
     },
     "metadata": {},
     "output_type": "display_data"
    },
    {
     "data": {
      "text/latex": [
       "$\\displaystyle \\langle \\Sigma(\\lambda^{ 98 }), Z_{1} \\otimes Z_{3} \\rangle = -0.4506$"
      ],
      "text/plain": [
       "<IPython.core.display.Math object>"
      ]
     },
     "metadata": {},
     "output_type": "display_data"
    },
    {
     "data": {
      "text/latex": [
       "$\\displaystyle \\langle \\Sigma(\\lambda^{ 98 }), Z_{2}Z_{3} \\rangle = 0.0028$"
      ],
      "text/plain": [
       "<IPython.core.display.Math object>"
      ]
     },
     "metadata": {},
     "output_type": "display_data"
    }
   ],
   "source": [
    "# Example usage\n",
    "# Display all signatures\n",
    "# display_signatures(df)\n",
    "\n",
    "# Display signatures for specific landscapes\n",
    "# display_signatures(df, landscapes=[1, 2])\n",
    "\n",
    "# Display signatures for specific expressions\n",
    "# display_signatures(df, expressions=[\"[1][23]\", \"[2][34]\"])\n",
    "\n",
    "# Display signatures for specific landscapes and expressions\n",
    "display_signatures(df, landscapes=[1, 2, 98], expressions=[\"[1][3]\", \"[23]\"])"
   ]
  },
  {
   "cell_type": "markdown",
   "id": "6a219039-8ea8-4f2a-b525-8b8399a84cc3",
   "metadata": {},
   "source": [
    "### You can use the function below to visualize any landscape from your dataset, truncated at the selected 'trunc_level'"
   ]
  },
  {
   "cell_type": "code",
   "execution_count": 24,
   "id": "aa54ce00-3b62-4fd1-aaf3-adbcc1f3c054",
   "metadata": {},
   "outputs": [],
   "source": [
    "import numpy as np\n",
    "import matplotlib.pyplot as plt\n",
    "\n",
    "def visualize_landscape(time_series, time = global_eps, figsize=(6, 4), title='Persistence Landscape'):\n",
    "    \"\"\"\n",
    "    Visualize a persistence landscape given its time-series representation.\n",
    "    \n",
    "    Parameters:\n",
    "      time_series : numpy.ndarray\n",
    "          A NumPy array of shape (l+1, T) where the last row contains the \n",
    "          epsilon (time) values and the first l rows contain the landscape levels.\n",
    "      figsize : tuple, optional\n",
    "          Figure size for the plot (default is (6, 4)).\n",
    "      title : str, optional\n",
    "          Title of the plot.\n",
    "    \"\"\"\n",
    "    # Extract the epsilon scale (x-axis) from the last row.\n",
    "    # time = time_series[-1, :]\n",
    "\n",
    "    # Determine the number of levels: all rows except the last one.\n",
    "    num_levels = time_series.shape[0]\n",
    "\n",
    "    plt.figure(figsize=figsize)\n",
    "\n",
    "    # Generate a list of colors using a colormap (here using 'viridis').\n",
    "    cmap = plt.get_cmap('viridis')\n",
    "    colors = [cmap(i / num_levels) for i in range(num_levels)]\n",
    "\n",
    "    # Generate labels for each level using LaTeX (e.g., $\\lambda_1$, $\\lambda_2$, ...)\n",
    "    labels = [rf'$\\lambda_{{{i+1}}}$' for i in range(num_levels)]\n",
    "\n",
    "    # Plot each level's landscape (each row from 0 to num_levels-1).\n",
    "    for lev in range(num_levels):\n",
    "        plt.plot(time, time_series[lev, :], label=labels[lev], color=colors[lev], alpha=0.7)\n",
    "\n",
    "    plt.xlabel(r'$\\varepsilon$')\n",
    "    plt.ylabel('Landscape Value')\n",
    "    plt.title(title)\n",
    "    plt.legend()\n",
    "    plt.grid(True)\n",
    "    plt.show()"
   ]
  },
  {
   "cell_type": "code",
   "execution_count": 25,
   "id": "87abd22b-f703-47a2-9564-c1c2ef5affef",
   "metadata": {},
   "outputs": [
    {
     "data": {
      "image/png": "[encoded data removed]",
      "text/plain": [
       "<Figure size 600x400 with 1 Axes>"
      ]
     },
     "metadata": {},
     "output_type": "display_data"
    }
   ],
   "source": [
    "# example usage\n",
    "visualize_landscape(landscape_array[0,:,:], global_eps)"
   ]
  }
 ],
 "metadata": {
  "kernelspec": {
   "display_name": "Python 3 (ipykernel)",
   "language": "python",
   "name": "python3"
  },
  "language_info": {
   "codemirror_mode": {
    "name": "ipython",
    "version": 3
   },
   "file_extension": ".py",
   "mimetype": "text/x-python",
   "name": "python",
   "nbconvert_exporter": "python",
   "pygments_lexer": "ipython3",
   "version": "3.9.21"
  }
 },
 "nbformat": 4,
 "nbformat_minor": 5
}
